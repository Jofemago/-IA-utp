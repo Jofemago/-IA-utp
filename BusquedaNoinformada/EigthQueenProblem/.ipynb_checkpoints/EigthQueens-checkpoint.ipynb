{
 "cells": [
  {
   "cell_type": "markdown",
   "metadata": {},
   "source": [
    "# SOLUTION TO THE PROBLEM OF THE 8 QUEENS\n"
   ]
  },
  {
   "cell_type": "markdown",
   "metadata": {},
   "source": [
    "how to locate N queens on a NxN board where they do not attack each other?, to solve this problem we will use the [Aima](https://github.com/aimacode) library."
   ]
  },
  {
   "cell_type": "code",
   "execution_count": 1,
   "metadata": {},
   "outputs": [],
   "source": [
    "from aima3.search import Problem\n",
    "from aima3.search import breadth_first_tree_search"
   ]
  },
  {
   "cell_type": "markdown",
   "metadata": {},
   "source": [
    "We will start defining the problem, for this we will create a class that inherits from the Problem class, some examples and information about the use of AIMA for search problems [here](https://github.com/aimacode/aima-python/blob/master/search.ipynb)."
   ]
  },
  {
   "cell_type": "code",
   "execution_count": 2,
   "metadata": {},
   "outputs": [],
   "source": [
    "class NQueens(Problem):\n",
    "    \n",
    "    def __init__(self,N):        \n",
    "        '''N is the number of queens to be placed in an array N * N'''\n",
    "        Problem.__init__(self, None)\n",
    "        self.initial = [[-1]*N, -1]\n",
    "        self.N = N\n",
    "        k = N -1\n",
    "        self.goal = (k*(k+1))/2 \n",
    "\n",
    "    \n",
    "    def actions(self, state):\n",
    "        \n",
    "        C = state[1]\n",
    "        L = self.GetFieldFree(state[0][:],C)\n",
    "        \n",
    "        #The elements that are -1 are where I can perform actions\n",
    "        resultactions = [i for i,x in enumerate(L) if x== -1]\n",
    "        del(L)\n",
    "        return resultactions\n",
    "        \n",
    "    \n",
    "    def GetFieldFree(self, L, C):\n",
    "        ''' Mark with infinite the cells where\n",
    "        you can not place a queen since this cell is being\n",
    "        attacked by another queen.'''\n",
    "        \n",
    "        if C > 0 :\n",
    "            \n",
    "            for i in range(len(L)):\n",
    "                \n",
    "                if L[i] != -1 and L[i] != float('inf'):\n",
    "                    delta = C - L[i]\n",
    "                    up = i - delta\n",
    "                    down = i + delta\n",
    "                    \n",
    "                    if up >= 0 and up < len(L) and L[up] == -1:\n",
    "\n",
    "                        L[up] = float('inf')\n",
    "\n",
    "                    if down >= 0 and down < len(L) and L[down] == -1:\n",
    "                        \n",
    "                        L[down] = float('inf')\n",
    "            \n",
    "        return L\n",
    "            \n",
    "\n",
    "    def goal_test(self, state):\n",
    "        \n",
    "        L = state[0]\n",
    "        st = 0\n",
    "        \n",
    "        for i in L:\n",
    "            \n",
    "            st += i\n",
    "        \n",
    "        return st == self.goal\n",
    "        \n",
    "\n",
    "    def result(self, state, action):\n",
    "        \n",
    "        C = state[1]\n",
    "        NL = state[0][:]\n",
    "        NL[action] = C\n",
    "        \n",
    "        return [NL, C + 1]\n",
    "        \n",
    "\n",
    "\n",
    "NQUEENS = NQueens(8)"
   ]
  },
  {
   "cell_type": "markdown",
   "metadata": {},
   "source": [
    "Each of the states of the problem will be a list of N positions containing numbers from -1 to N-1 including infinity and a number what we call C and that will indicate for each state in which column of the board the locate of the queen.\n",
    "\n",
    "take into account the following indications.:\n",
    "\n",
    "    1. within the list the number -1 represents a free space.\n",
    "    \n",
    "    2. the numbers from 0 to N-1 represent in which column the queens are added, this gives us the\n",
    "    possibility of representing the problem with a list and not with a matrix since for each row only a \n",
    "    queen goes, and I can decrease everything to an arrangement, in which when the problem is solved each \n",
    "    position will represent the row and its content the column (in a few words the position of each queen).\n",
    "    \n",
    "    3. The infinite value in the list that returns the function getFieldFree, means sites where you can not\n",
    "    locate queens since they are being attacked by others, from here you will take the positions that have \n",
    "    -1 as free positions and the positions will be the possible actions that will take each state.\n",
    "    \n",
    "    4. Goal is the sum of all elements from 1 to N-1, which would be 1 + 2 + 3 + ... + N-1, assuming that \n",
    "    k= N-1 this summation can be found with this formula (K ( K + 1)) / 2.\n",
    "    "
   ]
  },
  {
   "cell_type": "code",
   "execution_count": 3,
   "metadata": {},
   "outputs": [
    {
     "name": "stdout",
     "output_type": "stream",
     "text": [
      "[0, 6, 4, 7, 1, 3, 5, 2]\n"
     ]
    }
   ],
   "source": [
    "NodeSolution = breadth_first_tree_search(NQUEENS)\n",
    "print(NodeSolution.state[0])"
   ]
  },
  {
   "cell_type": "markdown",
   "metadata": {},
   "source": [
    "# Promises\n",
    "\n",
    "\n",
    "1. raphically display the abstraction of the array in an array\n",
    "\n",
    "2. show each of the states through which it was passed to arrive at the solution.\n"
   ]
  },
  {
   "cell_type": "markdown",
   "metadata": {},
   "source": [
    "MAKE BY: JOHAN FELIPE MARIN G"
   ]
  },
  {
   "cell_type": "markdown",
   "metadata": {},
   "source": [
    "Note: Based on the AIMA library, some code extracts were taken from the search.py library"
   ]
  }
 ],
 "metadata": {
  "kernelspec": {
   "display_name": "Python 3",
   "language": "python",
   "name": "python3"
  },
  "language_info": {
   "codemirror_mode": {
    "name": "ipython",
    "version": 3
   },
   "file_extension": ".py",
   "mimetype": "text/x-python",
   "name": "python",
   "nbconvert_exporter": "python",
   "pygments_lexer": "ipython3",
   "version": "3.5.3"
  }
 },
 "nbformat": 4,
 "nbformat_minor": 2
}
