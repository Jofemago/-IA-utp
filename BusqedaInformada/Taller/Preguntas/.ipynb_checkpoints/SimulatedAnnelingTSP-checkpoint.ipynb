{
 "cells": [
  {
   "cell_type": "markdown",
   "metadata": {},
   "source": [
    "# SIMULATED ANNEALING\n",
    "\n",
    "En este cuaderno de jupyter se implementara una el algoritmo de recocido simulado para solucionar una instacia del problema TSP.\n",
    "\n",
    "primero que todo haremos el parseo de esta [instancia](http://elib.zib.de/pub/mp-testdata/tsp/tsplib/tsp/a280.tsp), tambien traemos su ruta optima para comparaciones al final del proceso."
   ]
  },
  {
   "cell_type": "code",
   "execution_count": 6,
   "metadata": {},
   "outputs": [],
   "source": [
    "City = complex\n",
    "\n",
    "\n",
    "setCitys = 'archivos/a280.txt' #cargamos el archivo de las coordenadas\n",
    "\n",
    "puntos = {}\n",
    "\n",
    "archivo = open(setCitys, 'rt')\n",
    "inicio, fin , i= 6, 286, 0\n",
    "for linea in archivo:\n",
    "    if i < 6:\n",
    "        i += 1\n",
    "        continue\n",
    "    if i < 286:\n",
    "        linea = linea.replace('\\n', '')\n",
    "        #print(linea.split(' '))\n",
    "        K = [int(k) for k in linea.split(' ') if k != '']\n",
    "        puntos[K[0]] = City(K[1] , K[2])\n",
    "    i += 1\n",
    "    \n",
    "    \n",
    "    \n",
    "setOpt = 'archivos/a280.opt.txt' #cargamos la ruta optima\n",
    "\n",
    "optimo = []\n",
    "\n",
    "archivo = open(setOpt, 'rt')\n",
    "inicio, fin , i= 4, 284, 0\n",
    "for linea in archivo:\n",
    "    if i < inicio:\n",
    "        i+= 1\n",
    "        continue\n",
    "    if i < fin:\n",
    "        optimo.append(puntos[int(linea.replace('\\n','').replace(' ',''))])\n",
    "    i+=1"
   ]
  },
  {
   "cell_type": "markdown",
   "metadata": {},
   "source": [
    "Ahora procederemos a importar lo que necesitamos de la liberia Aima que es con al cual vamos a solucionar el problema"
   ]
  },
  {
   "cell_type": "code",
   "execution_count": 58,
   "metadata": {},
   "outputs": [],
   "source": [
    "from aima3.search import Problem\n",
    "from aima3.search import Node\n",
    "from aima3.search import simulated_annealing\n",
    "import random\n",
    "import math\n",
    "\n",
    "def distance(A, B): return abs(A - B)"
   ]
  },
  {
   "cell_type": "markdown",
   "metadata": {},
   "source": [
    "Ahora definiremos el problema."
   ]
  },
  {
   "cell_type": "code",
   "execution_count": 81,
   "metadata": {},
   "outputs": [],
   "source": [
    "class TSP_problem(Problem):\n",
    "\n",
    "    \"\"\" subclass of Problem to define various functions \"\"\"\n",
    "\n",
    "    def two_opt(self, state):\n",
    "        \"\"\" Neighbour generating function for Traveling Salesman Problem \"\"\"\n",
    "        neighbour_state = state[:]\n",
    "        left = random.randint(0, len(neighbour_state) - 1)\n",
    "        right = random.randint(0, len(neighbour_state) - 1)\n",
    "        if left > right:\n",
    "            left, right = right, left\n",
    "        neighbour_state[left: right + 1] = reversed(neighbour_state[left: right + 1])\n",
    "        return neighbour_state\n",
    "\n",
    "    def actions(self, state):\n",
    "        \"\"\" action that can be excuted in given state \"\"\"\n",
    "        return [self.two_opt]\n",
    "\n",
    "    def result(self, state, action):\n",
    "        \"\"\"  result after applying the given action on the given state \"\"\"\n",
    "        return action(state)\n",
    "\n",
    "    def path_cost(self, c, state1, action, tour):\n",
    "        \"\"\" total distance for the Traveling Salesman to be covered if in state2  \"\"\"\n",
    "        return sum(distance(tour[i - 1], tour[i]) \n",
    "               for i in range(len(tour)))\n",
    "\n",
    "    def value(self, state):\n",
    "        \"\"\" value of path cost given negative for the given state \"\"\"\n",
    "        return  -1 * self.path_cost(None, None, None, state)"
   ]
  },
  {
   "cell_type": "markdown",
   "metadata": {},
   "source": [
    "Ahora encontramos la solucion del problema"
   ]
  },
  {
   "cell_type": "code",
   "execution_count": 82,
   "metadata": {},
   "outputs": [],
   "source": [
    "tsp = TSP_problem(list(puntos.values()))\n",
    "solution = simulated_annealing(tsp)"
   ]
  },
  {
   "cell_type": "markdown",
   "metadata": {},
   "source": [
    "Ahora compararemos la solucion que nos entrega el algoritmo con la solucion optima que tenemos ya guardada"
   ]
  },
  {
   "cell_type": "code",
   "execution_count": 83,
   "metadata": {},
   "outputs": [
    {
     "name": "stdout",
     "output_type": "stream",
     "text": [
      " 2818.6216422394746\n",
      " 2586.769647563161\n",
      " 2859.2246226040165\n"
     ]
    }
   ],
   "source": [
    "def tour_length(tour):\n",
    "    \"\"\"The total of distances between each pair of consecutive cities in the tour.\n",
    "    This includes the last-to-first, distance(tour[-1], tour[0])\"\"\"\n",
    "    return sum(distance(tour[i - 1], tour[i]) \n",
    "               for i in range(len(tour)))\n",
    "\n",
    "\n",
    "\n",
    "TamañoInicial = tour_length(list(puntos.values()))\n",
    "TamañoOptimo = tour_length(optimo)\n",
    "TamañoRecocido =  tour_length(solution)\n",
    "\n",
    "\n",
    "print('', TamañoInicial)\n",
    "print('' , TamañoOptimo)\n",
    "print('', TamañoRecocido)"
   ]
  }
 ],
 "metadata": {
  "kernelspec": {
   "display_name": "Python 3",
   "language": "python",
   "name": "python3"
  },
  "language_info": {
   "codemirror_mode": {
    "name": "ipython",
    "version": 3
   },
   "file_extension": ".py",
   "mimetype": "text/x-python",
   "name": "python",
   "nbconvert_exporter": "python",
   "pygments_lexer": "ipython3",
   "version": "3.5.3"
  }
 },
 "nbformat": 4,
 "nbformat_minor": 2
}
