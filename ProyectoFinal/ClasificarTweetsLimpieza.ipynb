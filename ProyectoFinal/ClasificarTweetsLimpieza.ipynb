{
 "cells": [
  {
   "cell_type": "markdown",
   "metadata": {},
   "source": [
    "# CLASIFICACIÓN DE TWETS CON LIMPIEZA"
   ]
  },
  {
   "cell_type": "markdown",
   "metadata": {},
   "source": [
    "En este libro analizaremos tweets, los cuales se buscarán que sean sobre los debates de las elecciones colombianas, para ver que tipo de usuarios existen en twitter y se tratará de clasificar los comentarios."
   ]
  },
  {
   "cell_type": "markdown",
   "metadata": {},
   "source": [
    "Primero que todo obtuvimos unos cuantos twets por medio de la herramienta [twint](https://github.com/haccer/twint), con la cual podemos obtener discusiones alrededor de hashtags.\n",
    "\n",
    "nuestro archivo se llamara output.csv."
   ]
  },
  {
   "cell_type": "markdown",
   "metadata": {},
   "source": [
    "Cargaremos el archivo con pandas"
   ]
  },
  {
   "cell_type": "code",
   "execution_count": 3,
   "metadata": {},
   "outputs": [],
   "source": [
    "import pandas as pd\n",
    "import numpy as np\n",
    "from sklearn.cluster import KMeans \n",
    "#importamos la libreria que realizara los grupos\n",
    "import matplotlib.pyplot as plt\n",
    "%matplotlib inline \n",
    "datos = pd.read_csv('output.csv', header = 0)"
   ]
  },
  {
   "cell_type": "markdown",
   "metadata": {},
   "source": [
    "Ahora vamos a ver como se estructuran los datos"
   ]
  },
  {
   "cell_type": "code",
   "execution_count": 6,
   "metadata": {},
   "outputs": [
    {
     "name": "stdout",
     "output_type": "stream",
     "text": [
      "                   id        date      time timezone             user_id  \\\n",
      "0  991850911835226112  2018-05-02  01:24:19      GMT          1713348180   \n",
      "1  991768558282604545  2018-05-02  19:57:05      GMT  876316397332307968   \n",
      "2  991755106751340547  2018-05-02  19:03:38      GMT          1713348180   \n",
      "3  991527191681945600  2018-05-01  03:57:58      GMT           438683266   \n",
      "4  991499060073914368  2018-05-01  02:06:11      GMT           138093954   \n",
      "\n",
      "       username                                              tweet  replies  \\\n",
      "0    dinativa86  @MoralesViviane @IvanDuque @JulyTrsplcs @adana...        0   \n",
      "1  JuanEGalvis1  A todos los colombianos y votantes, POR FAVOR ...        0   \n",
      "2    dinativa86  @IvanDuque @Olgallego El mismo que en #ElPaisD...        0   \n",
      "3   Lorenssssss  #YoVotoFajardo Por un país ni de izquierda ni ...        0   \n",
      "4         mmpa9  @Colcheck tienen el chequeo de las respuestas ...        0   \n",
      "\n",
      "   retweets  likes  location                                        hashtags  \\\n",
      "0         0      0       NaN                         ['#ElPaisDeLosJovenes']   \n",
      "1         0      0       NaN  ['#EleccionesColombia', '#ElPaisDeLosJovenes']   \n",
      "2         0      0       NaN                         ['#ElPaisDeLosJovenes']   \n",
      "3         0      4       NaN       ['#YoVotoFajardo', '#ElPaisDeLosJovenes']   \n",
      "4         0      0       NaN                         ['#ElPaisDeLosJovenes']   \n",
      "\n",
      "                                                link  \n",
      "0  https://twitter.com/dinativa86/status/99185091...  \n",
      "1  https://twitter.com/JuanEGalvis1/status/991768...  \n",
      "2  https://twitter.com/dinativa86/status/99175510...  \n",
      "3  https://twitter.com/Lorenssssss/status/9915271...  \n",
      "4  https://twitter.com/mmpa9/status/9914990600739...  \n"
     ]
    }
   ],
   "source": [
    "print(datos.ix[0:4])"
   ]
  },
  {
   "cell_type": "markdown",
   "metadata": {},
   "source": [
    "Aqui podemos ver todos los atributos, de los cuales solo nos importan los twets"
   ]
  },
  {
   "cell_type": "code",
   "execution_count": 8,
   "metadata": {},
   "outputs": [
    {
     "name": "stdout",
     "output_type": "stream",
     "text": [
      "0    @MoralesViviane @IvanDuque @JulyTrsplcs @adana...\n",
      "1    A todos los colombianos y votantes, POR FAVOR ...\n",
      "2    @IvanDuque @Olgallego El mismo que en #ElPaisD...\n",
      "3    #YoVotoFajardo Por un país ni de izquierda ni ...\n",
      "4    @Colcheck tienen el chequeo de las respuestas ...\n",
      "5    Por diferente que sea tu opinión, por pequeño ...\n",
      "Name: tweet, dtype: object\n",
      "3660\n",
      "<class 'str'>\n"
     ]
    }
   ],
   "source": [
    "tweets = datos['tweet']\n",
    "print(tweets.ix[0:5])\n",
    "#tweets = list(tweets.ix[0:2999])\n",
    "print(len(tweets))\n",
    "\n",
    "\n",
    "#reviso el tipo de dato de un tweet\n",
    "print(type(tweets[0]))"
   ]
  },
  {
   "cell_type": "code",
   "execution_count": 9,
   "metadata": {},
   "outputs": [
    {
     "name": "stdout",
     "output_type": "stream",
     "text": [
      "@MoralesViviane @IvanDuque @JulyTrsplcs @adanagueo Pero si duque en #ElPaisDeLosJovenes  dijo que creía en la vida desde la concepción pero esta deacuerdo con el aborto en los tres casos que despenaliza la ley, osea que para el, esta bien matar. Yo creo que eso es peor que estar de acuerdo con el aborto creyendo que no hay vida.\n",
      "A todos los colombianos y votantes, POR FAVOR no voten por duque por miedo a petro, o por petro por miedo a Duque.Vote a conciencia y por el que considere su mejor opción.#EleccionesColombia #ElPaisDeLosJovenes\n"
     ]
    }
   ],
   "source": [
    "import spacy\n",
    "print(tweets[0])\n",
    "print(tweets[1])\n",
    "nlp = spacy.load('es')\n",
    "\n",
    "doc1 = nlp(tweets[0])\n",
    "doc2 = nlp(tweets[1])"
   ]
  },
  {
   "cell_type": "markdown",
   "metadata": {},
   "source": [
    "ahora lo que vamos a hacer es verificar que tan sililares son el primer y segundo tweet de los tweets que tenemos hasta ahora."
   ]
  },
  {
   "cell_type": "code",
   "execution_count": 10,
   "metadata": {},
   "outputs": [
    {
     "name": "stdout",
     "output_type": "stream",
     "text": [
      "0.6687402392079549\n",
      "0.6687402392079549\n"
     ]
    }
   ],
   "source": [
    "print(doc1.similarity(doc2))\n",
    "print(doc2.similarity(doc1))"
   ]
  },
  {
   "cell_type": "markdown",
   "metadata": {},
   "source": [
    "## LIMPIEZA DE DATOS"
   ]
  },
  {
   "cell_type": "code",
   "execution_count": 14,
   "metadata": {},
   "outputs": [],
   "source": [
    "import nltk\n",
    "import re\n",
    "from nltk.corpus import stopwords"
   ]
  },
  {
   "cell_type": "code",
   "execution_count": 15,
   "metadata": {},
   "outputs": [],
   "source": [
    "twtsPreproce = []\n",
    "stopwords2 = ('http','debate','caribe','youtube','be','youtu','https')\n",
    "#ahora limpiamos todos los tweets\n",
    "for tw in tweets:\n",
    "    w = re.sub('(http(s?)://)(w{3})(\\.\\w+)(\\.(\\w{3})(\\.\\w{2})?)(/.*)?(\\s)|(<.*>)',' ',tw)\n",
    "    w = re.sub('(http(s?)://)?(\\w+\\.)?(\\w+\\.\\w{3}(/.+)?)',' ',w).lower()\n",
    "    x = re.sub('[^a-zA-Zóáéíúñ]|https|goo|gl',' ',w).split(' ')\n",
    "    l = [word for word in x if (not word in set(stopwords.words('spanish'))) and (not word in stopwords2) and word != '']\n",
    "    twtsPreproce.append(l)"
   ]
  },
  {
   "cell_type": "code",
   "execution_count": 17,
   "metadata": {},
   "outputs": [
    {
     "name": "stdout",
     "output_type": "stream",
     "text": [
      "caracolradio delacallehum marcha atrás acabar maligno acuerdo d extorsión sabe p q pq momento peor debemos retomar gbno ud acuerdo falsa paz llevaron pasado peor elpaísdelosjóvenes elgrandebate\n",
      "3660\n"
     ]
    }
   ],
   "source": [
    "twlimpios = []\n",
    "for e in twtsPreproce:\n",
    "    twlimpios.append(' '.join(e))\n",
    "\n",
    "print(twlimpios[15])\n",
    "print(len(twlimpios))"
   ]
  },
  {
   "cell_type": "markdown",
   "metadata": {},
   "source": [
    "Ahora se creará un arreglo que sera NxN siendo N el numero de tweets que tengamos y este arreglo tenga la comparacion de similaridad de todos contra todos."
   ]
  },
  {
   "cell_type": "code",
   "execution_count": 18,
   "metadata": {},
   "outputs": [
    {
     "name": "stdout",
     "output_type": "stream",
     "text": [
      "3660\n"
     ]
    }
   ],
   "source": [
    "NroTweets = len(tweets)\n",
    "print(NroTweets)\n",
    "#prueba = 10\n",
    "Msimilaridad = np.zeros((NroTweets, NroTweets))\n",
    "twToken = [nlp(tw) for tw in twlimpios]"
   ]
  },
  {
   "cell_type": "code",
   "execution_count": 19,
   "metadata": {},
   "outputs": [],
   "source": [
    "\n",
    "for i in range(NroTweets):\n",
    "    for j in range(NroTweets):\n",
    "        Msimilaridad[i][j] = twToken[i].similarity(twToken[j])\n"
   ]
  },
  {
   "cell_type": "code",
   "execution_count": 20,
   "metadata": {},
   "outputs": [
    {
     "name": "stdout",
     "output_type": "stream",
     "text": [
      "[[1.         0.77936545 0.90326897 ... 0.49478886 0.62288755 0.77101169]\n",
      " [0.77936545 1.         0.84692904 ... 0.54060489 0.57516563 0.6983601 ]\n",
      " [0.90326897 0.84692904 1.         ... 0.6461011  0.66973003 0.83687872]\n",
      " ...\n",
      " [0.49478886 0.54060489 0.6461011  ... 1.         0.56092362 0.70625419]\n",
      " [0.62288755 0.57516563 0.66973003 ... 0.56092362 1.         0.57579739]\n",
      " [0.77101169 0.6983601  0.83687872 ... 0.70625419 0.57579739 1.        ]]\n"
     ]
    }
   ],
   "source": [
    "print(Msimilaridad)"
   ]
  },
  {
   "cell_type": "markdown",
   "metadata": {},
   "source": [
    "Esto lo veremos como una matriz de distancias, ahora lo que deseamos es crear grupos dependiendo de esas distancias, grupos en los cuales los tweets tengan similaridades mayores del 95%, por empezar usaremos un diccionario de la siguiente manera y validaremos que los tweets sean un poco parecidos."
   ]
  },
  {
   "cell_type": "code",
   "execution_count": 11,
   "metadata": {},
   "outputs": [],
   "source": [
    "Grupos = {}\n",
    "for tw in range(NroTweets):\n",
    "    Grupos[tweets[tw]] = []\n",
    "    for cmptw in range(NroTweets):\n",
    "        if Msimilaridad[tw][cmptw] >= 0.90:\n",
    "            #if tw != cmptw:\n",
    "            Grupos[tweets[tw]].append(tweets[cmptw])\n",
    "            "
   ]
  },
  {
   "cell_type": "markdown",
   "metadata": {},
   "source": [
    "Ahora compararemos par de grupos para ver que tanta conexion existe"
   ]
  },
  {
   "cell_type": "code",
   "execution_count": 12,
   "metadata": {},
   "outputs": [
    {
     "name": "stdout",
     "output_type": "stream",
     "text": [
      "3000\n"
     ]
    }
   ],
   "source": [
    "cant = 0\n",
    "for tw in range(NroTweets):\n",
    "    if len(Grupos[tweets[tw]]) > 0:\n",
    "        cant += 1\n",
    "\n",
    "print(cant)\n",
    "\n"
   ]
  },
  {
   "cell_type": "code",
   "execution_count": 60,
   "metadata": {},
   "outputs": [],
   "source": [
    "\n",
    "\n",
    "grordenado = sorted(Grupos.values(), key = lambda k : len(k))\n",
    "tambar = [len(gr) for gr in grordenado]\n",
    "X = range(len(tambar))\n",
    "        \n",
    "        "
   ]
  },
  {
   "cell_type": "code",
   "execution_count": 61,
   "metadata": {},
   "outputs": [
    {
     "data": {
      "image/png": "[encoded data removed]",
      "text/plain": [
       "<matplotlib.figure.Figure at 0x7f121fad82e8>"
      ]
     },
     "metadata": {},
     "output_type": "display_data"
    }
   ],
   "source": [
    "plt.bar(X, tambar, label = 'Grupos basicos')\n",
    "plt.show()\n"
   ]
  },
  {
   "cell_type": "code",
   "execution_count": 62,
   "metadata": {},
   "outputs": [
    {
     "name": "stdout",
     "output_type": "stream",
     "text": [
      "92\n"
     ]
    }
   ],
   "source": [
    "#obtener los grupos que tengan mas de 10 tweets\n",
    "\n",
    "similares = []\n",
    "for e in grordenado:\n",
    "    if len(e) >= 50:\n",
    "        similares.append(e)\n",
    "#print(tambar)\n",
    "print(len(similares))"
   ]
  },
  {
   "cell_type": "markdown",
   "metadata": {},
   "source": [
    "# AGRUPANDO POR SIMILARIDAD"
   ]
  },
  {
   "cell_type": "markdown",
   "metadata": {},
   "source": [
    "Ahora lo que haremos será usar un algoritmo de clasificación de la libreria sklearn , que se llama KMEANS, para crear centroides y que los tweets se ubiquen alrededor de estos, arreglaremos un poco los datos para que sean distancias minimas, asi que vamos a invertir los valores de que hay, tomaremos 1 y restaremos la similaridad que existe, para que ahora los tweets mas parecidos sean los que menos valor tienen, tomando esto como los que estan mas cerca unos de otros."
   ]
  },
  {
   "cell_type": "code",
   "execution_count": 21,
   "metadata": {},
   "outputs": [
    {
     "name": "stdout",
     "output_type": "stream",
     "text": [
      "[[0.         0.22063455 0.09673103 ... 0.50521114 0.37711245 0.22898831]\n",
      " [0.22063455 0.         0.15307096 ... 0.45939511 0.42483437 0.3016399 ]\n",
      " [0.09673103 0.15307096 0.         ... 0.3538989  0.33026997 0.16312128]\n",
      " ...\n",
      " [0.50521114 0.45939511 0.3538989  ... 0.         0.43907638 0.29374581]\n",
      " [0.37711245 0.42483437 0.33026997 ... 0.43907638 0.         0.42420261]\n",
      " [0.22898831 0.3016399  0.16312128 ... 0.29374581 0.42420261 0.        ]]\n"
     ]
    }
   ],
   "source": [
    "FixMtzSimilaridad = np.zeros((NroTweets, NroTweets))\n",
    "\n",
    "for i in range(NroTweets):\n",
    "    for j in range(NroTweets):\n",
    "        \n",
    "        FixMtzSimilaridad[i][j] = 1 - Msimilaridad[i][j]\n",
    "        \n",
    "print(FixMtzSimilaridad)"
   ]
  },
  {
   "cell_type": "markdown",
   "metadata": {},
   "source": [
    "Se hará un agrupamiento de tweets, por su similaridad con ayuda del algoritmo [KMeans ](http://scikit-learn.org/stable/modules/generated/sklearn.cluster.KMeans.html)"
   ]
  },
  {
   "cell_type": "markdown",
   "metadata": {},
   "source": [
    "nos basaremos en los modelos de [super data science](https://www.superdatascience.com/machine-learning/) para poder escoger un buen número de centroides y realizar las respectivas graficas"
   ]
  },
  {
   "cell_type": "code",
   "execution_count": 22,
   "metadata": {},
   "outputs": [],
   "source": [
    "\n",
    "#vamos a calcular cual es mejor numero de cluster para crear dentro del modelo\n",
    "wcss = []\n",
    "for i in range(1, 11):\n",
    "    kmeans = KMeans(n_clusters = i, init = 'k-means++', random_state = 42, precompute_distances= False)\n",
    "    kmeans.fit(FixMtzSimilaridad)\n",
    "    wcss.append(kmeans.inertia_)\n"
   ]
  },
  {
   "cell_type": "markdown",
   "metadata": {},
   "source": [
    "Ahora vamos a graficar para escoger un buen número de clusters"
   ]
  },
  {
   "cell_type": "code",
   "execution_count": 23,
   "metadata": {},
   "outputs": [
    {
     "data": {
      "image/png": "[encoded data removed]",
      "text/plain": [
       "<matplotlib.figure.Figure at 0x7fd28c7f37f0>"
      ]
     },
     "metadata": {},
     "output_type": "display_data"
    }
   ],
   "source": [
    "plt.plot(range(1, 11), wcss)\n",
    "plt.title('The Elbow Method')\n",
    "plt.xlabel('Number of clusters')\n",
    "plt.ylabel('WCSS')\n",
    "plt.show()"
   ]
  },
  {
   "cell_type": "markdown",
   "metadata": {},
   "source": [
    "Para este caso, y con esta cantidad de tweets podemos encontrar que hay mayor inercia usando pocos centroides, por tal motivo se va escoger el valor de 2"
   ]
  },
  {
   "cell_type": "code",
   "execution_count": 32,
   "metadata": {},
   "outputs": [],
   "source": [
    "\n",
    "\n",
    "kmeans = KMeans(n_clusters = 3 ,random_state = 42, precompute_distances = False).fit(FixMtzSimilaridad)\n",
    "y_kmeans = kmeans.fit_predict(FixMtzSimilaridad)\n"
   ]
  },
  {
   "cell_type": "markdown",
   "metadata": {},
   "source": [
    "Ahora tenemos en el metodo labels_ , para cada tweet en que grupo esta, como podemos ver hay 8 grupos, y 3660 tweets y el primer tweet esta en el grupo 6"
   ]
  },
  {
   "cell_type": "code",
   "execution_count": 33,
   "metadata": {},
   "outputs": [
    {
     "name": "stdout",
     "output_type": "stream",
     "text": [
      "Cantidad de grupos existentes:  3\n",
      "Cantidad de tweets:  3660\n",
      "Grupo del primer Tweet:  0\n"
     ]
    }
   ],
   "source": [
    "print(\"Cantidad de grupos existentes: \",len(set(kmeans.labels_)))\n",
    "print(\"Cantidad de tweets: \", len(kmeans.labels_))\n",
    "print(\"Grupo del primer Tweet: \",kmeans.labels_[0])"
   ]
  },
  {
   "cell_type": "code",
   "execution_count": 34,
   "metadata": {},
   "outputs": [
    {
     "name": "stdout",
     "output_type": "stream",
     "text": [
      "KMeans(algorithm='auto', copy_x=True, init='k-means++', max_iter=300,\n",
      "    n_clusters=3, n_init=10, n_jobs=1, precompute_distances=False,\n",
      "    random_state=42, tol=0.0001, verbose=0)\n",
      "[0 0 0 ... 2 2 0]\n"
     ]
    }
   ],
   "source": [
    "print(kmeans)\n",
    "print(y_kmeans)"
   ]
  },
  {
   "cell_type": "markdown",
   "metadata": {},
   "source": [
    "Ahora vamos a visualizar los grupos que tenemos para ver que tan bien quedaron nuestros grupos, para esto primero importamos la libreria matplotlib."
   ]
  },
  {
   "cell_type": "code",
   "execution_count": 35,
   "metadata": {},
   "outputs": [
    {
     "data": {
      "image/png": "[encoded data removed]",
      "text/plain": [
       "<matplotlib.figure.Figure at 0x7fd27a58fb38>"
      ]
     },
     "metadata": {},
     "output_type": "display_data"
    }
   ],
   "source": [
    "\n",
    "plt.figure(figsize  = (15,15))\n",
    "\n",
    "# Visualising the clusters\n",
    "plt.scatter(FixMtzSimilaridad[y_kmeans == 0, 0], FixMtzSimilaridad[y_kmeans == 0, 1], s = 100, c = 'red', label = 'Cluster 1')\n",
    "plt.scatter(FixMtzSimilaridad[y_kmeans == 1, 0], FixMtzSimilaridad[y_kmeans == 1, 1], s = 100, c = 'blue', label = 'Cluster 2')\n",
    "plt.scatter(FixMtzSimilaridad[y_kmeans == 2, 0], FixMtzSimilaridad[y_kmeans == 2, 1], s = 100, c = 'green', label = 'Cluster 3')\n",
    "#plt.scatter(FixMtzSimilaridad[y_kmeans == 3, 0], FixMtzSimilaridad[y_kmeans == 3, 1], s = 100, c = 'cyan', label = 'Cluster 4')\n",
    "#plt.scatter(FixMtzSimilaridad[y_kmeans == 4, 0], FixMtzSimilaridad[y_kmeans == 4, 1], s = 100, c = 'magenta', label = 'Cluster 5')\n",
    "plt.scatter(kmeans.cluster_centers_[:, 0], kmeans.cluster_centers_[:, 1], s = 300, c = 'yellow', label = 'Centroids')\n",
    "plt.title('Clusters of customers')\n",
    "plt.xlabel('Annual Income (k$)')\n",
    "plt.ylabel('Spending Score (1-100)')\n",
    "plt.legend()\n",
    "plt.show()"
   ]
  },
  {
   "cell_type": "code",
   "execution_count": 36,
   "metadata": {},
   "outputs": [],
   "source": [
    "grupos = kmeans.labels_ # obtengo una lista del tamaño de los tweets \n",
    "#que indica a que grupo pertenece cada tweet\n",
    "\n",
    "grupo1 = []\n",
    "grupo2 = []\n",
    "grupo3 = []\n",
    "grupo4 = []\n",
    "\n",
    "for i in range(len(grupos)):\n",
    "    \n",
    "    if grupos[i] == 0:\n",
    "        grupo1.append(i)\n",
    "    elif grupos[i] == 1:\n",
    "        grupo2.append(i)\n",
    "    elif grupos[i] == 2:\n",
    "        grupo3.append(i)\n",
    "    elif grupos[i] == 3:\n",
    "        grupo4.append(i)\n"
   ]
  },
  {
   "cell_type": "markdown",
   "metadata": {},
   "source": [
    "Analizaremos un poco el grupo1 para ver la tematica de estos tweets"
   ]
  },
  {
   "cell_type": "code",
   "execution_count": 39,
   "metadata": {},
   "outputs": [
    {
     "name": "stdout",
     "output_type": "stream",
     "text": [
      "2198\n",
      "Después de ver #ElPaísDeLosJóvenes de @CaracolTV, quedé indeciso si votar por @petrogustavo o @DeLaCalleHum#YoVotoEnElExterior #ColombianosEnElExterior. #Elecciones2018 #EleccionesColombia #PilasConElVoto\n",
      "--\n",
      "Inclusive sin publico pero EN DIRECTO, por eso lo de #ElPaisDeLosJovenes no me llamo la atención.  https://twitter.com/bluradioco/status/986938714143232000 …\n",
      "--\n",
      "Todo seria mas fácil si @petrogustavo @sergio_fajardo @DeLaCalleHum se les diera la gana de unirse #ElPaisDeLosJovenes pero ni paz hay en esto.  https://twitter.com/petrogustavo/status/986795167972720640 …\n",
      "--\n",
      "Midan el nivel de la SOBERBIA, ARROGANCIA y DESPRECIO de los Obradoristas Maduros. Es el tipo de personas que llama tigres López Obrador.El mismo que dice que Venezuela es el cielo. #TodosSomosMéxico#AMLONo#ElPaisDeLosJovenes#NoSeamosIndiferentes#LoMismoDecíanEnVenezuela pic.twitter.com/c6PKaO9d7z\n",
      "--\n",
      "¿? Pero en #ElPaísDeLosJóvenes dijo totalmente lo opuesto a la familia de la forma en la que la plantea el @soyconservador #VargasLlerasIncoherente https://twitter.com/German_Vargas/status/986733854689021952 …\n",
      "--\n",
      "@IvanDuque @CeDemocratico Solucione no agresiones  <Emoji: Face with tears of joy><Emoji: Face with tears of joy><Emoji: Face with tears of joy> ustedes mismos le han sembrado el odio a la sociedad con su politica guerrerista con ayudas de los medios, @NTN24 llamaba de jóvenes de rebeldes por q estaba @petrogustavo y demostraron en #ElPaisDeLosJovenes que están más preparados que cualquiera  pic.twitter.com/xnA6BYuujU\n",
      "--\n",
      "Lunes a viernes atención médica. Reserva ahora 7474790843.Dr. Comonfort #UnidosGanamos #DeboDecir lo importante del chequeo médico #ElPaisDeLosJovenes #Mexico pic.twitter.com/kf1z5ijFtM\n",
      "--\n",
      "Me acabo de dar cuenta que @juliantrianana, quien peinó a Duque en #ElPaísDeLosJóvenes me sigue <Emoji: Smiling face with heart-shaped eyes>\n",
      "--\n",
      "@petrogustavo @bioramirez @_DianaDuqu Diana, creo que te tengo la respuesta : Petro sabe lo que está haciendo. Él sabe que su campaña está basada en cosas irrealizables, por eso  no va a foros donde le dan tiempo a las respuestas (como #ElPaísDeLosJóvenes) y prefiere las respuestas de 2 minutos tipo debate (y reina)\n",
      "--\n",
      "#ConFajardoPensiónYTrabajoDigno porque #ElEquipo #EsGanador con @ClaudiaLopez  haremos de  #Colombia #ElPaisDeLosJovenes  porque #ElPaisQuiereDialogo #consensos #Paz #CEROCorrupcion asi  #SePuede @sergio_fajardo  Ustedes son #LaFuerzaDeLaEsperanza  por eso #ConfioEnFajardo\n",
      "--\n"
     ]
    }
   ],
   "source": [
    "\n",
    "print(len(grupo1))\n",
    "for e in range(100,110):\n",
    "    print(tweets[grupo1[e]])\n",
    "    print('--')"
   ]
  },
  {
   "cell_type": "markdown",
   "metadata": {},
   "source": [
    "veo mucha basura, pero casi siempre son de los candidatos en contra de petro."
   ]
  },
  {
   "cell_type": "code",
   "execution_count": 44,
   "metadata": {},
   "outputs": [
    {
     "name": "stdout",
     "output_type": "stream",
     "text": [
      "307\n",
      "#ElPaisDeLosJovenes ha pensado en dar ayudas a las protectoras de animales?\n",
      "--\n",
      "Muy conectada #ElPaísDeLosJóvenes\n",
      "--\n",
      "#ElPaisDeLosJovenes los que pagan para llegar, llegan a robar. <Emoji: Ok hand sign><Emoji: Ok hand sign><Emoji: Ok hand sign>\n",
      "--\n",
      "#ElPaísDeLosJóvenes  https://twitter.com/Pelicolombianas/status/975817953957548034 …\n",
      "--\n",
      "#ElPaisDeLosJovenes  pic.twitter.com/afoTJO27yu\n",
      "--\n",
      "@Randres005 <Emoji: Raised hand with fingers splayed (light skin tone)> #SePuede #FajardoPresidente #ElPaísDeLosJóvenes\n",
      "--\n",
      "#ElPaisDeLosJovenes  pic.twitter.com/mUFGuoVsEA\n",
      "--\n",
      "\"Los que pagan por llegar, llegan a robar\" <Emoji: Clapping hands sign><Emoji: Clapping hands sign>#ElPaisDeLosJovenes #Fajardo\n",
      "--\n",
      "#ElPaisDeLosJovenes  pic.twitter.com/7EQfsAngtw\n",
      "--\n",
      "Es en las urnas que debemos acabar con los políticos tradicionales que se nos roban las oportunidades. Que prometen inviables y no cumplen.#ElPaísDeLosJóvenes#SePuede#FajardoPresidente\n",
      "--\n"
     ]
    }
   ],
   "source": [
    "print(len(grupo2))\n",
    "for e in range(200,210):\n",
    "    print(tweets[grupo2[e]])\n",
    "    print('--')"
   ]
  },
  {
   "cell_type": "code",
   "execution_count": 42,
   "metadata": {},
   "outputs": [
    {
     "name": "stdout",
     "output_type": "stream",
     "text": [
      "1155\n",
      "Al \"Drogadicto\" no se le debe atacar, primero debemos prevenir que entre a ese mundo, y si ya esta en el, debemos darle todas las herramientas para salir de allí sin necesidad de discriminarlo. #FajardoPresidente #ElPaisDeLosJovenes\n",
      "--\n",
      "¡Esto! <Emoji: Ok hand sign>¡5 razones por la que votaré por Fajardo!#ElPaisDeLosJovenes  https://twitter.com/JuanPsicologiaa/status/984646842838331392 …\n",
      "--\n",
      "#ElPaísDeLosJóvenes somos 12 millones de jóvenes aptos para votar, perfectamente podríamos elegir el presidente, el problema es que estamos divididos en 3 candidatos, mientras que los 18 millones restantes solo tienen 2 candidatos y lo peor solo el 40% ejerce su derecho. :(\n",
      "--\n",
      "Amigos, si a la coalición! Fajardo y de la calle #ElPaísDeLosJóvenes\n",
      "--\n",
      "Muy de acuerdo con esta apreciación #FajardoPresidente #ElPaísDeLosJóvenes  pic.twitter.com/iKXlWt7hfZ\n",
      "--\n",
      "@CaracolTV @sergio__fajardo Ajajaj Muchas gracias, es importante que todos revisemos los temas que generarán cambios  en nuestro futuro <Emoji: Nerd face> #ElPaísDeLosJóvenes\n",
      "--\n",
      "Y como lo bueno siempre queda para lo último, #SergioFajardoPresidente @sergio_fajardo #ElPaísDeLosJóvenes\n",
      "--\n",
      "Después de haber escuchado hoy a @sergio_fajardo y ayer a @DeLaCalleHum me doy cuenta que tienen propuestas muy similares. Ambos son candidatos exelentes, ambos son una esperanza para una #ColombiaLibre #ElPaísDeLosJóvenes  pic.twitter.com/Rze7OgTiVs\n",
      "--\n",
      "#ElPaisDeLosJovenes #CaracolTv #SergioFajardo #Colombia #Elecciones #Elecciones2018  https://www.instagram.com/p/Bhf1UedAKRs/ \n",
      "--\n",
      "#ElPaísDeLosJóvenes Éste man no tiene igual. Me emociona tanto escucharlo y pensarnos dirigidos por él. ¡Es un crack! @sergio_fajardo El líder que necesitamos como país... Se vienen nuestros mejores 4 años y lo que eso nos va a dejar a futuro. <Emoji: Clapping hands sign (light skin tone)><Emoji: Smiling face with heart-shaped eyes> #EleccionesColombia pic.twitter.com/sTyS07rpzW\n",
      "--\n"
     ]
    }
   ],
   "source": [
    "print(len(grupo3))\n",
    "for e in range(300,310):\n",
    "    print(tweets[grupo3[e]])\n",
    "    print('--')"
   ]
  },
  {
   "cell_type": "code",
   "execution_count": 43,
   "metadata": {},
   "outputs": [
    {
     "name": "stdout",
     "output_type": "stream",
     "text": [
      "0\n"
     ]
    }
   ],
   "source": [
    "print(len(grupo4))\n",
    "for e in range(0,0):\n",
    "    print(tweets[grupo4[e]])\n",
    "    print('--')"
   ]
  },
  {
   "cell_type": "markdown",
   "metadata": {},
   "source": [
    "text rank, gensim, rake, obtengo keywords\n",
    "limpieza\n",
    "en spacy reconocimiento de nombres y adjetivos\n",
    "\n",
    "\n",
    "skipgram"
   ]
  }
 ],
 "metadata": {
  "kernelspec": {
   "display_name": "Python 3",
   "language": "python",
   "name": "python3"
  },
  "language_info": {
   "codemirror_mode": {
    "name": "ipython",
    "version": 3
   },
   "file_extension": ".py",
   "mimetype": "text/x-python",
   "name": "python",
   "nbconvert_exporter": "python",
   "pygments_lexer": "ipython3",
   "version": "3.5.3"
  }
 },
 "nbformat": 4,
 "nbformat_minor": 2
}
