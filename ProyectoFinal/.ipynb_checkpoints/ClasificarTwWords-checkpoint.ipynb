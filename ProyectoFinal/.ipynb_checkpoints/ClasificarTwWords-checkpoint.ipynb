{
 "cells": [
  {
   "cell_type": "markdown",
   "metadata": {},
   "source": [
    "# PROCESAMIENTO TWEETS"
   ]
  },
  {
   "cell_type": "code",
   "execution_count": 99,
   "metadata": {},
   "outputs": [],
   "source": [
    "# -*- coding: utf-8 -*-\n",
    "import re\n",
    "import pandas as pd\n",
    "import numpy as np\n",
    "import spacy\n",
    "import nltk\n",
    "from nltk.corpus import stopwords\n",
    "from nltk.stem import SnowballStemmer # para realizar el steemer\n",
    "from sklearn.cluster import KMeans \n",
    "#importamos la libreria que realizara los grupos\n",
    "import matplotlib.pyplot as plt\n",
    "%matplotlib inline \n",
    "datos = pd.read_csv('DebateFinal.csv', header = 0)"
   ]
  },
  {
   "cell_type": "code",
   "execution_count": 4,
   "metadata": {},
   "outputs": [
    {
     "name": "stdout",
     "output_type": "stream",
     "text": [
      "3000\n",
      "<class 'str'>\n"
     ]
    }
   ],
   "source": [
    "tweets = datos['tweet']\n",
    "tweets = list(tweets.ix[0:2999])\n",
    "print(len(tweets))\n",
    "#reviso el tipo de dato de un tweet\n",
    "print(type(tweets[0]))"
   ]
  },
  {
   "cell_type": "code",
   "execution_count": 3,
   "metadata": {},
   "outputs": [
    {
     "name": "stdout",
     "output_type": "stream",
     "text": [
      "#LeySeca #DebateFinal #ColombiaDecide #EleccionesColombia #Elecciones2018 #EleccionesPresidenciales2018 Huila: la jornada en cifrasPuestos de votación 215Mesas 2.178Personas habilitadas para sufragar 817.464Jurados de votación 14.475 Y más en ....  https://goo.gl/JDxHHG \n",
      "Retweeted Lorena <Emoji: Victory hand><Emoji: Victory hand> (@lorenita_sua):Si Duque va a desmantelar el crimen organizado, va acabar entonces con el Centro Democrático? #DebateFinal\n"
     ]
    }
   ],
   "source": [
    "print(tweets[0])\n",
    "print(tweets[1])\n"
   ]
  },
  {
   "cell_type": "code",
   "execution_count": 53,
   "metadata": {},
   "outputs": [
    {
     "data": {
      "text/plain": [
       "'retweeted lorena     lorenita sua  si duque va a desmantelar el crimen organizado  va acabar entonces con el centro democrático   debatefinal'"
      ]
     },
     "execution_count": 53,
     "metadata": {},
     "output_type": "execute_result"
    }
   ],
   "source": [
    "tw = tweets[1]\n",
    "w = re.sub('(http(s?)://)(w{3})(\\.\\w+)(\\.(\\w{3})(\\.\\w{2})?)(/.*)?(\\s)|(<.*>)',' ',tw)\n",
    "w = re.sub('(http(s?)://)?(\\w+\\.)?(\\w+\\.\\w{3}(/.+)?)',' ',w)\n",
    "x = re.sub('[^a-zA-Zóáéíúñ]|https|goo|gl',' ',w)"
   ]
  },
  {
   "cell_type": "code",
   "execution_count": 74,
   "metadata": {},
   "outputs": [
    {
     "name": "stdout",
     "output_type": "stream",
     "text": [
      "Fin del conversatorio.... perdón perdón perdón del #DebateFinal en #ColombiaDecide ... sensatez y precisión es lo que hace marcar la cara a @petrogustavo con su formula @angelamrobledo ... @sergio_fajardo me gusta tu forma de pensar pero me quedo con el primero.\n",
      "fin del conversatorio     perdón perdón perdón del  debatefinal en  colombiadecide     sensatez y precisión es lo que hace marcar la cara a  petrogustavo con su formula  angelamrobledo      sergio fajardo me gusta tu forma de pensar pero me quedo con el primero \n"
     ]
    }
   ],
   "source": [
    "print(tw)\n",
    "print(x.lower())"
   ]
  },
  {
   "cell_type": "code",
   "execution_count": 100,
   "metadata": {},
   "outputs": [],
   "source": [
    "twtsPreproce = []\n",
    "stemmer = SnowballStemmer(\"spanish\")\n",
    "stopwords2 = ('http','debate','caribe','youtube','be','youtu','https')\n",
    "#ahora limpiamos todos los tweets\n",
    "for tw in tweets:\n",
    "    w = re.sub('(http(s?)://)(w{3})(\\.\\w+)(\\.(\\w{3})(\\.\\w{2})?)(/.*)?(\\s)|(<.*>)',' ',tw)\n",
    "    w = re.sub('(http(s?)://)?(\\w+\\.)?(\\w+\\.\\w{3}(/.+)?)',' ',w).lower()\n",
    "    x = re.sub('[^a-zA-Zóáéíúñ]|https|goo|gl',' ',w).split(' ')\n",
    "    l = [stemmer.stem(word) for word in x if (not word in set(stopwords.words('spanish'))) and (not word in stopwords2) and word != '']\n",
    "    twtsPreproce.append(l)\n",
    "    "
   ]
  },
  {
   "cell_type": "code",
   "execution_count": 116,
   "metadata": {},
   "outputs": [
    {
     "name": "stdout",
     "output_type": "stream",
     "text": [
      "[]\n"
     ]
    }
   ],
   "source": [
    "print(twtsPreproce[120])"
   ]
  },
  {
   "cell_type": "code",
   "execution_count": 102,
   "metadata": {},
   "outputs": [
    {
     "data": {
      "text/plain": [
       "6102"
      ]
     },
     "execution_count": 102,
     "metadata": {},
     "output_type": "execute_result"
    }
   ],
   "source": [
    "BagOfWords = []\n",
    "for e in twtsPreproce:\n",
    "    BagOfWords = BagOfWords + e\n",
    "\n",
    "len(BagOfWords)\n",
    "BagOfWords = set(BagOfWords)\n",
    "BagOfWords = list(BagOfWords) # lo vuelvo lista para poder utilizar el index\n",
    "len(BagOfWords)#obtenemos las dimensiones para el agrupamiento"
   ]
  },
  {
   "cell_type": "code",
   "execution_count": 117,
   "metadata": {},
   "outputs": [
    {
     "name": "stdout",
     "output_type": "stream",
     "text": [
      "hag esfuerz pas segund vuelt mejor dej dec vot men mal dig unison gan mejor debatefinal colombiadecid\n"
     ]
    }
   ],
   "source": [
    "twlimpios = []\n",
    "for e in twtsPreproce:\n",
    "    twlimpios.append(' '.join(e))\n",
    "\n",
    "print(twlimpios[15])"
   ]
  },
  {
   "cell_type": "code",
   "execution_count": 106,
   "metadata": {},
   "outputs": [],
   "source": [
    "#ahora tokenizamos los tweets para hacer una lemantización y poder crear las bolsas de palabras\n",
    "twlmtoken =[nltk.word_tokenize(sentence) for sentence in twlimpios]"
   ]
  },
  {
   "cell_type": "code",
   "execution_count": 135,
   "metadata": {},
   "outputs": [
    {
     "data": {
      "text/plain": [
       "FreqDist({'cifraspuest': 1,\n",
       "          'colombiadecid': 1,\n",
       "          'debatefinal': 1,\n",
       "          'eleccion': 1,\n",
       "          'eleccionescolombi': 1,\n",
       "          'eleccionespresidencial': 1,\n",
       "          'habilit': 1,\n",
       "          'huil': 1,\n",
       "          'jdxhhg': 1,\n",
       "          'jorn': 1,\n",
       "          'jur': 1,\n",
       "          'leysec': 1,\n",
       "          'mes': 1,\n",
       "          'person': 1,\n",
       "          'sufrag': 1,\n",
       "          'votacion': 2})"
      ]
     },
     "execution_count": 135,
     "metadata": {},
     "output_type": "execute_result"
    }
   ],
   "source": [
    "nltk.FreqDist(twlmtoken[0])"
   ]
  },
  {
   "cell_type": "code",
   "execution_count": 121,
   "metadata": {},
   "outputs": [],
   "source": [
    "tablaFreq = [nltk.FreqDist(text) for text in twlmtoken ]"
   ]
  },
  {
   "cell_type": "code",
   "execution_count": 128,
   "metadata": {},
   "outputs": [
    {
     "data": {
      "text/plain": [
       "dict_keys(['leysec', 'cifraspuest', 'eleccion', 'votacion', 'eleccionespresidencial', 'huil', 'sufrag', 'person', 'jorn', 'colombiadecid', 'debatefinal', 'mes', 'habilit', 'jur', 'jdxhhg', 'eleccionescolombi'])"
      ]
     },
     "execution_count": 128,
     "metadata": {},
     "output_type": "execute_result"
    }
   ],
   "source": [
    "tablaFreq[0].keys()"
   ]
  },
  {
   "cell_type": "markdown",
   "metadata": {},
   "source": [
    "# SE CREARA UN ESPACIO VECTORIAL DE CADA TWEET CON LAS PALABRAS PARA PODER AGRUPAR"
   ]
  },
  {
   "cell_type": "code",
   "execution_count": 131,
   "metadata": {},
   "outputs": [
    {
     "name": "stdout",
     "output_type": "stream",
     "text": [
      "[[0. 0. 0. ... 0. 0. 0.]\n",
      " [0. 0. 0. ... 0. 0. 0.]\n",
      " [0. 0. 0. ... 0. 0. 0.]\n",
      " ...\n",
      " [0. 0. 0. ... 0. 0. 0.]\n",
      " [0. 0. 0. ... 0. 0. 0.]\n",
      " [0. 0. 0. ... 0. 0. 0.]]\n"
     ]
    }
   ],
   "source": [
    "NroTweets = len(tweets)\n",
    "Dimensiones = len(BagOfWords)\n",
    "Espacio = np.zeros((NroTweets, Dimensiones))\n",
    "print(Espacio)"
   ]
  },
  {
   "cell_type": "code",
   "execution_count": 136,
   "metadata": {},
   "outputs": [],
   "source": [
    "for i in range(NroTweets): #recorremos tweets por tweets actualizando sus dimensiones\n",
    "    for wd in tablaFreq[i].keys():\n",
    "        j = BagOfWords.index(wd)\n",
    "        Espacio[i][j] = tablaFreq[i][wd]\n",
    "\n"
   ]
  },
  {
   "cell_type": "markdown",
   "metadata": {},
   "source": [
    "### vamos a agrupar usando kmeans pero antes, calcularemos un k adecuado"
   ]
  },
  {
   "cell_type": "code",
   "execution_count": 137,
   "metadata": {},
   "outputs": [],
   "source": [
    "\n",
    "#vamos a calcular cual es mejor numero de cluster para crear dentro del modelo\n",
    "wcss = []\n",
    "for i in range(1, 11):\n",
    "    kmeans = KMeans(n_clusters = i, init = 'k-means++', random_state = 42, precompute_distances= False)\n",
    "    kmeans.fit(Espacio)\n",
    "    wcss.append(kmeans.inertia_)\n"
   ]
  },
  {
   "cell_type": "code",
   "execution_count": 138,
   "metadata": {},
   "outputs": [
    {
     "data": {
      "image/png": "[encoded data removed]",
      "text/plain": [
       "<matplotlib.figure.Figure at 0x7f15387ecf98>"
      ]
     },
     "metadata": {},
     "output_type": "display_data"
    }
   ],
   "source": [
    "plt.plot(range(1, 11), wcss)\n",
    "plt.title('The Elbow Method')\n",
    "plt.xlabel('Number of clusters')\n",
    "plt.ylabel('WCSS')\n",
    "plt.show()"
   ]
  },
  {
   "cell_type": "code",
   "execution_count": 154,
   "metadata": {},
   "outputs": [],
   "source": [
    "kmeans = KMeans(n_clusters = 9 ,random_state = 42, precompute_distances = False).fit(Espacio)\n",
    "y_kmeans = kmeans.fit_predict(Espacio)"
   ]
  },
  {
   "cell_type": "code",
   "execution_count": 155,
   "metadata": {},
   "outputs": [
    {
     "name": "stdout",
     "output_type": "stream",
     "text": [
      "Cantidad de grupos existentes:  9\n",
      "Cantidad de tweets:  3000\n",
      "Grupo del primer Tweet:  3\n"
     ]
    }
   ],
   "source": [
    "print(\"Cantidad de grupos existentes: \",len(set(kmeans.labels_)))\n",
    "print(\"Cantidad de tweets: \", len(kmeans.labels_))\n",
    "print(\"Grupo del primer Tweet: \",kmeans.labels_[0])"
   ]
  },
  {
   "cell_type": "code",
   "execution_count": 156,
   "metadata": {},
   "outputs": [
    {
     "name": "stdout",
     "output_type": "stream",
     "text": [
      "KMeans(algorithm='auto', copy_x=True, init='k-means++', max_iter=300,\n",
      "    n_clusters=9, n_init=10, n_jobs=1, precompute_distances=False,\n",
      "    random_state=42, tol=0.0001, verbose=0)\n",
      "[3 5 5 ... 1 3 7]\n"
     ]
    }
   ],
   "source": [
    "print(kmeans)\n",
    "print(y_kmeans)"
   ]
  },
  {
   "cell_type": "code",
   "execution_count": 168,
   "metadata": {},
   "outputs": [
    {
     "data": {
      "image/png": "[encoded data removed]",
      "text/plain": [
       "<matplotlib.figure.Figure at 0x7f153889f0f0>"
      ]
     },
     "metadata": {},
     "output_type": "display_data"
    }
   ],
   "source": [
    "\n",
    "# Visualising the clusters\n",
    "plt.scatter(Espacio[y_kmeans == 0, 0], Espacio[y_kmeans == 0, 1], s = 100, c = 'red', label = 'Cluster 1')\n",
    "plt.scatter(Espacio[y_kmeans == 1, 0], Espacio[y_kmeans == 1, 1], s = 100, c = 'blue', label = 'Cluster 2')\n",
    "plt.scatter(Espacio[y_kmeans == 2, 0], Espacio[y_kmeans == 2, 1], s = 100, c = 'green', label = 'Cluster 3')\n",
    "plt.scatter(Espacio[y_kmeans == 3, 0], Espacio[y_kmeans == 3, 1], s = 100, c = 'cyan', label = 'Cluster 4')\n",
    "plt.scatter(Espacio[y_kmeans == 4, 0], Espacio[y_kmeans == 4, 1], s = 100, c = 'magenta', label = 'Cluster 5')\n",
    "plt.scatter(kmeans.cluster_centers_[:, 0], kmeans.cluster_centers_[:, 1], s = 300, c = 'yellow', label = 'Centroids')\n",
    "plt.title('Clusters of customers')\n",
    "plt.xlabel('Annual Income (k$)')\n",
    "plt.ylabel('Spending Score (1-100)')\n",
    "plt.legend()\n",
    "plt.show()"
   ]
  },
  {
   "cell_type": "code",
   "execution_count": 172,
   "metadata": {},
   "outputs": [],
   "source": [
    "l = [0]*9\n",
    "for e in y_kmeans:\n",
    "    l[e] += 1\n",
    "    "
   ]
  },
  {
   "cell_type": "code",
   "execution_count": 173,
   "metadata": {},
   "outputs": [
    {
     "name": "stdout",
     "output_type": "stream",
     "text": [
      "[68, 348, 66, 641, 1, 1291, 1, 281, 303]\n"
     ]
    }
   ],
   "source": [
    "print(l)"
   ]
  }
 ],
 "metadata": {
  "kernelspec": {
   "display_name": "Python 3",
   "language": "python",
   "name": "python3"
  },
  "language_info": {
   "codemirror_mode": {
    "name": "ipython",
    "version": 3
   },
   "file_extension": ".py",
   "mimetype": "text/x-python",
   "name": "python",
   "nbconvert_exporter": "python",
   "pygments_lexer": "ipython3",
   "version": "3.5.3"
  }
 },
 "nbformat": 4,
 "nbformat_minor": 2
}
