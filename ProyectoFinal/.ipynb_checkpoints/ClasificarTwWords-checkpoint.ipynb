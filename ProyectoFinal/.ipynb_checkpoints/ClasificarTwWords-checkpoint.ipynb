{
 "cells": [
  {
   "cell_type": "markdown",
   "metadata": {},
   "source": [
    "# PROCESAMIENTO TWEETS"
   ]
  },
  {
   "cell_type": "code",
   "execution_count": 32,
   "metadata": {},
   "outputs": [],
   "source": [
    "# -*- coding: utf-8 -*-\n",
    "import re\n",
    "import pandas as pd\n",
    "import numpy as np\n",
    "import spacy\n",
    "import nltk\n",
    "from nltk.corpus import stopwords\n",
    "from nltk.stem import SnowballStemmer # para realizar el steemer\n",
    "from sklearn.cluster import KMeans \n",
    "#importamos la libreria que realizara los grupos\n",
    "import matplotlib.pyplot as plt\n",
    "%matplotlib inline \n",
    "datos = pd.read_csv('output.csv', header = 0)"
   ]
  },
  {
   "cell_type": "code",
   "execution_count": 33,
   "metadata": {},
   "outputs": [
    {
     "name": "stdout",
     "output_type": "stream",
     "text": [
      "3660\n",
      "<class 'str'>\n"
     ]
    }
   ],
   "source": [
    "tweets = datos['tweet']\n",
    "#tweets = list(tweets.ix[3000:5999])\n",
    "print(len(tweets))\n",
    "#reviso el tipo de dato de un tweet\n",
    "print(type(tweets[0]))"
   ]
  },
  {
   "cell_type": "code",
   "execution_count": 34,
   "metadata": {},
   "outputs": [
    {
     "name": "stdout",
     "output_type": "stream",
     "text": [
      "@MoralesViviane @IvanDuque @JulyTrsplcs @adanagueo Pero si duque en #ElPaisDeLosJovenes  dijo que creía en la vida desde la concepción pero esta deacuerdo con el aborto en los tres casos que despenaliza la ley, osea que para el, esta bien matar. Yo creo que eso es peor que estar de acuerdo con el aborto creyendo que no hay vida.\n",
      "A todos los colombianos y votantes, POR FAVOR no voten por duque por miedo a petro, o por petro por miedo a Duque.Vote a conciencia y por el que considere su mejor opción.#EleccionesColombia #ElPaisDeLosJovenes\n"
     ]
    }
   ],
   "source": [
    "print(tweets[0])\n",
    "print(tweets[1])\n"
   ]
  },
  {
   "cell_type": "code",
   "execution_count": 35,
   "metadata": {},
   "outputs": [],
   "source": [
    "tw = tweets[1]\n",
    "w = re.sub('(http(s?)://)(w{3})(\\.\\w+)(\\.(\\w{3})(\\.\\w{2})?)(/.*)?(\\s)|(<.*>)',' ',tw)\n",
    "w = re.sub('(http(s?)://)?(\\w+\\.)?(\\w+\\.\\w{3}(/.+)?)',' ',w)\n",
    "x = re.sub('[^a-zA-Zóáéíúñ]|https|goo|gl',' ',w)"
   ]
  },
  {
   "cell_type": "code",
   "execution_count": 36,
   "metadata": {},
   "outputs": [
    {
     "name": "stdout",
     "output_type": "stream",
     "text": [
      "A todos los colombianos y votantes, POR FAVOR no voten por duque por miedo a petro, o por petro por miedo a Duque.Vote a conciencia y por el que considere su mejor opción.#EleccionesColombia #ElPaisDeLosJovenes\n",
      "a todos los colombianos y votantes  por favor no voten por duque por miedo a petro  o por petro por miedo a  e a conciencia y por el que considere su mejor opción  eleccionescolombia  elpaisdelosjovenes\n"
     ]
    }
   ],
   "source": [
    "print(tw)\n",
    "print(x.lower())"
   ]
  },
  {
   "cell_type": "code",
   "execution_count": 37,
   "metadata": {},
   "outputs": [],
   "source": [
    "twtsPreproce = []\n",
    "stemmer = SnowballStemmer(\"spanish\")\n",
    "stopwords2 = ('http','debate','caribe','youtube','be','youtu','https')\n",
    "#ahora limpiamos todos los tweets\n",
    "for tw in tweets:\n",
    "    w = re.sub('(http(s?)://)(w{3})(\\.\\w+)(\\.(\\w{3})(\\.\\w{2})?)(/.*)?(\\s)|(<.*>)',' ',tw)\n",
    "    w = re.sub('(http(s?)://)?(\\w+\\.)?(\\w+\\.\\w{3}(/.+)?)',' ',w).lower()\n",
    "    x = re.sub('[^a-zA-Zóáéíúñ]|https|goo|gl',' ',w).split(' ')\n",
    "    l = [stemmer.stem(word) for word in x if (not word in set(stopwords.words('spanish'))) and (not word in stopwords2) and word != '']\n",
    "    twtsPreproce.append(l)\n",
    "    "
   ]
  },
  {
   "cell_type": "code",
   "execution_count": 38,
   "metadata": {},
   "outputs": [
    {
     "name": "stdout",
     "output_type": "stream",
     "text": [
      "['eljulisastoqu', 'adel', 'juli', 'ojal', 'encuentr', 'soport', 'logr', 'comet', 'caidadelatorr', 'lapullaoficial', 'vladd', 'dcoronell', 'danielsamper', 'ariasvill', 'rabodeajip', 'elpaisdelosjoven', 'mariacastr', 'aleltbd', 'margaritavel']\n"
     ]
    }
   ],
   "source": [
    "print(twtsPreproce[120])"
   ]
  },
  {
   "cell_type": "code",
   "execution_count": 39,
   "metadata": {},
   "outputs": [
    {
     "data": {
      "text/plain": [
       "4958"
      ]
     },
     "execution_count": 39,
     "metadata": {},
     "output_type": "execute_result"
    }
   ],
   "source": [
    "BagOfWords = []\n",
    "for e in twtsPreproce:\n",
    "    BagOfWords = BagOfWords + e\n",
    "\n",
    "len(BagOfWords)\n",
    "BagOfWords = set(BagOfWords)\n",
    "BagOfWords = list(BagOfWords) # lo vuelvo lista para poder utilizar el index\n",
    "len(BagOfWords)#obtenemos las dimensiones para el agrupamiento"
   ]
  },
  {
   "cell_type": "code",
   "execution_count": 40,
   "metadata": {},
   "outputs": [
    {
     "name": "stdout",
     "output_type": "stream",
     "text": [
      "caracolradi delacallehum march atras acab malign acuerd d extorsion sab p q pq moment peor deb retom gbno ud acuerd fals paz llev pas peor elpaisdelosjoven elgrandebat\n"
     ]
    }
   ],
   "source": [
    "twlimpios = []\n",
    "for e in twtsPreproce:\n",
    "    twlimpios.append(' '.join(e))\n",
    "\n",
    "print(twlimpios[15])"
   ]
  },
  {
   "cell_type": "code",
   "execution_count": 41,
   "metadata": {},
   "outputs": [],
   "source": [
    "#ahora tokenizamos los tweets para hacer una lemantización y poder crear las bolsas de palabras\n",
    "twlmtoken =[nltk.word_tokenize(sentence) for sentence in twlimpios]"
   ]
  },
  {
   "cell_type": "code",
   "execution_count": 42,
   "metadata": {},
   "outputs": [
    {
     "data": {
      "text/plain": [
       "FreqDist({'abort': 2,\n",
       "          'acuerd': 1,\n",
       "          'adanague': 1,\n",
       "          'bien': 1,\n",
       "          'cas': 1,\n",
       "          'concepcion': 1,\n",
       "          'cre': 2,\n",
       "          'creyend': 1,\n",
       "          'deacuerd': 1,\n",
       "          'despenaliz': 1,\n",
       "          'dij': 1,\n",
       "          'duqu': 1,\n",
       "          'elpaisdelosjoven': 1,\n",
       "          'ivanduqu': 1,\n",
       "          'julytrsplcs': 1,\n",
       "          'ley': 1,\n",
       "          'mat': 1,\n",
       "          'moralesvivian': 1,\n",
       "          'ose': 1,\n",
       "          'peor': 1,\n",
       "          'si': 1,\n",
       "          'tres': 1,\n",
       "          'vid': 2})"
      ]
     },
     "execution_count": 42,
     "metadata": {},
     "output_type": "execute_result"
    }
   ],
   "source": [
    "nltk.FreqDist(twlmtoken[0])"
   ]
  },
  {
   "cell_type": "code",
   "execution_count": 43,
   "metadata": {},
   "outputs": [],
   "source": [
    "tablaFreq = [nltk.FreqDist(text) for text in twlmtoken ]"
   ]
  },
  {
   "cell_type": "code",
   "execution_count": 44,
   "metadata": {},
   "outputs": [
    {
     "data": {
      "text/plain": [
       "dict_keys(['adanague', 'despenaliz', 'deacuerd', 'dij', 'vid', 'abort', 'si', 'peor', 'ose', 'cre', 'mat', 'julytrsplcs', 'bien', 'duqu', 'moralesvivian', 'elpaisdelosjoven', 'ivanduqu', 'creyend', 'concepcion', 'ley', 'acuerd', 'cas', 'tres'])"
      ]
     },
     "execution_count": 44,
     "metadata": {},
     "output_type": "execute_result"
    }
   ],
   "source": [
    "tablaFreq[0].keys()"
   ]
  },
  {
   "cell_type": "markdown",
   "metadata": {},
   "source": [
    "# SE CREARA UN ESPACIO VECTORIAL DE CADA TWEET CON LAS PALABRAS PARA PODER AGRUPAR"
   ]
  },
  {
   "cell_type": "code",
   "execution_count": 45,
   "metadata": {},
   "outputs": [
    {
     "name": "stdout",
     "output_type": "stream",
     "text": [
      "[[0. 0. 0. ... 0. 0. 0.]\n",
      " [0. 0. 0. ... 0. 0. 0.]\n",
      " [0. 0. 0. ... 0. 0. 0.]\n",
      " ...\n",
      " [0. 0. 0. ... 0. 0. 0.]\n",
      " [0. 0. 0. ... 0. 0. 0.]\n",
      " [0. 0. 0. ... 0. 0. 0.]]\n"
     ]
    }
   ],
   "source": [
    "NroTweets = len(tweets)\n",
    "Dimensiones = len(BagOfWords)\n",
    "Espacio = np.zeros((NroTweets, Dimensiones))\n",
    "print(Espacio)"
   ]
  },
  {
   "cell_type": "code",
   "execution_count": 46,
   "metadata": {},
   "outputs": [],
   "source": [
    "for i in range(NroTweets): #recorremos tweets por tweets actualizando sus dimensiones\n",
    "    for wd in tablaFreq[i].keys():\n",
    "        j = BagOfWords.index(wd)\n",
    "        Espacio[i][j] = tablaFreq[i][wd]\n",
    "\n"
   ]
  },
  {
   "cell_type": "markdown",
   "metadata": {},
   "source": [
    "### vamos a agrupar usando kmeans pero antes, calcularemos un k adecuado"
   ]
  },
  {
   "cell_type": "code",
   "execution_count": 47,
   "metadata": {},
   "outputs": [],
   "source": [
    "\n",
    "#vamos a calcular cual es mejor numero de cluster para crear dentro del modelo\n",
    "wcss = []\n",
    "for i in range(1, 11):\n",
    "    kmeans = KMeans(n_clusters = i, init = 'k-means++', random_state = 42, precompute_distances= False)\n",
    "    kmeans.fit(Espacio)\n",
    "    wcss.append(kmeans.inertia_)\n"
   ]
  },
  {
   "cell_type": "code",
   "execution_count": 48,
   "metadata": {},
   "outputs": [
    {
     "data": {
      "image/png": "[encoded data removed]",
      "text/plain": [
       "<matplotlib.figure.Figure at 0x7f6bd3ce77f0>"
      ]
     },
     "metadata": {},
     "output_type": "display_data"
    }
   ],
   "source": [
    "plt.plot(range(1, 11), wcss)\n",
    "plt.title('The Elbow Method')\n",
    "plt.xlabel('Number of clusters')\n",
    "plt.ylabel('WCSS')\n",
    "plt.show()"
   ]
  },
  {
   "cell_type": "code",
   "execution_count": 73,
   "metadata": {},
   "outputs": [],
   "source": [
    "kmeans = KMeans(n_clusters = 3 ,random_state = 42, precompute_distances = False).fit(Espacio)\n",
    "y_kmeans = kmeans.fit_predict(Espacio)"
   ]
  },
  {
   "cell_type": "code",
   "execution_count": 74,
   "metadata": {},
   "outputs": [
    {
     "name": "stdout",
     "output_type": "stream",
     "text": [
      "Cantidad de grupos existentes:  3\n",
      "Cantidad de tweets:  3660\n",
      "Grupo del primer Tweet:  1\n"
     ]
    }
   ],
   "source": [
    "print(\"Cantidad de grupos existentes: \",len(set(kmeans.labels_)))\n",
    "print(\"Cantidad de tweets: \", len(kmeans.labels_))\n",
    "print(\"Grupo del primer Tweet: \",kmeans.labels_[0])"
   ]
  },
  {
   "cell_type": "code",
   "execution_count": 75,
   "metadata": {},
   "outputs": [
    {
     "name": "stdout",
     "output_type": "stream",
     "text": [
      "KMeans(algorithm='auto', copy_x=True, init='k-means++', max_iter=300,\n",
      "    n_clusters=3, n_init=10, n_jobs=1, precompute_distances=False,\n",
      "    random_state=42, tol=0.0001, verbose=0)\n",
      "[1 1 1 ... 2 1 0]\n"
     ]
    }
   ],
   "source": [
    "print(kmeans)\n",
    "print(y_kmeans)"
   ]
  },
  {
   "cell_type": "code",
   "execution_count": 76,
   "metadata": {},
   "outputs": [
    {
     "data": {
      "image/png": "[encoded data removed]",
      "text/plain": [
       "<matplotlib.figure.Figure at 0x7f6bd4492f28>"
      ]
     },
     "metadata": {},
     "output_type": "display_data"
    }
   ],
   "source": [
    "\n",
    "# Visualising the clusters\n",
    "plt.scatter(Espacio[y_kmeans == 0, 0], Espacio[y_kmeans == 0, 1], s = 100, c = 'red', label = 'Cluster 1')\n",
    "plt.scatter(Espacio[y_kmeans == 1, 0], Espacio[y_kmeans == 1, 1], s = 100, c = 'blue', label = 'Cluster 2')\n",
    "plt.scatter(Espacio[y_kmeans == 2, 0], Espacio[y_kmeans == 2, 1], s = 100, c = 'green', label = 'Cluster 3')\n",
    "#plt.scatter(Espacio[y_kmeans == 3, 0], Espacio[y_kmeans == 3, 1], s = 100, c = 'cyan', label = 'Cluster 4')\n",
    "#plt.scatter(Espacio[y_kmeans == 4, 0], Espacio[y_kmeans == 4, 1], s = 100, c = 'magenta', label = 'Cluster 5')\n",
    "plt.scatter(kmeans.cluster_centers_[:, 0], kmeans.cluster_centers_[:, 1], s = 300, c = 'yellow', label = 'Centroids')\n",
    "plt.title('Clusters of customers')\n",
    "plt.xlabel('Annual Income (k$)')\n",
    "plt.ylabel('Spending Score (1-100)')\n",
    "plt.legend()\n",
    "plt.show()"
   ]
  },
  {
   "cell_type": "code",
   "execution_count": 77,
   "metadata": {},
   "outputs": [],
   "source": [
    "l = [0]*5\n",
    "for e in y_kmeans:\n",
    "    l[e] += 1\n",
    "    "
   ]
  },
  {
   "cell_type": "code",
   "execution_count": 78,
   "metadata": {},
   "outputs": [
    {
     "name": "stdout",
     "output_type": "stream",
     "text": [
      "[795, 1730, 1135, 0, 0]\n"
     ]
    }
   ],
   "source": [
    "print(l)"
   ]
  },
  {
   "cell_type": "code",
   "execution_count": 91,
   "metadata": {},
   "outputs": [],
   "source": [
    "grupos = kmeans.labels_ # obtengo una lista del tamaño de los tweets \n",
    "#que indica a que grupo pertenece cada tweet\n",
    "\n",
    "grupo1 = []\n",
    "grupo2 = []\n",
    "grupo3 = []\n",
    "grupo4 = []\n",
    "grupo5 = []\n",
    "\n",
    "for i in range(len(grupos)):\n",
    "    \n",
    "    if grupos[i] == 0:\n",
    "        grupo1.append(i)\n",
    "    elif grupos[i] == 1:\n",
    "        grupo2.append(i)\n",
    "    elif grupos[i] == 2:\n",
    "        grupo3.append(i)\n",
    "    elif grupos[i] == 3:\n",
    "        grupo4.append(i)\n",
    "    elif grupos[i] == 4:\n",
    "        grupo5.append(i)"
   ]
  },
  {
   "cell_type": "code",
   "execution_count": 80,
   "metadata": {},
   "outputs": [
    {
     "name": "stdout",
     "output_type": "stream",
     "text": [
      "795\n",
      "#SePuede #Colombia somos #LaFuerzaDeLaEsperanza en #ElPaisDeLosJovenes yo voto por @sergio_fajardo https://twitter.com/sergio_fajardo/status/990743765437632512 …\n",
      "--\n",
      "#MiEquipo #Ganador #ColombiaDecide  por @sergio_fajardo #SePuede #ConfioEnFajardo #ElPaisDeLosJovenes #Adelante #Colombia https://twitter.com/ClaudiaLopez/status/989531199814230017 …\n",
      "--\n",
      "#Colombia tiene #LaFuerzaDeLaEsperanza con @sergio_fajardo y @ClaudiaLopez  porque #ElPaisdelosJovenes #Participa en las #EleccionesColombia no mas #Corrupcion #SePuede #YoconfioEnFajardo y su #EquipoFajardo https://twitter.com/sergio_fajardo/status/989570508621565952 …\n",
      "--\n",
      "Que gane @petrogustavo  o que gane @sergio_fajardo .. Pero que después trabajen juntos, eso sí cambiaria nuestro país. #ElPaísDeLosJovenes\n",
      "--\n",
      "#Candidater solicito a este trío UNIDO para preservar La Paz y construir un país nuevo. @DeLaCalleHum @sergio_fajardo @petrogustavo #ElPaisDeLosJovenes  pic.twitter.com/joSYeiBnK5\n",
      "--\n",
      "#ElPaísDeLosJóvenes - El candidato a la Presidencia de Colombia Sergio Fajardo, responde una serie de preguntas que los jóvenes del país le realizan en este cara a cara conducido por Juan Diego Alvira.  https://youtu.be/ErsgjkMgjks  vía @YouTube\n",
      "--\n",
      "@eljulisastoque evidentemente hay una campaña de desprestigio en contra de este joven, por qué? Porque @IvanDuque y @AlvaroUribeVel tienen mucho rabo de paja!!! #politicasinterror @sergio_fajardo Presidente #sepuede #elpaisdelosjóvenes\n",
      "--\n",
      "#ConFajardoPensiónYTrabajoDigno porque #ElEquipo #EsGanador con @ClaudiaLopez  haremos de  #Colombia #ElPaisDeLosJovenes  porque #ElPaisQuiereDialogo #consensos #Paz #CEROCorrupcion asi  #SePuede @sergio_fajardo  Ustedes son #LaFuerzaDeLaEsperanza  por eso #ConfioEnFajardo\n",
      "--\n",
      "@petrogustavo @NoticiasCaracol PARECIERA QUE CON @sergio_fajardo coinciden en cuanto a #ElPaísDeLosJóvenes y otros temas. LA MAYORÍA POBLACIÓN CON PROBLEMAS SON LOS JÓVENES Y POR ESO SE GENERAN TANTAS COSAS. ESA ES LA TAREA PARA MEJORAR UN PAÍS. CON EDUCACION Y TRABAJO PARA LOS TODOS LOS JÓVENES #SEPUEDE\n",
      "--\n",
      "Mientras le sigan diciendo “tibio” de forma despectiva a un tipo como @sergio_fajardo que usa la cabeza y tiene criterio propio para cada situación, Colombia está condenada a la guerra histórica entre extremos #SinPetroNohayParaíso #ElPaisDeLosJovenes #FelizDomimgo\n",
      "--\n"
     ]
    }
   ],
   "source": [
    "print(len(grupo1))\n",
    "for e in range(0,10):\n",
    "    print(tweets[grupo1[e]])\n",
    "    print('--')"
   ]
  },
  {
   "cell_type": "markdown",
   "metadata": {},
   "source": [
    "Union de candidatos, fajardo y duque"
   ]
  },
  {
   "cell_type": "code",
   "execution_count": 89,
   "metadata": {},
   "outputs": [
    {
     "name": "stdout",
     "output_type": "stream",
     "text": [
      "1730\n",
      "#ElPaisDeLosJovenes queremos ver a todos los candidatos, queremos ver a @MoralesViviane\n",
      "--\n",
      "Primer candidato que escucho hablar sobre la tecnología y la investigación como ejes de diversificación en la economía colombiana. Temas importantes que pueden dejar de un lado, y que ayudan en gran medida al desarrollo social-económico.#ElPaisDeLosJovenes\n",
      "--\n",
      "En #ElPaisDeLosJovenes #FAJARDOPRESIDENTE demostró  una vez más por qué es el mejor: propuestas y programas concretos, congruencia con su experiencia y un liderazgo impecable, con #LaFuerzaDeLaEsperanza #SePuede\n",
      "--\n",
      "#ElPaisDeLosJovenes #FajardoPresidente es un tipo que habla largo pero que me convence, no va con sueños irrealizables, no odia, no da miedo, tal vez por eso tampoco emociona él. A mi me emociona la posibilidad de un gobierno que vaya al grano: a la educación y la corrupción.\n",
      "--\n",
      "Mañana verán al mejor de todos los candidatos. GUSTAVO PETRO URREGO. #ElPaisDeLosJovenes\n",
      "--\n",
      "#ElPaísDeLosJóvenes Educacion Ciencia, Tecnologia, Innovación, Emprendimiento y Cultura\n",
      "--\n",
      "Espero que en caso de segunda vuelta @NoticiasCaracol nos tenga un #ElPaísDeLosJóvenes 2. @MAVILLAMZAR\n",
      "--\n",
      "Así es que es bueno trasnocharse. Escuchando a alguien que sabe lo que quiere para el pais. #profefajardopresidente #ElPaisDeLosJovenes\n",
      "--\n",
      "Mientras todos duermen, Eileen se trasnocha viendo #elpaisdelosjovenes #colombiadecide  https://www.instagram.com/p/Bhf1J1knewZ/ \n",
      "--\n",
      "Tercer debate que veo  #ElPaisDeLosJovenes y creo que si bien aún no estoy totalmente convencido, mi voto va para @DeLaCalleHum\n",
      "--\n"
     ]
    }
   ],
   "source": [
    "print(len(grupo2))\n",
    "for e in range(700,710):\n",
    "    print(tweets[grupo2[e]])\n",
    "    print('--')"
   ]
  },
  {
   "cell_type": "code",
   "execution_count": 83,
   "metadata": {},
   "outputs": [
    {
     "name": "stdout",
     "output_type": "stream",
     "text": [
      "1135\n",
      "Viendo a Fajardo en #ElPaísDeLosJóvenes <Emoji: Smiling face with heart-shaped eyes> #SePuede\n",
      "--\n",
      "#ElPaisDeLosJovenes  Dr @sergio_fajardo que tiene ud en su plan de gobierno para reducir el trabajo infantil????\n",
      "--\n",
      "#ElPaísDeLosJóvenes quisera que @sergio_fajardo nos dijera con claridad si va a subir o no la edad y las semanas de cotización para pensión\n",
      "--\n",
      "Se nota la empatía de @sergio_fajardo con los jóvenes en #ElPaisDeLosJovenes de @NoticiasCaracol Ahí no hay favoritismos, como dicen uribistas porque hubo críticas a @IvanDuque , sino que hay credibilidad por una opción distinta y decente. El centro es firme.\n",
      "--\n",
      "Fajardo un candidato con buenas ideas, experiencia, honestidad, aterrizado a la realidad. Mi candidato hasta este momento #ElPaisDeLosJovenes\n",
      "--\n",
      "El corazón del Acuerdo, y de cualquier otro que se negocie, tienen que ser las víctimas. Ellos por encima de cualquier otro actor en el conflicto. Bien @sergio_fajardo¿Por qué no reunir esfuerzos con @DeLaCalleHum y @petrogustavo? Por favor.#ElPaísDeLosJóvenes\n",
      "--\n",
      "“En medio de la guerra, no habrán oportunidades para muchos” - @sergio_fajardo en  #ElPaísDeLosJóvenes, después de comprometerse a someter con rigor a BACRIM y a ELN y sentarlos a negociar con seriedad.\n",
      "--\n",
      "#ElPaisDeLosJovenes , definitivamente Fajardo el mejor candidato junto a de la Calle, la tienen clara. Ya tengo clarísimo mi Voto.\n",
      "--\n",
      "@sergio_fajardo Cuando se sabe  de lo que se habla es fácil hacerse entender. #ElPaisDeLosJovenes\n",
      "--\n",
      "Es él, no hay más @sergio_fajardo #ElPaisDeLosJovenes\n",
      "--\n"
     ]
    }
   ],
   "source": [
    "print(len(grupo3))\n",
    "for e in range(1000,1010):\n",
    "    print(tweets[grupo3[e]])\n",
    "    print('--')"
   ]
  },
  {
   "cell_type": "markdown",
   "metadata": {},
   "source": [
    "Fajardo y dela calle "
   ]
  },
  {
   "cell_type": "code",
   "execution_count": 87,
   "metadata": {},
   "outputs": [
    {
     "name": "stdout",
     "output_type": "stream",
     "text": [
      "0\n"
     ]
    }
   ],
   "source": [
    "print(len(grupo4))\n",
    "for e in range(0,0):\n",
    "    print(tweets[grupo4[e]])\n",
    "    print('--')"
   ]
  },
  {
   "cell_type": "code",
   "execution_count": 108,
   "metadata": {},
   "outputs": [
    {
     "name": "stdout",
     "output_type": "stream",
     "text": [
      "0\n"
     ]
    }
   ],
   "source": [
    "print(len(grupo5))\n",
    "for e in range(0,0):\n",
    "    print(tweets[grupo5[e]])\n",
    "    print('--')"
   ]
  },
  {
   "cell_type": "markdown",
   "metadata": {},
   "source": [
    "# Encontrar las keyWords de cada grupo"
   ]
  },
  {
   "cell_type": "code",
   "execution_count": 113,
   "metadata": {},
   "outputs": [],
   "source": [
    "twts = []\n",
    "stopwords2 = ('http','debate','caribe','youtube','be','youtu','https')\n",
    "#ahora limpiamos todos los tweets\n",
    "for tw in tweets:\n",
    "    w = re.sub('(http(s?)://)(w{3})(\\.\\w+)(\\.(\\w{3})(\\.\\w{2})?)(/.*)?(\\s)|(<.*>)',' ',tw)\n",
    "    w = re.sub('(http(s?)://)?(\\w+\\.)?(\\w+\\.\\w{3}(/.+)?)',' ',w).lower()\n",
    "    x = re.sub('[^a-zA-Zóáéíúñ]|https|goo|gl',' ',w).split(' ')\n",
    "    l = [word for word in x if (not word in set(stopwords.words('spanish'))) and (not word in stopwords2) and word != '']\n",
    "    twts.append(l)"
   ]
  },
  {
   "cell_type": "code",
   "execution_count": 115,
   "metadata": {},
   "outputs": [
    {
     "name": "stdout",
     "output_type": "stream",
     "text": [
      "['moralesviviane ivanduque julytrsplcs adanagueo si duque elpaisdelosjovenes dijo creía vida concepción deacuerdo aborto tres casos despenaliza ley osea bien matar creo peor acuerdo aborto creyendo vida', 'colombianos votantes favor voten duque miedo petro petro miedo conciencia considere mejor opción eleccionescolombia elpaisdelosjovenes', 'ivanduque olgallego mismo elpaisdelosjovenes dijo creer vida concepción acuerdo matar tres casos aprueba ley vaya buen cristiano', 'yovotofajardo país izquierda derecha elpaisdelosjovenes', 'colcheck chequeo respuestas ivanduque elpaisdelosjovenes']\n"
     ]
    }
   ],
   "source": [
    "gruposlimpios = []\n",
    "for e in twts:\n",
    "    gruposlimpios.append(' '.join(e))\n",
    "print(gruposlimpios[:5])"
   ]
  },
  {
   "cell_type": "code",
   "execution_count": 118,
   "metadata": {},
   "outputs": [],
   "source": [
    "groups = [[gruposlimpios[e] for e in grupo1],[gruposlimpios[e] for e in grupo2],[gruposlimpios[e] for e in grupo3]]"
   ]
  },
  {
   "cell_type": "code",
   "execution_count": 122,
   "metadata": {},
   "outputs": [],
   "source": [
    "parrafos = []\n",
    "for tw in groups:\n",
    "    parrafos.append(\" \".join(tw))"
   ]
  },
  {
   "cell_type": "code",
   "execution_count": null,
   "metadata": {},
   "outputs": [],
   "source": [
    "from gensim.summarization import keywords\n",
    "kwords = []\n",
    "for p in parrafos:\n",
    "    kwords.append(keywords(p).split('\\n')[0:5])"
   ]
  }
 ],
 "metadata": {
  "kernelspec": {
   "display_name": "Python 3",
   "language": "python",
   "name": "python3"
  },
  "language_info": {
   "codemirror_mode": {
    "name": "ipython",
    "version": 3
   },
   "file_extension": ".py",
   "mimetype": "text/x-python",
   "name": "python",
   "nbconvert_exporter": "python",
   "pygments_lexer": "ipython3",
   "version": "3.5.3"
  }
 },
 "nbformat": 4,
 "nbformat_minor": 2
}
