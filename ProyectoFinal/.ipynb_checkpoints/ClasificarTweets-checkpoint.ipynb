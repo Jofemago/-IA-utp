{
 "cells": [
  {
   "cell_type": "markdown",
   "metadata": {},
   "source": [
    "# CLASIFICACIÓN DE TWETS"
   ]
  },
  {
   "cell_type": "markdown",
   "metadata": {},
   "source": [
    "En este libro analizaremos tweets, los cuales se buscarán que sean sobre los debates de las elecciones colombianas, para ver que tipo de usuarios existen en twitter y se tratará de clasificar los comentarios."
   ]
  },
  {
   "cell_type": "markdown",
   "metadata": {},
   "source": [
    "Primero que todo obtuvimos unos cuantos twets por medio de la herramienta (twint)[https://github.com/haccer/twint], con la cual podemos obtener discusiones alrededor de hashtags.\n",
    "\n",
    "nuestro archivo se llamara output.csv."
   ]
  },
  {
   "cell_type": "markdown",
   "metadata": {},
   "source": [
    "Cargaremos el archivo con pandas"
   ]
  },
  {
   "cell_type": "code",
   "execution_count": 1,
   "metadata": {},
   "outputs": [],
   "source": [
    "import pandas as pd\n",
    "import numpy as np\n",
    "datos = pd.read_csv('output.csv', header = 0)"
   ]
  },
  {
   "cell_type": "markdown",
   "metadata": {},
   "source": [
    "Ahora vamos a ver como se estructuran los datos"
   ]
  },
  {
   "cell_type": "code",
   "execution_count": 3,
   "metadata": {},
   "outputs": [
    {
     "name": "stdout",
     "output_type": "stream",
     "text": [
      "                   id        date      time timezone             user_id  \\\n",
      "0  991850911835226112  2018-05-02  01:24:19      GMT          1713348180   \n",
      "1  991768558282604545  2018-05-02  19:57:05      GMT  876316397332307968   \n",
      "2  991755106751340547  2018-05-02  19:03:38      GMT          1713348180   \n",
      "3  991527191681945600  2018-05-01  03:57:58      GMT           438683266   \n",
      "4  991499060073914368  2018-05-01  02:06:11      GMT           138093954   \n",
      "\n",
      "       username                                              tweet  replies  \\\n",
      "0    dinativa86  @MoralesViviane @IvanDuque @JulyTrsplcs @adana...        0   \n",
      "1  JuanEGalvis1  A todos los colombianos y votantes, POR FAVOR ...        0   \n",
      "2    dinativa86  @IvanDuque @Olgallego El mismo que en #ElPaisD...        0   \n",
      "3   Lorenssssss  #YoVotoFajardo Por un país ni de izquierda ni ...        0   \n",
      "4         mmpa9  @Colcheck tienen el chequeo de las respuestas ...        0   \n",
      "\n",
      "   retweets  likes  location                                        hashtags  \\\n",
      "0         0      0       NaN                         ['#ElPaisDeLosJovenes']   \n",
      "1         0      0       NaN  ['#EleccionesColombia', '#ElPaisDeLosJovenes']   \n",
      "2         0      0       NaN                         ['#ElPaisDeLosJovenes']   \n",
      "3         0      4       NaN       ['#YoVotoFajardo', '#ElPaisDeLosJovenes']   \n",
      "4         0      0       NaN                         ['#ElPaisDeLosJovenes']   \n",
      "\n",
      "                                                link  \n",
      "0  https://twitter.com/dinativa86/status/99185091...  \n",
      "1  https://twitter.com/JuanEGalvis1/status/991768...  \n",
      "2  https://twitter.com/dinativa86/status/99175510...  \n",
      "3  https://twitter.com/Lorenssssss/status/9915271...  \n",
      "4  https://twitter.com/mmpa9/status/9914990600739...  \n"
     ]
    }
   ],
   "source": [
    "print(datos.ix[0:4])"
   ]
  },
  {
   "cell_type": "markdown",
   "metadata": {},
   "source": [
    "Aqui podemos ver todos los atributos, de los cuales solo nos importan los twets"
   ]
  },
  {
   "cell_type": "code",
   "execution_count": 5,
   "metadata": {},
   "outputs": [
    {
     "name": "stdout",
     "output_type": "stream",
     "text": [
      "0    @MoralesViviane @IvanDuque @JulyTrsplcs @adana...\n",
      "1    A todos los colombianos y votantes, POR FAVOR ...\n",
      "2    @IvanDuque @Olgallego El mismo que en #ElPaisD...\n",
      "3    #YoVotoFajardo Por un país ni de izquierda ni ...\n",
      "4    @Colcheck tienen el chequeo de las respuestas ...\n",
      "5    Por diferente que sea tu opinión, por pequeño ...\n",
      "Name: tweet, dtype: object\n",
      "<class 'str'>\n"
     ]
    }
   ],
   "source": [
    "tweets = datos['tweet']\n",
    "print(tweets.ix[0:5])\n",
    "\n",
    "#reviso el tipo de dato de un tweet\n",
    "print(type(tweets[0]))"
   ]
  },
  {
   "cell_type": "code",
   "execution_count": 6,
   "metadata": {},
   "outputs": [
    {
     "name": "stdout",
     "output_type": "stream",
     "text": [
      "@MoralesViviane @IvanDuque @JulyTrsplcs @adanagueo Pero si duque en #ElPaisDeLosJovenes  dijo que creía en la vida desde la concepción pero esta deacuerdo con el aborto en los tres casos que despenaliza la ley, osea que para el, esta bien matar. Yo creo que eso es peor que estar de acuerdo con el aborto creyendo que no hay vida.\n",
      "A todos los colombianos y votantes, POR FAVOR no voten por duque por miedo a petro, o por petro por miedo a Duque.Vote a conciencia y por el que considere su mejor opción.#EleccionesColombia #ElPaisDeLosJovenes\n"
     ]
    }
   ],
   "source": [
    "import spacy\n",
    "print(tweets[0])\n",
    "print(tweets[1])\n",
    "nlp = spacy.load('es')\n",
    "\n",
    "doc1 = nlp(tweets[0])\n",
    "doc2 = nlp(tweets[1])"
   ]
  },
  {
   "cell_type": "markdown",
   "metadata": {},
   "source": [
    "ahora lo que vamos a hacer es verificar que tan sililares son el primer y segundo tweet de los tweets que tenemos hasta ahora."
   ]
  },
  {
   "cell_type": "code",
   "execution_count": 7,
   "metadata": {},
   "outputs": [
    {
     "name": "stdout",
     "output_type": "stream",
     "text": [
      "0.6687402392079549\n",
      "0.6687402392079549\n"
     ]
    }
   ],
   "source": [
    "print(doc1.similarity(doc2))\n",
    "print(doc2.similarity(doc1))"
   ]
  },
  {
   "cell_type": "markdown",
   "metadata": {},
   "source": [
    "Ahora se creará un arreglo que sera NxN siendo N el numero de tweets que tengamos y este arreglo tenga la comparacion de similaridad de todos contra todos."
   ]
  },
  {
   "cell_type": "code",
   "execution_count": 8,
   "metadata": {},
   "outputs": [
    {
     "name": "stdout",
     "output_type": "stream",
     "text": [
      "3660\n"
     ]
    }
   ],
   "source": [
    "NroTweets = len(tweets)\n",
    "print(NroTweets)\n",
    "prueba = 10\n",
    "Msimilaridad = np.zeros((NroTweets, NroTweets))\n",
    "twToken = [nlp(tw) for tw in tweets]"
   ]
  },
  {
   "cell_type": "code",
   "execution_count": 9,
   "metadata": {},
   "outputs": [],
   "source": [
    "\n",
    "for i in range(NroTweets):\n",
    "    for j in range(NroTweets):\n",
    "        Msimilaridad[i][j] = twToken[i].similarity(twToken[j])\n"
   ]
  },
  {
   "cell_type": "code",
   "execution_count": 10,
   "metadata": {},
   "outputs": [
    {
     "name": "stdout",
     "output_type": "stream",
     "text": [
      "[[1.         0.66874024 0.8689584  ... 0.34080931 0.62231225 0.7175055 ]\n",
      " [0.66874024 1.         0.75646423 ... 0.54287942 0.48631865 0.69787063]\n",
      " [0.8689584  0.75646423 1.         ... 0.43549057 0.61666425 0.6998623 ]\n",
      " ...\n",
      " [0.34080931 0.54287942 0.43549057 ... 1.         0.49552691 0.59214324]\n",
      " [0.62231225 0.48631865 0.61666425 ... 0.49552691 1.         0.56815356]\n",
      " [0.7175055  0.69787063 0.6998623  ... 0.59214324 0.56815356 1.        ]]\n"
     ]
    }
   ],
   "source": [
    "print(Msimilaridad)"
   ]
  },
  {
   "cell_type": "markdown",
   "metadata": {},
   "source": [
    "Esto lo veremos como una matriz de distancias, ahora lo que deseamos es crear grupos dependiendo de esas distancias, grupos en los cuales los tweets tengan similaridades mayores del 95%, por empezar usaremos un diccionario de la siguiente manera y validaremos que los tweets sean un poco parecidos."
   ]
  },
  {
   "cell_type": "code",
   "execution_count": 53,
   "metadata": {},
   "outputs": [],
   "source": [
    "Grupos = {}\n",
    "for tw in range(NroTweets):\n",
    "    Grupos[tweets[tw]] = []\n",
    "    for cmptw in range(NroTweets):\n",
    "        if Msimilaridad[tw][cmptw] >= 0.90:\n",
    "            if tw != cmptw:\n",
    "                Grupos[tweets[tw]].append(tweets[cmptw])\n",
    "            "
   ]
  },
  {
   "cell_type": "markdown",
   "metadata": {},
   "source": [
    "Ahora compararemos par de grupos para ver que tanta conexion existe"
   ]
  },
  {
   "cell_type": "code",
   "execution_count": 54,
   "metadata": {},
   "outputs": [
    {
     "name": "stdout",
     "output_type": "stream",
     "text": [
      "907\n"
     ]
    }
   ],
   "source": [
    "cant = 0\n",
    "for tw in range(NroTweets):\n",
    "    if len(Grupos[tweets[tw]]) > 0:\n",
    "        cant += 1\n",
    "\n",
    "print(cant)\n",
    "\n"
   ]
  },
  {
   "cell_type": "markdown",
   "metadata": {},
   "source": [
    "con esta forma de validar vemos que solo hay 236 tweets que tienen relación con otros, vamos a ver un par de tweets para ver un poco esto."
   ]
  },
  {
   "cell_type": "code",
   "execution_count": 55,
   "metadata": {},
   "outputs": [
    {
     "name": "stdout",
     "output_type": "stream",
     "text": [
      "grupo:  1\n",
      "#YoVotoFajardo Por un país ni de izquierda ni de derecha #ElPaisDeLosJovenes <Emoji: Nerd face><Emoji: Bar chart><Emoji: Books><Emoji: Pencil><Emoji: Memo><Emoji: Chart with upwards trend>\n",
      "#ElPaísDeLosJóvenes Que Grande Eres @sergio_fajardo, un candidato completo e idóneo para sacar a <Emoji: Flag of Colombia> adelante sin corrupción y más educación <Emoji: Heavy check mark>\n",
      "grupo:  2\n",
      "#SiSeCumpliera seria una #Colombia con #LaFuerzaDeLaEsperanza que le da a un #Profesor para enseñar en #ElPaisDeLosJovenes que #SePuede https://twitter.com/fecode/status/991414473192861696 …\n",
      "Despues que lo llamó #Bronx de #Colombia o que al #Bronx de #Bogotá lo llamó el #Catatumbo hace tres años? Ni #Coscorrones ni #titere menos un #populista #ExAlcalde #EleccionesColombia conteo regresivo para que se acabe esto #ColombiaDecide este es #ElPaisDeLosJovenes #SePuede https://twitter.com/JoseMAcevedo/status/988759754054012928 …\n"
     ]
    }
   ],
   "source": [
    "grupo = 0\n",
    "for tw in range(NroTweets):\n",
    "    if len(Grupos[tweets[tw]]) > 0:\n",
    "        grupo += 1\n",
    "        print('grupo: ', grupo)\n",
    "        print(tweets[tw])\n",
    "        print(Grupos[tweets[tw]][1])\n",
    "        \n",
    "    \n",
    "    if grupo == 2:\n",
    "        break\n",
    "        \n",
    "        "
   ]
  },
  {
   "cell_type": "markdown",
   "metadata": {},
   "source": [
    "Ahora lo que haremos será usar un algoritmo de clasificación de la libreria sklearn , que se llama KMEANS, para crear centroides y que los tweets se ubiquen alrededor de estos."
   ]
  }
 ],
 "metadata": {
  "kernelspec": {
   "display_name": "Python 3",
   "language": "python",
   "name": "python3"
  },
  "language_info": {
   "codemirror_mode": {
    "name": "ipython",
    "version": 3
   },
   "file_extension": ".py",
   "mimetype": "text/x-python",
   "name": "python",
   "nbconvert_exporter": "python",
   "pygments_lexer": "ipython3",
   "version": "3.5.3"
  }
 },
 "nbformat": 4,
 "nbformat_minor": 2
}
