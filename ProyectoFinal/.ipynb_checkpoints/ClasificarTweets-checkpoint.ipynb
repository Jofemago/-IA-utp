{
 "cells": [
  {
   "cell_type": "markdown",
   "metadata": {},
   "source": [
    "# CLASIFICACIÓN DE TWETS"
   ]
  },
  {
   "cell_type": "markdown",
   "metadata": {},
   "source": [
    "En este libro analizaremos tweets, los cuales se buscarán que sean sobre los debates de las elecciones colombianas, para ver que tipo de usuarios existen en twitter y se tratará de clasificar los comentarios."
   ]
  },
  {
   "cell_type": "markdown",
   "metadata": {},
   "source": [
    "Primero que todo obtuvimos unos cuantos twets por medio de la herramienta [twint](https://github.com/haccer/twint), con la cual podemos obtener discusiones alrededor de hashtags.\n",
    "\n",
    "nuestro archivo se llamara output.csv."
   ]
  },
  {
   "cell_type": "markdown",
   "metadata": {},
   "source": [
    "Cargaremos el archivo con pandas"
   ]
  },
  {
   "cell_type": "code",
   "execution_count": 3,
   "metadata": {},
   "outputs": [],
   "source": [
    "import pandas as pd\n",
    "import numpy as np\n",
    "from sklearn.cluster import KMeans \n",
    "#importamos la libreria que realizara los grupos\n",
    "import matplotlib.pyplot as plt\n",
    "%matplotlib inline \n",
    "datos = pd.read_csv('DebateFinal.csv', header = 0)"
   ]
  },
  {
   "cell_type": "markdown",
   "metadata": {},
   "source": [
    "Ahora vamos a ver como se estructuran los datos"
   ]
  },
  {
   "cell_type": "code",
   "execution_count": 5,
   "metadata": {},
   "outputs": [
    {
     "name": "stdout",
     "output_type": "stream",
     "text": [
      "                    id        date      time  timezone     user_id  \\\n",
      "0  1000556241809301506  2018-05-26  20:56:12        -5  1263171930   \n",
      "1  1000555863877267456  2018-05-26  20:54:42        -5   273097602   \n",
      "2  1000555706544721920  2018-05-26  20:54:04        -5   273097602   \n",
      "3  1000554579052892161  2018-05-26  20:49:35        -5   147005653   \n",
      "4  1000552985557159941  2018-05-26  20:43:15        -5  2322843736   \n",
      "\n",
      "          username                                              tweet  \\\n",
      "0     CulturaNEIVA  #LeySeca #DebateFinal #ColombiaDecide #Eleccio...   \n",
      "1  MAGODELASINTONI  Retweeted Lorena <Emoji: Victory hand><Emoji: ...   \n",
      "2  MAGODELASINTONI  Retweeted MANUEL GONZALEZ (@MAGODELASINTONI):R...   \n",
      "3       IvanTrinos  Retweeted <Emoji: Regional indicator symbol le...   \n",
      "4      EPachoncito  Como tendremos la garantía de q no nos roben l...   \n",
      "\n",
      "   replies  retweets  likes  location  \\\n",
      "0        0       NaN      0       NaN   \n",
      "1        0       NaN      0       NaN   \n",
      "2        0       NaN      0       NaN   \n",
      "3        0       NaN      0       NaN   \n",
      "4        0       NaN      0       NaN   \n",
      "\n",
      "                                            hashtags  \\\n",
      "0  ['#LeySeca', '#DebateFinal', '#ColombiaDecide'...   \n",
      "1                                   ['#DebateFinal']   \n",
      "2                                   ['#DebateFinal']   \n",
      "3  ['#LaBodegaDePetro', '#DebateFinal', '#Colombi...   \n",
      "4   ['#Colombia', '#DebateFinal', '#ColombiaDecide']   \n",
      "\n",
      "                                                link  retweet  user_rt  \n",
      "0  https://twitter.com/CulturaNEIVA/status/100055...    False      NaN  \n",
      "1  https://twitter.com/MAGODELASINTONI/status/100...    False      NaN  \n",
      "2  https://twitter.com/MAGODELASINTONI/status/100...    False      NaN  \n",
      "3  https://twitter.com/IvanTrinos/status/10005545...    False      NaN  \n",
      "4  https://twitter.com/EPachoncito/status/1000552...    False      NaN  \n"
     ]
    }
   ],
   "source": [
    "print(datos.ix[0:4])"
   ]
  },
  {
   "cell_type": "markdown",
   "metadata": {},
   "source": [
    "Aqui podemos ver todos los atributos, de los cuales solo nos importan los twets"
   ]
  },
  {
   "cell_type": "code",
   "execution_count": 49,
   "metadata": {},
   "outputs": [
    {
     "name": "stdout",
     "output_type": "stream",
     "text": [
      "93834\n",
      "['#LeySeca #DebateFinal #ColombiaDecide #EleccionesColombia #Elecciones2018 #EleccionesPresidenciales2018 Huila: la jornada en cifrasPuestos de votación 215Mesas 2.178Personas habilitadas para sufragar 817.464Jurados de votación 14.475 Y más en ....  https://goo.gl/JDxHHG\\xa0', 'Retweeted Lorena <Emoji: Victory hand><Emoji: Victory hand> (@lorenita_sua):Si Duque va a desmantelar el crimen organizado, va acabar entonces con el Centro Democrático? #DebateFinal', 'Retweeted MANUEL GONZALEZ (@MAGODELASINTONI):Retweeted Elmer José Montaña G (@elmermontana):#DebateFinal @IvanDuque insiste en su propuesta “el que la hace la paga”,  pero no ha dicho si...  https://www.facebook.com/permalink.php?story_fbid=2102028893146971&id=100000196412300\\xa0…', 'Retweeted <Emoji: Regional indicator symbol letter r> <Emoji: Regional indicator symbol letter u> <Emoji: Regional indicator symbol letter b> <Emoji: Regional indicator symbol letter e> <Emoji: Regional indicator symbol letter n>® #LaBodegaDePetro (@RubenPinzonHdez):\"No me he robado un peso, se burlan de mi declaración de renta porque mis deudas son mayores que mis activos\" @petrogustavo #DebateFinal #ColombiaDecide #PetroEnPrimeraVuelta pic.twitter.com/UfyNA2hk0Z', 'Como tendremos la garantía de q no nos roben las elecciones <Emoji: Ballot box with ballot>?? Recordemos q en #Colombia pasa lo q no debe y lo dejamos pasar #DebateFinal #ColombiaDecide', 'Cuando el odio por @AlvaroUribeVel sea menor que nuestro amor por la democracia Colombia <Emoji: Flag of Colombia> estará libre de Farc y #Comunismo #DebateFinal']\n",
      "<class 'str'>\n"
     ]
    }
   ],
   "source": [
    "tweets = datos['tweet']\n",
    "print(list(tweets.ix[0:5]))\n",
    "tweets = tweet[5]\n",
    "print(len(tweets))\n",
    "\n",
    "\n",
    "#reviso el tipo de dato de un tweet\n",
    "print(type(tweets[0]))"
   ]
  },
  {
   "cell_type": "code",
   "execution_count": 48,
   "metadata": {},
   "outputs": [
    {
     "name": "stdout",
     "output_type": "stream",
     "text": [
      "#ColombiaDecide \"Una Sociedad Civil Resilente Contribuye a poner Fin a los Abusos, Superar las Adversidades y Restituir Las Instituciones Democráticas\"@Sinmordaza @PJGuaicaipuro1\n",
      "A votar mañana y no al abstencionismo!! Les dejo la foto por quien voy a votar mañana. #Votaciones2018 #ColombiaDecide #NoAlAbstensionismo pic.twitter.com/Ty7uhHRjyT\n"
     ]
    }
   ],
   "source": [
    "import spacy\n",
    "print(tweets[0])\n",
    "print(tweets[1])\n",
    "nlp = spacy.load('es')\n",
    "\n",
    "doc1 = nlp(tweets[0])\n",
    "doc2 = nlp(tweets[1])"
   ]
  },
  {
   "cell_type": "markdown",
   "metadata": {},
   "source": [
    "ahora lo que vamos a hacer es verificar que tan sililares son el primer y segundo tweet de los tweets que tenemos hasta ahora."
   ]
  },
  {
   "cell_type": "code",
   "execution_count": 49,
   "metadata": {},
   "outputs": [
    {
     "name": "stdout",
     "output_type": "stream",
     "text": [
      "0.5026098397409142\n",
      "0.5026098397409142\n"
     ]
    }
   ],
   "source": [
    "print(doc1.similarity(doc2))\n",
    "print(doc2.similarity(doc1))"
   ]
  },
  {
   "cell_type": "markdown",
   "metadata": {},
   "source": [
    "Ahora se creará un arreglo que sera NxN siendo N el numero de tweets que tengamos y este arreglo tenga la comparacion de similaridad de todos contra todos."
   ]
  },
  {
   "cell_type": "code",
   "execution_count": 50,
   "metadata": {},
   "outputs": [
    {
     "name": "stdout",
     "output_type": "stream",
     "text": [
      "2583\n"
     ]
    }
   ],
   "source": [
    "NroTweets = len(tweets)\n",
    "print(NroTweets)\n",
    "#prueba = 10\n",
    "Msimilaridad = np.zeros((NroTweets, NroTweets))\n",
    "twToken = [nlp(tw) for tw in tweets]"
   ]
  },
  {
   "cell_type": "code",
   "execution_count": 51,
   "metadata": {},
   "outputs": [],
   "source": [
    "\n",
    "for i in range(NroTweets):\n",
    "    for j in range(NroTweets):\n",
    "        Msimilaridad[i][j] = twToken[i].similarity(twToken[j])\n"
   ]
  },
  {
   "cell_type": "code",
   "execution_count": 52,
   "metadata": {},
   "outputs": [
    {
     "name": "stdout",
     "output_type": "stream",
     "text": [
      "[[1.         0.50260984 0.31183651 ... 0.47718834 0.4889369  0.61141213]\n",
      " [0.50260984 1.         0.6948295  ... 0.52479828 0.70282675 0.74505197]\n",
      " [0.31183651 0.6948295  1.         ... 0.43419041 0.7425919  0.68030054]\n",
      " ...\n",
      " [0.47718834 0.52479828 0.43419041 ... 1.         0.53347408 0.67323077]\n",
      " [0.4889369  0.70282675 0.7425919  ... 0.53347408 1.         0.80480965]\n",
      " [0.61141213 0.74505197 0.68030054 ... 0.67323077 0.80480965 1.        ]]\n"
     ]
    }
   ],
   "source": [
    "print(Msimilaridad)"
   ]
  },
  {
   "cell_type": "markdown",
   "metadata": {},
   "source": [
    "Esto lo veremos como una matriz de distancias, ahora lo que deseamos es crear grupos dependiendo de esas distancias, grupos en los cuales los tweets tengan similaridades mayores del 95%, por empezar usaremos un diccionario de la siguiente manera y validaremos que los tweets sean un poco parecidos."
   ]
  },
  {
   "cell_type": "code",
   "execution_count": 53,
   "metadata": {},
   "outputs": [],
   "source": [
    "Grupos = {}\n",
    "for tw in range(NroTweets):\n",
    "    Grupos[tweets[tw]] = []\n",
    "    for cmptw in range(NroTweets):\n",
    "        if Msimilaridad[tw][cmptw] >= 0.90:\n",
    "            #if tw != cmptw:\n",
    "            Grupos[tweets[tw]].append(tweets[cmptw])\n",
    "            "
   ]
  },
  {
   "cell_type": "markdown",
   "metadata": {},
   "source": [
    "Ahora compararemos par de grupos para ver que tanta conexion existe"
   ]
  },
  {
   "cell_type": "code",
   "execution_count": 54,
   "metadata": {},
   "outputs": [
    {
     "name": "stdout",
     "output_type": "stream",
     "text": [
      "2583\n"
     ]
    }
   ],
   "source": [
    "cant = 0\n",
    "for tw in range(NroTweets):\n",
    "    if len(Grupos[tweets[tw]]) > 0:\n",
    "        cant += 1\n",
    "\n",
    "print(cant)\n",
    "\n"
   ]
  },
  {
   "cell_type": "code",
   "execution_count": 55,
   "metadata": {},
   "outputs": [],
   "source": [
    "\n",
    "\n",
    "grordenado = sorted(Grupos.values(), key = lambda k : len(k))\n",
    "tambar = [len(gr) for gr in grordenado]\n",
    "X = range(len(tambar))\n",
    "        \n",
    "        "
   ]
  },
  {
   "cell_type": "code",
   "execution_count": 56,
   "metadata": {},
   "outputs": [
    {
     "data": {
      "image/png": "[encoded data removed]",
      "text/plain": [
       "<matplotlib.figure.Figure at 0x7f26122efa58>"
      ]
     },
     "metadata": {},
     "output_type": "display_data"
    }
   ],
   "source": [
    "plt.bar(X, tambar, label = 'Grupos basicos')\n",
    "plt.show()\n"
   ]
  },
  {
   "cell_type": "code",
   "execution_count": 62,
   "metadata": {},
   "outputs": [
    {
     "name": "stdout",
     "output_type": "stream",
     "text": [
      "161\n"
     ]
    }
   ],
   "source": [
    "#obtener los grupos que tengan mas de 10 tweets\n",
    "\n",
    "similares = []\n",
    "for e in grordenado:\n",
    "    if len(e) >= 50:\n",
    "        similares.append(e)\n",
    "#print(tambar)\n",
    "print(len(similares))"
   ]
  },
  {
   "cell_type": "code",
   "execution_count": 63,
   "metadata": {},
   "outputs": [
    {
     "name": "stdout",
     "output_type": "stream",
     "text": [
      "68\n",
      "-----\n",
      "#MeDecidíPorPetro<Emoji: Ballot box with check>#ColombiaDecide Por el campo <Emoji: Seedling>Por la igualdad ⚌Por la paz <Emoji: Dove of peace><Emoji: Heavy red heart>Por la salud <Emoji: Syringe><Emoji: Pill>Por la educación <Emoji: Books>Por el medio ambiente <Emoji: Universal recycling symbol>Por amor <Emoji: Heavy red heart> a Colombia #MeDecidíPorPetro#MañanaGanaPetro\n",
      "-----\n",
      "Mañana #ColombiaDecide @IvanDuque #Presidente @mluciaramirez #Vicepresidente <Emoji: Flag of Colombia> pic.twitter.com/Qpk12MUbFx\n",
      "-----\n",
      "@Vicme100 #Venezuela<Emoji: Flag of Venezuela> No era Cuba...!!!Y #Colombia<Emoji: Flag of Colombia> No Será Venezuela.#Petro #ColombiaDecide #Uribe #DuqueSeGanoMiVoto\n",
      "-----\n",
      "Despues de ver lealtad de Petro y izquierda en Colombia al legado de justicia social del comandante Chavez desde el comienzo de estas batallas socialistas....#MeDecidíPorPetro !Adelante el progresismo socialista latinoamericano!UNION!#ColombiaDecide<Emoji: Flag of Colombia><Emoji: Flag of Venezuela><Emoji: Flag of Cuba><Emoji: Flexed biceps>  pic.twitter.com/6tEQzVepZF\n",
      "-----\n",
      "#ColombiaDecide Acompáñanos este Domingo 27 de Mayo en el gran cubrimiento especial de Elecciones Presidenciales 2018, que hará el Grupo Empresarial Cadena Radial La Piragua, sigue la transmisión por todos nuestros medios de comunicación radio, Televisión y prensa en vivo<Emoji: Studio microphone><Emoji: Television><Emoji: Satellite antenna>  pic.twitter.com/OeIONbW4Wz\n",
      "-----\n",
      "Plan #Domingo27DeMayo #ColombiaDecide 06:00h Alzarriba o Diana06:15h Ducha de agua fría06:20h Vestirse06:30h Hacer desayuno07:30h Tomar medicinas07:45h Salir de casa <Emoji: House with garden> a #VotarEnMasa08:30h Arribo a la mesa de votación09:00h Regreso feliz a<Emoji: House with garden>16:00h Mirar<Emoji: Television> resultados<Emoji: Hugging face>\n",
      "-----\n",
      "- Alo, ¿Iván Duque? @IvanDuque- Sí, con el- Oye, te hablo desde la prisión <Emoji: Musical score><Emoji: Multiple musical notes><Emoji: Musical score><Emoji: Multiple musical notes>- Hahaha, Popeye, usted si es la cagada....#Elecciones2018#ConFajardoEnLaPrimera#ColombiaDecide#TeHabloDesdeLaPrision<Emoji: Rolling on the floor laughing><Emoji: Rolling on the floor laughing>\n",
      "-----\n",
      "Mi perro Simón apoyando a @IvanDuque y a @mluciaramirez #RCNConTuElección <Emoji: Flag of Colombia> #TúEliges <Emoji: Ballot box with ballot> #ColombiaDecide #ColombiaVota #DuquePresidente pic.twitter.com/x3RtIVV7wq\n",
      "-----\n",
      "Ahora con más fuerza...voto...Duque presidente. #RCNConTuElección <Emoji: Flag of Colombia> #TúEliges <Emoji: Ballot box with ballot> #ColombiaDecide #ColombiaVota #DuquePresidente\n",
      "-----\n",
      "Espero de todo corazón que los hermanos de #ColombiaDecide <Emoji: Flag of Colombia> elijan bien... No querrán comer de la <Emoji: Pile of poo> como la que tenemos aquí <Emoji: Flag of Venezuela><Emoji: Person with folded hands (light skin tone)>\n",
      "-----\n",
      "Video: Perfil: Humberto de la Calle, candidato a la presidencia de Colombia  http://bit.ly/2IP4wkg  #Elecciones #ColombiaDecide\n",
      "-----\n",
      "¡Se acerca la jornada electoral! <Emoji: Raised hand><Emoji: Woman><Emoji: Writing hand><Emoji: Nerd face>#TengaEnCuenta La siguiente información para las elecciones presidenciales del 27 de mayo.<Emoji: Ballot box with ballot> #ColombiaDecide <Emoji: White heavy check mark>#TunjaCiudadDeOrigen <Emoji: Ballot box with ballot> pic.twitter.com/vaiWQ9be37\n",
      "-----\n",
      "¡Se acerca la jornada electoral! <Emoji: Raised hand><Emoji: Woman><Emoji: Writing hand><Emoji: Nerd face>#TengaEnCuenta La siguiente información para las elecciones presidenciales del 27 de mayo.<Emoji: Ballot box with ballot> #ColombiaDecide <Emoji: White heavy check mark>#TunjaCiudadDeOrigen <Emoji: Ballot box with ballot> pic.twitter.com/4VdmRNXi3A\n",
      "-----\n",
      "En una Colombia ideal Fajardo y De la Calle pasarían a competir en segunda vuelta. Pero bueno, lo mejor es unirnos <Emoji: Flag of Colombia><Emoji: Raised hand with part between middle and ring fingers><Emoji: Microscope> #ConFajardoEnLaPrimera <Emoji: Heavy red heart> #ColombiaDecide\n",
      "-----\n",
      "Recordemos el deber y derecho que tenemos como #Colombianos de salir mañana 27 de Mayo a elegir nuestro futuro <Emoji: Flag of Colombia><Emoji: Flag of Colombia><Emoji: Flag of Colombia>En #CanalTVC #SomosCiudad y estaremos cubriendo la jornada electoral.#Bucaramanga #ColombiaDecide #Colombia pic.twitter.com/H7r7QMGFsz\n",
      "-----\n",
      "Hoy por Colombia <Emoji: Flag of Colombia> #ColombiaDecide #ColombianosEnLosAngeles pic.twitter.com/ucgN1KMU5N\n",
      "-----\n",
      "Porque #Colombia Se Merece Una Vida Mejor, desde Boston in The Commonwealth of Massachusetts #YoVotéFajardo.  #VamosColombia #SiSePuede <Emoji: Flag of Colombia><Emoji: Flag of Colombia><Emoji: Flag of Colombia>#SergioFajardo #ClaudiaLopez @sergio_fajardo @ClaudiaLopez#ColombiaDecide  pic.twitter.com/XtIE9Zecvw\n",
      "-----\n",
      "-Aló, Iván Duque?-Si, con él-Oye, Te hablo desde la prisión <Emoji: Musical score><Emoji: Musical note><Emoji: Musical note>- Jajajajajaja Popeye, qué gonorrea sos vos...#ColombiaDecide #Porky #Elecciones2018\n",
      "-----\n",
      "#ColombiaDecide#MañanaGanaPetro#PetroPresidente <Emoji: Flag of Colombia><Emoji: Ballot box with ballot> pic.twitter.com/mqGMb0lx2d\n",
      "-----\n",
      "#ColombiaDecide Acompáñanos este Domingo 27 de Mayo en el gran cubrimiento especial de Elecciones Presidenciales 2018, que hará el Grupo Empresarial Cadena Radial La Piragua, sigue la transmisión por todos nuestros medios de comunicación radio, Televisión y prensa en vivo<Emoji: Studio microphone><Emoji: Television><Emoji: Satellite antenna>  pic.twitter.com/zEnGoXL392\n",
      "-----\n",
      "#MañanaGanaPetro#PetroPresidente <Emoji: Flag of Colombia><Emoji: Ballot box with ballot>#ColombiaDecide  pic.twitter.com/tyJepYX5a1\n",
      "-----\n",
      "So thrilled for Ireland and Irish women <Emoji: Flag of Ireland><Emoji: Shamrock> #repealtheeigth Let's hope tomorrow Colombia does the right thing too in our Presidental elections #ColombiaDecide #FajardoPresidente <Emoji: Flag of Colombia>\n",
      "-----\n",
      "#ColombiaDecide | Mira lo que  <Emoji: Female teacher>#JustaIncorrupta le responde a @German_Vargas sobre sus #propuestas en temas tributarios <Emoji: Downwards arrow><Emoji: Downwards arrow><Emoji: Downwards arrow>#Elecciones2018 https://youtu.be/7qLgEypQ8Hg \n",
      "-----\n",
      "@andrespaz2017 #DomingoVotoDuque <Emoji: Left pointing backhand index (medium light skin tone)> salvemos a <Emoji: Flag of Colombia> <Emoji: Ballot box with ballot> #ColombiaDecide  pic.twitter.com/HgFTskbzx8\n",
      "-----\n",
      "Colombia gana #ConFajardoEnLaPrimera <Emoji: Yellow heart><Emoji: Blue heart><Emoji: Growing heart> #SePuede #LaRemontadaDeFajardo #LaFuerzaDeLaEsperanza #ColombiaDecide  pic.twitter.com/ZLiD5C5UbI\n",
      "-----\n",
      "#ColombiaDecide | Conoce lo que  <Emoji: Female teacher> #JustaIncorrupta le respondió a @petrogustavo sobre sus #propuestas en temas tributarios <Emoji: Downwards arrow><Emoji: Downwards arrow><Emoji: Downwards arrow>#Elecciones2018 https://youtu.be/Or3k1KWfZQM \n",
      "-----\n",
      "Mañana, voypa por @DeLaCalleHum. Estoy completamente seguro que es el mejor preparado de todos los candidatos para gobernar a mi Colombia. <Emoji: Flag of Colombia><Emoji: Flag of Colombia><Emoji: Flag of Colombia><Emoji: Flag of Colombia><Emoji: Flag of Colombia> #ColombiaDecide <Emoji: Ballot box with ballot><Emoji: Ballot box with ballot><Emoji: Ballot box with ballot>  pic.twitter.com/z07VliKDb2\n",
      "-----\n",
      "#ColombiaDecide que #MañanaGanaPetro <Emoji: Heavy red heart><Emoji: Flag of Colombia>\n",
      "-----\n",
      "#MañanaGanaPetro.  #PetroPresidente #PetroEsLaPrimavera #PetroEnPrimeraVuelta #PetroGanaDebateFinal #ColombiaHumana #ColombiaDecide2018 #ColombiaDecide  que Petro va hacer nuestro presidente...mañana Colombia estara de #PetroParty ....modo petrosky...<Emoji: Avocado><Emoji: Flag of Colombia><Emoji: Avocado><Emoji: Flag of Colombia><Emoji: Avocado><Emoji: Flag of Colombia><Emoji: Avocado><Emoji: Flag of Colombia>\n",
      "-----\n",
      "#ColombiaDecide | ¿La facturación electrónica es la forma para aumentar la eficiencia de la @DIANColombia? <Emoji: Thinking face><Emoji: Thinking face><Emoji: Thinking face>Mira lo que le responde <Emoji: Female teacher> #JustaIncorrupta a @IvanDuque sobre este y otros temas tributarios  <Emoji: Downwards arrow><Emoji: Downwards arrow><Emoji: Downwards arrow>#Elecciones2018 https://youtu.be/bKrStS1ni9Q \n",
      "-----\n",
      "@German_Vargas @HumbertDLKY #DeLaCalleEnSegunda#ColombiaDecide  siiiiii <Emoji: Smiling face><Emoji: Smiling face>\n",
      "-----\n",
      "@DeLaCalleHum @donandreshoyos #DeLaCalleEnSegunda#ColombiaDecide  siiiiii <Emoji: Smiling face><Emoji: Smiling face>\n",
      "-----\n",
      "Sígueme de nuevo ya que lo envidiosos Chavistas Madurista me suspendieron mi otra cuenta. Necesito recuperar mis 7.500 #RCNConTuElección <Emoji: Flag of Colombia> #TúEliges <Emoji: Ballot box with ballot> #ColombiaDecide #ColombiaVota #DuquePresidente pic.twitter.com/P5EfOmGgps\n",
      "-----\n",
      "@IvanDuque El gran favorito para ganar las elecciones. #DuquePresidente #DomingoVotoDuque #RCNConTuElección <Emoji: Flag of Colombia> #TúEliges <Emoji: Ballot box with ballot> #ColombiaDecide #ColombiaVota\n",
      "-----\n",
      "#ColombiaDecide Acompáñanos este Domingo 27 de Mayo en el gran cubrimiento especial de Elecciones Presidenciales 2018, que hará el Grupo Empresarial Cadena Radial La Piragua, sigue la transmisión por todos nuestros medios de comunicación radio, Televisión y prensa en vivo<Emoji: Studio microphone><Emoji: Television><Emoji: Satellite antenna>  pic.twitter.com/JS7FoXNFC9\n",
      "-----\n",
      "#ColombiaDecide<Emoji: Heavy check mark>36.227.267 convocados<Emoji: Heavy check mark>El proceso será de 8am a 4pm<Emoji: Heavy check mark>6 candidatos: De la Calle, Gustavo Petro, Iván Duque, Sergio Fajardo, Vargas Lleras y Jorge Trujillo<Emoji: Heavy check mark>El ganador debe tener la mitad + 1 del total de votos válidos o habrá 2da vuelta el 17 de junio  pic.twitter.com/VrACV3S5eg\n",
      "-----\n",
      "¿Usted por quien piensa votar para la presidencia de Colombia? <Emoji: Flag of Colombia> Like por German Vargas <Emoji: Heavy red heart>#ColombiaDecide #EleccionesColombia #SergioFajardo #AlianzaVerde #GustavoPetro #ColombiaHumana #IvanDuque #CentroDemocratico #HumbertoDeLaCalle #PartidoLiberal #Encuesta #Colombia\n",
      "-----\n",
      "La bendición de Dios esta enviando los Venezolanos a Colombia para que voten por conciencia. #RCNConTuElección <Emoji: Flag of Colombia> | #TúEliges <Emoji: Ballot box with ballot> #ColombiaDecide #ColombiaVota pic.twitter.com/35VZbXkMEG\n",
      "-----\n",
      "Giro <Emoji: Bicycle> #SuperManLopez #GiroXSeñalElecciones <Emoji: Sunflower> #SePuede #ColombiaDecide<Emoji: Soccer ball> #UCLfinal #HalaMadrid Cortes de Obra <Emoji: Triangular ruler><Emoji: Clipboard><Emoji: Hammer and wrench> #EstoyColgada#MalditoRevit #QueNoñaSoyTrasteo <Emoji: House building><Emoji: Japanese post office> #Yupi #DeEstreneY yo aquí con tantas emociones juntas perdiendo el tiempo en Twitter <Emoji: Headphone><Emoji: Rolling on the floor laughing><Emoji: Rolling on the floor laughing>#Bah<Emoji: Face savouring delicious food> pic.twitter.com/hsHgOFlxdh\n",
      "-----\n",
      "@elpais_inter @ngotranslations @CHC31 @ANDRES_CANO42 @DLasAmericas @ejutv @el_elocuente @exilioboliviano @boliviarep @OctavioAparic10 @MFuentesElAlto @yoalisunpacu @KataCuba @RH3927 @BernardoToar @jdanielferrer @Cap_Caleuche @tataos @radiomacutocl @ortizvaldes45 @jorasquin @JFCuevasVila @Skorpio50 @JuanMGormaz @MaceirasJorge @TWITEROSxCUBA @FridaSiKahlo @miguelhuerta32 @FernandoAmandi @mortizherrera @DrRobertoSalles @JJVivasWagner @yolyhabanera @busdevel95 @JUANMORALISTA @anzunza @Antipacman @LibertadChile1 @barbara_bitar @Adelkiiis @maricocina @Budoia2005 @Satirulo @anitamariaAn @VenezuelaNOdesm @cesanteyque @alopezescarre @HumbertoMndezMo @chileno_soy @JUANdeITALIA #26Mayo #IMPORTANTE#ColombiaDecide FARSANTE COMUNISTA es un PELIGRO para la #Democracia#CUBA<Emoji: Flag of Cuba>#VENEZUELA<Emoji: Flag of Venezuela>#NICARAGUA<Emoji: Flag of Nicaragua>#BOLIVIA<Emoji: Flag of Bolivia>#CHILE<Emoji: Flag of Chile>#PERU<Emoji: Flag of Peru>#ARGENTINA<Emoji: Flag of Argentina>...Todos ellos #ForoDeSaoPauloesperemos que esta vez escuchen la #Advertenciacómo <Emoji: Flag of Argentina> y <Emoji: Flag of Chile> pic.twitter.com/00eHiUWhSt\n",
      "-----\n",
      "<Emoji: Large blue circle><Emoji: Medium white circle>#ZonaDocu - La paz sangrienta en #Colombia [em] #ColombiaDecide http://p.dw.com/p/2yMaA?maca=es-Twitter-sharing …\n",
      "-----\n",
      "Cumpliendo con el deber @sergio_fajardo @ClaudiaLopez por un pais mucho mejor #Uruguay #ColombiaDecide <Emoji: Flag of Colombia><Emoji: Flag of Uruguay>  pic.twitter.com/BN4Qbh5jay\n",
      "-----\n",
      "@DeLaCalleHum @KoleRadioactivo #DeLaCalleEnSegunda#ColombiaDecide  siiiiii <Emoji: Smiling face><Emoji: Smiling face>\n",
      "-----\n",
      "<Emoji: Soccer ball> Hoy discuten por fútbol, mañana por política. <Emoji: Flag of Colombia><Emoji: Trophy> #UCLfinal vs. #ColombiaDecide <Emoji: Ballot box with ballot>\n",
      "-----\n",
      "<Emoji: No entry sign><Emoji: Right pointing backhand index (medium light skin tone)> #MañanaGanaPetro #ColombiaDecide #DuqueEnPrimeraVuelta <Emoji: White heavy check mark> pic.twitter.com/nAaG3cA4SV\n",
      "-----\n",
      "Miguel Ángel López, mejor Superman López<Emoji: Flag of Colombia> @SupermanlopezN hace un carrerón demostrando que es un #GranEscarabajo, escribe historia y se trepa al 3° puesto de la general. Mañana domingo cuando #ColombiaDecide estará en Roma junto a Froome y Dumoulin<Emoji: Man biking> #GiroDeItalia <Emoji: Clapping hands sign> pic.twitter.com/7zzGQxe5Vu\n",
      "-----\n",
      "@jsanchezcristo ¡Primero Colombia! los invito a reflexionar y <Emoji: Flag of Colombia><Emoji: Flag of Colombia><Emoji: Flag of Colombia>votar bien. cc: @CeDemocratico @PrimeroCoIombia #ColombiaDecide <Emoji: Flag of Colombia><Emoji: Flag of Colombia><Emoji: Flag of Colombia>  pic.twitter.com/rGJTKpbQ8f\n",
      "-----\n",
      "#ColombiaDecide En mazmorra de Venezuela, #GestapoCubazolana tortura bestialmente médico colombovenezolano!<Emoji: Squared sos><Emoji: Flag of Colombia><Emoji: Squared sos>@_El_Patriota @IvanDuque @CeDemocratico @AlvaroUribeVel @OIZuluaga @AndresPastrana_ @JuanManSantos @VickyDavilaH @lafm @OEA_oficial @ONU_es @hrw @UNWatch_es#SOS https://twitter.com/beadrian/status/1000367041583419392 …\n",
      "-----\n",
      "Que tan loco se debe estar para soñar con tu crush?? <Emoji: Thinking face> <Emoji: Thinking face> <Emoji: Thinking face><Emoji: Rolling on the floor laughing> <Emoji: Rolling on the floor laughing> <Emoji: Rolling on the floor laughing>#ColombiaDecide\n",
      "-----\n",
      "Voté <Emoji: Flag of Colombia> #ColombiaDecide\n",
      "-----\n",
      "@desordenpublico apenas para esta época de elecciones #ColombiaDecide <Emoji: Flag of Colombia> <Emoji: Fisted hand sign (medium light skin tone)>  pic.twitter.com/m1w5XqiT77\n",
      "-----\n",
      "Perdóneme pero discúlpenme ....       \" YO voto por este man\" @petrogustavo. Confío en que él le dará un respiro a la democracia desangrada por MALOS gobiernos y mil oportunidades a nuestro amado país<Emoji: Flag of Colombia> <Emoji: Heavy red heart>#ColombiaDecide #DebateFinal @edwinydavila © pic.twitter.com/FOg34jYaVh\n",
      "-----\n",
      "Si, señoras y señores se aproxima el dia para elegir a nuestro proximo presidenteVOTEMOS #EleccionesColombia #ColombiaDecide #Presidenciales2018 #FelizSabado #Fajardo #Lleras #Duque #Petro<Emoji: Downwards arrow><Emoji: Downwards arrow><Emoji: Downwards arrow><Emoji: Downwards arrow><Emoji: Downwards arrow><Emoji: Downwards arrow><Emoji: Downwards arrow> https://twitter.com/Juancho2098/status/998644210453630978 …\n",
      "-----\n",
      "#ColombiaDecide <Emoji: Flag of Colombia>  pic.twitter.com/Y0FOefpoa7\n",
      "-----\n",
      "#ColombiaDecide En mazmorra de Venezuela, #GestapoCubazolana tortura bestialmente médico colombovenezolano!<Emoji: Squared sos><Emoji: Flag of Colombia><Emoji: Squared sos>@_El_Patriota @IvanDuque @CeDemocratico @AlvaroUribeVel @OIZuluaga @AndresPastrana_ @JuanManSantos @VickyDavilaH @lafm @OEA_oficial @ONU_es @hrw @UNWatch_es#SOS https://twitter.com/ntn24ve/status/1000163856398929921 …\n",
      "-----\n",
      "#ColombiaDecide En mazmorra de Venezuela, #GestapoCubazolana tortura bestialmente médico colombovenezolano!<Emoji: Squared sos><Emoji: Flag of Colombia><Emoji: Squared sos>@_El_Patriota @IvanDuque @CeDemocratico @AlvaroUribeVel @OIZuluaga @AndresPastrana_ @JuanManSantos @VickyDavilaH @lafm @OEA_oficial @ONU_es @hrw @UNWatch_es#SOS<Emoji: Down pointing backhand index> https://twitter.com/ntn24ve/status/1000163856398929921 …\n",
      "-----\n",
      "En mazmorra de Venezuela, #GestapoCubazolana tortura bestialmente médico colombovenezolano!<Emoji: Squared sos><Emoji: Flag of Colombia><Emoji: Squared sos>@_El_Patriota @IvanDuque @CeDemocratico @AlvaroUribeVel @OIZuluaga @AndresPastrana_ @JuanManSantos @VickyDavilaH @lafm @OEA_oficial @ONU_es @hrw @UNWatch_es#SOS #ColombiaDecide<Emoji: Down pointing backhand index>  https://twitter.com/ntn24ve/status/1000342031003041792 …\n",
      "-----\n",
      "#ColombiaDecide#CambioReal <Emoji: Flag of European Union><Emoji: Flag of Colombia>#PetroGustavo pic.twitter.com/62Qy9auRHB\n",
      "-----\n",
      "@IvanDuque @AlvaroUribeVel @populismo_Atroz @GloriaAlvarez85 @Urruchurtu @Almagro_OEA2015 @CarmenEGonzale2 @EvaSaraLandau @Csanchezberzain @AntonellaMarty @MartinLitwak Por favor.... <Emoji: Person with folded hands>Despierta #COLOMBIA#ColombiaDecide Despierta #Mexico\n",
      "-----\n",
      "~______~《 []: #ColombiaDecide   *Resultados de las votaciones en el Consulado de Colombia* <Emoji: Flag of Colombia><Emoji: Flag of Argentina> Buenos Aires, Argentina. Lunes 21 de mayo..@petrogustavo: 169.Votos .@sergio_fajardo:... http://caracol.com.co/programa/2018/05/22/6am_hoy_por_hoy/1526988371_116805.html …\n",
      "-----\n",
      "#ColombiaDecide Analizamos cómo llega #Colombia a las #EleccionesPresidenciales2018  http://youtu.be/WN2AqntPjcw  Opinan: @ryvillavicencio Francisco Caballero @ariasborque y Luis Ruiz Salgado. Presentan: @joaquinmulen y @DMcristancho\n",
      "-----\n",
      "@DeLaCalleHum @donandreshoyos #DeLaCalleEnSegunda#ColombiaDecide  siiiiii <Emoji: Smiling face><Emoji: Smiling face>\n",
      "-----\n",
      "@DeLaCalleHum @Orbittando #DeLaCalleEnSegunda#ColombiaDecide  siiiiii <Emoji: Smiling face><Emoji: Smiling face>\n",
      "-----\n",
      "@CABLENOTICIAS @Semanaenvivo @wilcheschaux @DeLaCalleHum #DeLaCalleEnSegunda#ColombiaDecide  siiiiii <Emoji: Smiling face><Emoji: Smiling face>\n",
      "-----\n",
      "<Emoji: Ballot box with ballot> Próximas elecciones:<Emoji: Flag of Colombia> Colombia<Emoji: Spiral calendar pad> Domingo, 27 de mayo<Emoji: Classical building> Presdienciales Índice Democracia de @TheEIU: 6,67/10 (Democracia imperfecta) Índice de @freedomhouse: 65/100 (parcialmente libre)<Emoji: Keycap number sign> #ColombiaDecide #ColombiaDecide2018 pic.twitter.com/1bSp7jSn9E\n",
      "-----\n",
      "<Emoji: Ballot box with ballot> Next election:<Emoji: Flag of Colombia> Colombia<Emoji: Spiral calendar pad> Sunday, 27 May<Emoji: Classical building> Presidential @TheEIU’s Democracy Index: 6.67/10 (Flawed democracy) @freedomhouse’ score: 65/100 (partly <Emoji: Squared free>)<Emoji: Keycap number sign> #ColombiaDecide #ColombiaDecide2018 pic.twitter.com/IXItzICi6v\n",
      "-----\n",
      "La encuesta que nunca saldrá<Emoji: Black small square><Emoji: Black small square><Emoji: Black small square>No habrá segunda Vuelta<Emoji: Black small square><Emoji: Black small square>#IvanDuquePresidenteEnPrimeraVuelta #Colombiadecide #DebateFinal #VickyDavilaEnLaW #DebatePresidencial #ColombiaVotaIvánYMartaLucía #ElFuturoEsDeTodos #DebatePresidencial2018@CeDemocratico pic.twitter.com/jt8ctgG7Br\n",
      "-----\n",
      "@IvanDuque Dios quiera que quede Duque <Emoji: Person with folded hands (light skin tone)> #ColombiaDecide #ColombiaDecideDuque #Colombia2018 #ColombiaDecide2018 <Emoji: Flag of Colombia> #PresidenteDuque\n"
     ]
    }
   ],
   "source": [
    "i = 50\n",
    "print(len(similares[i]))\n",
    "for e in similares[i]:\n",
    "    print('-----')\n",
    "    print(e)\n"
   ]
  },
  {
   "cell_type": "markdown",
   "metadata": {},
   "source": [
    "# AGRUPANDO POR SIMILARIDAD"
   ]
  },
  {
   "cell_type": "markdown",
   "metadata": {},
   "source": [
    "Ahora lo que haremos será usar un algoritmo de clasificación de la libreria sklearn , que se llama KMEANS, para crear centroides y que los tweets se ubiquen alrededor de estos, arreglaremos un poco los datos para que sean distancias minimas, asi que vamos a invertir los valores de que hay, tomaremos 1 y restaremos la similaridad que existe, para que ahora los tweets mas parecidos sean los que menos valor tienen, tomando esto como los que estan mas cerca unos de otros."
   ]
  },
  {
   "cell_type": "code",
   "execution_count": 59,
   "metadata": {},
   "outputs": [
    {
     "name": "stdout",
     "output_type": "stream",
     "text": [
      "[[0.         0.49739016 0.68816349 ... 0.52281166 0.5110631  0.38858787]\n",
      " [0.49739016 0.         0.3051705  ... 0.47520172 0.29717325 0.25494803]\n",
      " [0.68816349 0.3051705  0.         ... 0.56580959 0.2574081  0.31969946]\n",
      " ...\n",
      " [0.52281166 0.47520172 0.56580959 ... 0.         0.46652592 0.32676923]\n",
      " [0.5110631  0.29717325 0.2574081  ... 0.46652592 0.         0.19519035]\n",
      " [0.38858787 0.25494803 0.31969946 ... 0.32676923 0.19519035 0.        ]]\n"
     ]
    }
   ],
   "source": [
    "FixMtzSimilaridad = np.zeros((NroTweets, NroTweets))\n",
    "\n",
    "for i in range(NroTweets):\n",
    "    for j in range(NroTweets):\n",
    "        \n",
    "        FixMtzSimilaridad[i][j] = 1 - Msimilaridad[i][j]\n",
    "        \n",
    "print(FixMtzSimilaridad)"
   ]
  },
  {
   "cell_type": "markdown",
   "metadata": {},
   "source": [
    "Se hará un agrupamiento de tweets, por su similaridad con ayuda del algoritmo [KMeans ](http://scikit-learn.org/stable/modules/generated/sklearn.cluster.KMeans.html)"
   ]
  },
  {
   "cell_type": "markdown",
   "metadata": {},
   "source": [
    "nos basaremos en los modelos de [super data science](https://www.superdatascience.com/machine-learning/) para poder escoger un buen número de centroides y realizar las respectivas graficas"
   ]
  },
  {
   "cell_type": "code",
   "execution_count": 60,
   "metadata": {},
   "outputs": [],
   "source": [
    "\n",
    "#vamos a calcular cual es mejor numero de cluster para crear dentro del modelo\n",
    "wcss = []\n",
    "for i in range(1, 11):\n",
    "    kmeans = KMeans(n_clusters = i, init = 'k-means++', random_state = 42, precompute_distances= False)\n",
    "    kmeans.fit(FixMtzSimilaridad)\n",
    "    wcss.append(kmeans.inertia_)\n"
   ]
  },
  {
   "cell_type": "markdown",
   "metadata": {},
   "source": [
    "Ahora vamos a graficar para escoger un buen número de clusters"
   ]
  },
  {
   "cell_type": "code",
   "execution_count": 61,
   "metadata": {},
   "outputs": [
    {
     "data": {
      "image/png": "[encoded data removed]",
      "text/plain": [
       "<matplotlib.figure.Figure at 0x7f2610d622b0>"
      ]
     },
     "metadata": {},
     "output_type": "display_data"
    }
   ],
   "source": [
    "plt.plot(range(1, 11), wcss)\n",
    "plt.title('The Elbow Method')\n",
    "plt.xlabel('Number of clusters')\n",
    "plt.ylabel('WCSS')\n",
    "plt.show()"
   ]
  },
  {
   "cell_type": "markdown",
   "metadata": {},
   "source": [
    "Para este caso, y con esta cantidad de tweets podemos encontrar que hay mayor inercia usando pocos centroides, por tal motivo se va escoger el valor de 2"
   ]
  },
  {
   "cell_type": "code",
   "execution_count": 1,
   "metadata": {},
   "outputs": [
    {
     "ename": "NameError",
     "evalue": "name 'KMeans' is not defined",
     "output_type": "error",
     "traceback": [
      "\u001b[0;31m---------------------------------------------------------------------------\u001b[0m",
      "\u001b[0;31mNameError\u001b[0m                                 Traceback (most recent call last)",
      "\u001b[0;32m<ipython-input-1-8ebf523d5078>\u001b[0m in \u001b[0;36m<module>\u001b[0;34m()\u001b[0m\n\u001b[1;32m      1\u001b[0m \u001b[0;34m\u001b[0m\u001b[0m\n\u001b[1;32m      2\u001b[0m \u001b[0;34m\u001b[0m\u001b[0m\n\u001b[0;32m----> 3\u001b[0;31m \u001b[0mkmeans\u001b[0m \u001b[0;34m=\u001b[0m \u001b[0mKMeans\u001b[0m\u001b[0;34m(\u001b[0m\u001b[0mn_clusters\u001b[0m \u001b[0;34m=\u001b[0m \u001b[0;36m5\u001b[0m \u001b[0;34m,\u001b[0m\u001b[0mrandom_state\u001b[0m \u001b[0;34m=\u001b[0m \u001b[0;36m42\u001b[0m\u001b[0;34m,\u001b[0m \u001b[0mprecompute_distances\u001b[0m \u001b[0;34m=\u001b[0m \u001b[0;32mFalse\u001b[0m\u001b[0;34m)\u001b[0m\u001b[0;34m.\u001b[0m\u001b[0mfit\u001b[0m\u001b[0;34m(\u001b[0m\u001b[0mFixMtzSimilaridad\u001b[0m\u001b[0;34m)\u001b[0m\u001b[0;34m\u001b[0m\u001b[0m\n\u001b[0m\u001b[1;32m      4\u001b[0m \u001b[0my_kmeans\u001b[0m \u001b[0;34m=\u001b[0m \u001b[0mkmeans\u001b[0m\u001b[0;34m.\u001b[0m\u001b[0mfit_predict\u001b[0m\u001b[0;34m(\u001b[0m\u001b[0mFixMtzSimilaridad\u001b[0m\u001b[0;34m)\u001b[0m\u001b[0;34m\u001b[0m\u001b[0m\n",
      "\u001b[0;31mNameError\u001b[0m: name 'KMeans' is not defined"
     ]
    }
   ],
   "source": [
    "\n",
    "\n",
    "kmeans = KMeans(n_clusters = 5 ,random_state = 42, precompute_distances = False).fit(FixMtzSimilaridad)\n",
    "y_kmeans = kmeans.fit_predict(FixMtzSimilaridad)\n"
   ]
  },
  {
   "cell_type": "markdown",
   "metadata": {},
   "source": [
    "Ahora tenemos en el metodo labels_ , para cada tweet en que grupo esta, como podemos ver hay 8 grupos, y 3660 tweets y el primer tweet esta en el grupo 6"
   ]
  },
  {
   "cell_type": "code",
   "execution_count": 65,
   "metadata": {},
   "outputs": [
    {
     "name": "stdout",
     "output_type": "stream",
     "text": [
      "Cantidad de grupos existentes:  3\n",
      "Cantidad de tweets:  2583\n",
      "Grupo del primer Tweet:  2\n"
     ]
    }
   ],
   "source": [
    "print(\"Cantidad de grupos existentes: \",len(set(kmeans.labels_)))\n",
    "print(\"Cantidad de tweets: \", len(kmeans.labels_))\n",
    "print(\"Grupo del primer Tweet: \",kmeans.labels_[0])"
   ]
  },
  {
   "cell_type": "code",
   "execution_count": 66,
   "metadata": {},
   "outputs": [
    {
     "name": "stdout",
     "output_type": "stream",
     "text": [
      "KMeans(algorithm='auto', copy_x=True, init='k-means++', max_iter=300,\n",
      "    n_clusters=3, n_init=10, n_jobs=1, precompute_distances=False,\n",
      "    random_state=42, tol=0.0001, verbose=0)\n",
      "[2 1 1 ... 1 1 1]\n"
     ]
    }
   ],
   "source": [
    "print(kmeans)\n",
    "print(y_kmeans)"
   ]
  },
  {
   "cell_type": "markdown",
   "metadata": {},
   "source": [
    "Ahora vamos a visualizar los grupos que tenemos para ver que tan bien quedaron nuestros grupos, para esto primero importamos la libreria matplotlib."
   ]
  },
  {
   "cell_type": "code",
   "execution_count": 67,
   "metadata": {},
   "outputs": [
    {
     "data": {
      "image/png": "[encoded data removed]",
      "text/plain": [
       "<matplotlib.figure.Figure at 0x7f2610c5c898>"
      ]
     },
     "metadata": {},
     "output_type": "display_data"
    }
   ],
   "source": [
    "\n",
    "plt.figure(figsize  = (15,15))\n",
    "\n",
    "# Visualising the clusters\n",
    "plt.scatter(FixMtzSimilaridad[y_kmeans == 0, 0], FixMtzSimilaridad[y_kmeans == 0, 1], s = 100, c = 'red', label = 'Cluster 1')\n",
    "plt.scatter(FixMtzSimilaridad[y_kmeans == 1, 0], FixMtzSimilaridad[y_kmeans == 1, 1], s = 100, c = 'blue', label = 'Cluster 2')\n",
    "plt.scatter(FixMtzSimilaridad[y_kmeans == 2, 0], FixMtzSimilaridad[y_kmeans == 2, 1], s = 100, c = 'green', label = 'Cluster 3')\n",
    "#plt.scatter(FixMtzSimilaridad[y_kmeans == 3, 0], FixMtzSimilaridad[y_kmeans == 3, 1], s = 100, c = 'cyan', label = 'Cluster 4')\n",
    "#plt.scatter(FixMtzSimilaridad[y_kmeans == 4, 0], FixMtzSimilaridad[y_kmeans == 4, 1], s = 100, c = 'magenta', label = 'Cluster 5')\n",
    "plt.scatter(kmeans.cluster_centers_[:, 0], kmeans.cluster_centers_[:, 1], s = 300, c = 'yellow', label = 'Centroids')\n",
    "plt.title('Clusters of customers')\n",
    "plt.xlabel('Annual Income (k$)')\n",
    "plt.ylabel('Spending Score (1-100)')\n",
    "plt.legend()\n",
    "plt.show()"
   ]
  },
  {
   "cell_type": "code",
   "execution_count": 68,
   "metadata": {},
   "outputs": [],
   "source": [
    "grupos = kmeans.labels_ # obtengo una lista del tamaño de los tweets \n",
    "#que indica a que grupo pertenece cada tweet\n",
    "\n",
    "grupo1 = []\n",
    "grupo2 = []\n",
    "grupo3 = []\n",
    "grupo4 = []\n",
    "\n",
    "for i in range(len(grupos)):\n",
    "    \n",
    "    if grupos[i] == 0:\n",
    "        grupo1.append(i)\n",
    "    elif grupos[i] == 1:\n",
    "        grupo2.append(i)\n",
    "    elif grupos[i] == 2:\n",
    "        grupo3.append(i)\n",
    "    elif grupos[i] == 3:\n",
    "        grupo4.append(i)\n"
   ]
  },
  {
   "cell_type": "markdown",
   "metadata": {},
   "source": [
    "Analizaremos un poco el grupo1 para ver la tematica de estos tweets"
   ]
  },
  {
   "cell_type": "code",
   "execution_count": 74,
   "metadata": {},
   "outputs": [
    {
     "name": "stdout",
     "output_type": "stream",
     "text": [
      "489\n",
      "#ColombiaDecide  https://twitter.com/DNP_Colombia/status/1000503847184285696 …\n",
      "--\n",
      "Es lo q me enseñaron mis padres y nos merecemos todos /colombiadecide  pic.twitter.com/jHpTiFqRUQ\n",
      "--\n",
      "#colombiadecide Las encuestas en la mira de la opinión pública nacional e internacional. También de las campañas presidenciales. Más de 6 encuestas muestran una alta polarización como preámbulo a la apertura de las urnas el domingo 27 de mayo. Hora, 8 de la mañana hasta las 16.00  pic.twitter.com/BxziaOkseL\n",
      "--\n",
      "Los problemas de comprensión (lectora o auditiva) del país son graves... Más pensamiento crítico menos fanatismo #ColombiaDecide\n",
      "--\n",
      "Las tropas de @Ejercito_Div3 comprometidas con la seguridad en estas elecciones. #ColombiaDecide #Elecciones2018 pic.twitter.com/dagA9LgGDh\n",
      "--\n",
      "#ColombiaDecide#EleccionesColombia#Elecciones#DuquePresidente#Venezuela#27Mayo#Libertadores#Colombianos pic.twitter.com/7OonbRZvmp\n",
      "--\n",
      "Que envidia con las elecciones  en Colombia libres de puntos rojos, de colectivos amenazando y de migración ilegal de los electores. Espero sepan elegir lo mejor para su pais #ColombiaDecide\n",
      "--\n",
      "Mañana sera la definitiva, expectativa en los resultados.#ColombiaDecide\n",
      "--\n",
      "#ColombiaDecide “Van a ser las elecciones más observadas”: registrador nacional da parte de tranquilidad  http://bit.ly/2ITB6gY \n",
      "--\n",
      "@BTS_twt @dagajyeoga No te preocupes todo por nuestro pai #ColombiaDecide\n",
      "--\n"
     ]
    }
   ],
   "source": [
    "\n",
    "print(len(grupo1))\n",
    "for e in range(100,110):\n",
    "    print(tweets[grupo1[e]])\n",
    "    print('--')"
   ]
  },
  {
   "cell_type": "markdown",
   "metadata": {},
   "source": [
    "veo mucha basura, pero casi siempre son de los candidatos en contra de petro."
   ]
  },
  {
   "cell_type": "code",
   "execution_count": 71,
   "metadata": {},
   "outputs": [
    {
     "name": "stdout",
     "output_type": "stream",
     "text": [
      "1002\n",
      "@sergio_fajardo Sí la elección del ganador se decidiera por insultos recibidos, mentiras, política desleal hacia el. Mañana @petrogustavo se definiría como presidente.#ColombiaDecide que #MañanaGanaPetro\n",
      "--\n",
      "@NovaColombia @novacolombia #colombiadecide \"No dejemos que las encuestas impongan el nuevo presidente de Colombia. El primer paso es votar este domingo 27 de mayo. Voto informado . Si a la paz\": @DeLaCalleHum pic.twitter.com/zXknnAjKRz\n",
      "--\n",
      "Mañana tengo una cita con Colombia y con la esperanza. Y estoy convencida de ir #ConFajardoEnLaPrimera.       #SePuede cambiar la historia con #LaFuerzaDeLaEsperanza.Mañana #ColombiaDecide, FAJARDO PRESIDENTE.<Emoji: Sunflower><Emoji: Green heart>\n",
      "--\n",
      "Entidades protectoras de derechos humanos denuncian que la impunidad en casos de violaciones a derechos humanos es del 90%. #EleccionesColombia #ColombiaDecide  pic.twitter.com/d3cdmGJVz5\n",
      "--\n",
      "Esta vez tenemos la oportunidad de escoger alternativas de gobierno diferentes a la tradicional. Este país necesita un cambio real. Necesitamos que los mismos de siempre salgan del poder.Vargas Lleras es sinónimo de corrupción, Iván Duque de retroceso.#ColombiaDecide\n",
      "--\n",
      "Reumen de la campaña de @IvanDuque, el @CeDemocratico hace estragos #ColombiaDecide #DebateFinal pic.twitter.com/c3OWx2HP6Q\n",
      "--\n",
      "Tiempo para preparar la cámara y las lentes para mañana por la mañana. Ojalá no haya problemas con la seguridad y nos dejen pasar sin inconvenientes como la última vez. Plaza de Simón Bolívar, corazón de Bogotá #ColombiaDecide <Emoji: Ballot box with ballot><Emoji: Flag of Colombia>\n",
      "--\n",
      "@ClaudiaLopez la izquierda colombiana debe unirse con Petro para poder derrotar el capitalismo salvaje de la ultraderecha oligarca!Si Venezuela y Nicaragua lo lograron, Colombia tambien puede lograr justicia social y socialismo pal pueblo.#ColombiaDecide#PetroPresidente#DebateFinal\n",
      "--\n",
      "Señores candidatos @petrogustavo, @IvanDuque, @DeLaCalleHum, @sergio_fajardo @German_Vargas; aún están a tiempo de ganarse 4 votos en mi casa, necesito par tamales para mañana y cuentan con nosotros...#ColombiaDecide\n",
      "--\n",
      "A todos les deseo felicidades en este día electoral, ejercer el derecho y cumplir con su deber votando  <Emoji: Flag of Colombia>#ColombiaDecide  pic.twitter.com/VDX0PM0c7R\n",
      "--\n"
     ]
    }
   ],
   "source": [
    "print(len(grupo2))\n",
    "for e in range(210,220):\n",
    "    print(tweets[grupo2[e]])\n",
    "    print('--')"
   ]
  },
  {
   "cell_type": "code",
   "execution_count": 75,
   "metadata": {},
   "outputs": [
    {
     "name": "stdout",
     "output_type": "stream",
     "text": [
      "1092\n",
      "#IvanDuquePresidente #ColombiaDecide por favor no se equivoquen...  https://twitter.com/IvanDuque/status/1000490698980909056 …\n",
      "--\n",
      "#MañanaGanaPetro años y más años marginados por este estado mafioso y corrupto.. No MAS.. #ColombiaDecide cambiar nuestro país <Emoji: Flag of Colombia> <Emoji: Crystal ball> es responsabilidad de nosotros\n",
      "--\n",
      "#colombia #ColombiaDecide #ColombiaDecides https://twitter.com/Imeldadaza/status/1000344312218095616 …\n",
      "--\n",
      "Espero que disminuya el abstencionismo mañana #ColombiaDecide #Elecciones2018\n",
      "--\n",
      "Video: Perfil: Humberto de la Calle, candidato a la presidencia de Colombia  http://bit.ly/2IP4wkg  #Elecciones #ColombiaDecide\n",
      "--\n",
      "Mañana a primera hora  #YoVotoPetro, por una #ColombiaHumana. #ColombiaDecide  https://twitter.com/petrogustavo/status/1000431584380641280 …\n",
      "--\n",
      "Colombia no aguanta más politiquería. Mi voto es #ConFajardoEnLaPrimera #ConFajardoGanamos #ColombiaDecide #DebateFinal #DebatePresidencial2018 #DebateDefinitivoEnLaW https://twitter.com/ivangarciagalan/status/1000490806589952001 …\n",
      "--\n",
      "#colombiadecide  https://twitter.com/JoseAGuerra/status/1000347511373139969 …\n",
      "--\n",
      "#ColombiaDecide #EleccionesColombia https://twitter.com/JuanDavidAristi/status/1000190653886861312 …\n",
      "--\n",
      "Estimad@s los invito a leer mi columna de #Opinion Los corruptos  amenazan nuestro #estilo de vida robando nuestro #Dinero Mañana podemos sacarlos del juego y protegerlo #elecciones2018 #Presidenciales2018 #ColombiaDecide  https://www.dinero.com/opinion/columnistas/articulo/de-corrupto-a-corrupto-por-camilo-diaz/258847 … vía @RevistaDinero\n",
      "--\n"
     ]
    }
   ],
   "source": [
    "print(len(grupo3))\n",
    "for e in range(300,310):\n",
    "    print(tweets[grupo3[e]])\n",
    "    print('--')"
   ]
  },
  {
   "cell_type": "code",
   "execution_count": 29,
   "metadata": {},
   "outputs": [
    {
     "name": "stdout",
     "output_type": "stream",
     "text": [
      "353\n",
      "#sisepuede #ElPaisDeLosJovenes Propuestas y respuestas humanas. Cero populismo, cero exageración.Soluciones reales, pacíficas y comprobadas.Hagamos de este país el mejor.  pic.twitter.com/1fHwxnri1m\n",
      "--\n",
      "#ElPaísDeLosJóvenes\n",
      "--\n",
      "#ElPaísDeLosJóvenes.muy bien Fajardo honesto sencillo y muy muy profesional super sin Uribe mejor ¡¡¡¡¡¡\n",
      "--\n",
      "#ElPaísDeLosJóvenes  pic.twitter.com/82NeDCRqe0\n",
      "--\n",
      "#ElPaísDeLosJóvenes Hoy @sergio_fajardo nos dejó sin material!..  que confudida con esas preguntas!...\n",
      "--\n",
      "#ElPaisDeLosJovenesFajardo presidente, el mejor candidato; con los mejores argumentos y soluciones. Ese es!!!\n",
      "--\n",
      "#ElPaísDeLosJóvenes excelente @sergio_fajardo me gustan sus propuestas la tiene super clara\n",
      "--\n",
      "#ElPaísDeLosJóvenes  http://sergiofajardo.co/2018/02/jovenes-futuro-abriremos-la-puerta-las-oportunidades/ …\n",
      "--\n",
      "#ElPaisDeLosJovenes  pic.twitter.com/YpZuWyxq9q\n",
      "--\n",
      "#FajardoPresidente , #ElPaísDeLosJóvenes\n",
      "--\n",
      "#ElPaísDeLosJóvenes definitivamente en los jóvenes está el futuro y los que marcarían la diferencia en las elecciones #sepuede\n",
      "--\n",
      "#ElPaísDeLosJóvenes  pic.twitter.com/BCISqAEqU9\n",
      "--\n",
      "Su humanidad, su profesionalismo y su seguridad me convencen cada vez más. @sergio_fajardo#ElPaisDeLosJovenes#Elecciones2018\n",
      "--\n",
      "#ElPaísDeLosJóvenes\n",
      "--\n",
      "Uno queriendo dormir... y ponen estas tentaciones #ElPaísDeLosJóvenes  pic.twitter.com/pV6pHh6dXH\n",
      "--\n",
      "#ElPaisDeLosJovenesLo siento pero tengo que hacerlo públicoLe tengo tanta tantaaaa fé a @sergio_fajardo#SePuede#FajardoPresidente\n",
      "--\n",
      "#ElPaísDeLosJóvenesLos 4500 reinsertados en medellin .son los actuales delincuentes que tenemos.\n",
      "--\n",
      "#ElPaisDeLosJovenes @German_Vargas será el primer policía del pais. @sergio_fajardo será el primer maestro del pais. Señor Juez, eso lo dice todo\n",
      "--\n",
      "#ElPaísDeLosJóvenes  pic.twitter.com/dMWLVh1p0y\n",
      "--\n",
      "#ElPaisDeLosJovenes #FajardoPresidente respuestas claras!\n",
      "--\n"
     ]
    }
   ],
   "source": [
    "print(len(grupo4))\n",
    "for e in range(300,320):\n",
    "    print(tweets[grupo4[e]])\n",
    "    print('--')"
   ]
  },
  {
   "cell_type": "markdown",
   "metadata": {},
   "source": [
    "text rank, gensim, rake, obtengo keywords\n",
    "limpieza\n",
    "en spacy reconocimiento de nombres y adjetivos\n",
    "\n",
    "\n",
    "skipgram"
   ]
  }
 ],
 "metadata": {
  "kernelspec": {
   "display_name": "Python 3",
   "language": "python",
   "name": "python3"
  },
  "language_info": {
   "codemirror_mode": {
    "name": "ipython",
    "version": 3
   },
   "file_extension": ".py",
   "mimetype": "text/x-python",
   "name": "python",
   "nbconvert_exporter": "python",
   "pygments_lexer": "ipython3",
   "version": "3.5.3"
  }
 },
 "nbformat": 4,
 "nbformat_minor": 2
}
