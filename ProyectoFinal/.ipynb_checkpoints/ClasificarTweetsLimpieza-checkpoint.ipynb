{
 "cells": [
  {
   "cell_type": "markdown",
   "metadata": {},
   "source": [
    "# CLASIFICACIÓN DE TWETS CON LIMPIEZA"
   ]
  },
  {
   "cell_type": "markdown",
   "metadata": {},
   "source": [
    "En este libro analizaremos tweets, los cuales se buscarán que sean sobre los debates de las elecciones colombianas, para ver que tipo de usuarios existen en twitter y se tratará de clasificar los comentarios."
   ]
  },
  {
   "cell_type": "markdown",
   "metadata": {},
   "source": [
    "Primero que todo obtuvimos unos cuantos twets por medio de la herramienta [twint](https://github.com/haccer/twint), con la cual podemos obtener discusiones alrededor de hashtags.\n",
    "\n",
    "nuestro archivo se llamara output.csv."
   ]
  },
  {
   "cell_type": "markdown",
   "metadata": {},
   "source": [
    "Cargaremos el archivo con pandas"
   ]
  },
  {
   "cell_type": "code",
   "execution_count": 1,
   "metadata": {},
   "outputs": [],
   "source": [
    "import pandas as pd\n",
    "import numpy as np\n",
    "from sklearn.cluster import KMeans \n",
    "#importamos la libreria que realizara los grupos\n",
    "import matplotlib.pyplot as plt\n",
    "%matplotlib inline \n",
    "datos = pd.read_csv('DebateFinal.csv', header = 0)"
   ]
  },
  {
   "cell_type": "markdown",
   "metadata": {},
   "source": [
    "Ahora vamos a ver como se estructuran los datos"
   ]
  },
  {
   "cell_type": "code",
   "execution_count": 3,
   "metadata": {},
   "outputs": [
    {
     "name": "stdout",
     "output_type": "stream",
     "text": [
      "                    id        date      time  timezone     user_id  \\\n",
      "0  1000556241809301506  2018-05-26  20:56:12        -5  1263171930   \n",
      "1  1000555863877267456  2018-05-26  20:54:42        -5   273097602   \n",
      "2  1000555706544721920  2018-05-26  20:54:04        -5   273097602   \n",
      "3  1000554579052892161  2018-05-26  20:49:35        -5   147005653   \n",
      "4  1000552985557159941  2018-05-26  20:43:15        -5  2322843736   \n",
      "\n",
      "          username                                              tweet  \\\n",
      "0     CulturaNEIVA  #LeySeca #DebateFinal #ColombiaDecide #Eleccio...   \n",
      "1  MAGODELASINTONI  Retweeted Lorena <Emoji: Victory hand><Emoji: ...   \n",
      "2  MAGODELASINTONI  Retweeted MANUEL GONZALEZ (@MAGODELASINTONI):R...   \n",
      "3       IvanTrinos  Retweeted <Emoji: Regional indicator symbol le...   \n",
      "4      EPachoncito  Como tendremos la garantía de q no nos roben l...   \n",
      "\n",
      "   replies  retweets  likes  location  \\\n",
      "0        0       NaN      0       NaN   \n",
      "1        0       NaN      0       NaN   \n",
      "2        0       NaN      0       NaN   \n",
      "3        0       NaN      0       NaN   \n",
      "4        0       NaN      0       NaN   \n",
      "\n",
      "                                            hashtags  \\\n",
      "0  ['#LeySeca', '#DebateFinal', '#ColombiaDecide'...   \n",
      "1                                   ['#DebateFinal']   \n",
      "2                                   ['#DebateFinal']   \n",
      "3  ['#LaBodegaDePetro', '#DebateFinal', '#Colombi...   \n",
      "4   ['#Colombia', '#DebateFinal', '#ColombiaDecide']   \n",
      "\n",
      "                                                link  retweet  user_rt  \n",
      "0  https://twitter.com/CulturaNEIVA/status/100055...    False      NaN  \n",
      "1  https://twitter.com/MAGODELASINTONI/status/100...    False      NaN  \n",
      "2  https://twitter.com/MAGODELASINTONI/status/100...    False      NaN  \n",
      "3  https://twitter.com/IvanTrinos/status/10005545...    False      NaN  \n",
      "4  https://twitter.com/EPachoncito/status/1000552...    False      NaN  \n"
     ]
    }
   ],
   "source": [
    "print(datos.ix[0:4])"
   ]
  },
  {
   "cell_type": "markdown",
   "metadata": {},
   "source": [
    "Aqui podemos ver todos los atributos, de los cuales solo nos importan los twets"
   ]
  },
  {
   "cell_type": "code",
   "execution_count": 5,
   "metadata": {},
   "outputs": [
    {
     "name": "stdout",
     "output_type": "stream",
     "text": [
      "0    #LeySeca #DebateFinal #ColombiaDecide #Eleccio...\n",
      "1    Retweeted Lorena <Emoji: Victory hand><Emoji: ...\n",
      "2    Retweeted MANUEL GONZALEZ (@MAGODELASINTONI):R...\n",
      "3    Retweeted <Emoji: Regional indicator symbol le...\n",
      "4    Como tendremos la garantía de q no nos roben l...\n",
      "5    Cuando el odio por @AlvaroUribeVel sea menor q...\n",
      "Name: tweet, dtype: object\n",
      "3000\n",
      "<class 'str'>\n"
     ]
    }
   ],
   "source": [
    "tweets = datos['tweet']\n",
    "print(tweets.ix[0:5])\n",
    "tweets = list(tweets.ix[0:2999])\n",
    "print(len(tweets))\n",
    "\n",
    "\n",
    "#reviso el tipo de dato de un tweet\n",
    "print(type(tweets[0]))"
   ]
  },
  {
   "cell_type": "code",
   "execution_count": 6,
   "metadata": {},
   "outputs": [
    {
     "name": "stdout",
     "output_type": "stream",
     "text": [
      "#LeySeca #DebateFinal #ColombiaDecide #EleccionesColombia #Elecciones2018 #EleccionesPresidenciales2018 Huila: la jornada en cifrasPuestos de votación 215Mesas 2.178Personas habilitadas para sufragar 817.464Jurados de votación 14.475 Y más en ....  https://goo.gl/JDxHHG \n",
      "Retweeted Lorena <Emoji: Victory hand><Emoji: Victory hand> (@lorenita_sua):Si Duque va a desmantelar el crimen organizado, va acabar entonces con el Centro Democrático? #DebateFinal\n"
     ]
    }
   ],
   "source": [
    "import spacy\n",
    "print(tweets[0])\n",
    "print(tweets[1])\n",
    "nlp = spacy.load('es')\n",
    "\n",
    "doc1 = nlp(tweets[0])\n",
    "doc2 = nlp(tweets[1])"
   ]
  },
  {
   "cell_type": "markdown",
   "metadata": {},
   "source": [
    "ahora lo que vamos a hacer es verificar que tan sililares son el primer y segundo tweet de los tweets que tenemos hasta ahora."
   ]
  },
  {
   "cell_type": "code",
   "execution_count": 7,
   "metadata": {},
   "outputs": [
    {
     "name": "stdout",
     "output_type": "stream",
     "text": [
      "0.6402465554952625\n",
      "0.6402465554952625\n"
     ]
    }
   ],
   "source": [
    "print(doc1.similarity(doc2))\n",
    "print(doc2.similarity(doc1))"
   ]
  },
  {
   "cell_type": "markdown",
   "metadata": {},
   "source": [
    "Ahora se creará un arreglo que sera NxN siendo N el numero de tweets que tengamos y este arreglo tenga la comparacion de similaridad de todos contra todos."
   ]
  },
  {
   "cell_type": "code",
   "execution_count": 8,
   "metadata": {},
   "outputs": [
    {
     "name": "stdout",
     "output_type": "stream",
     "text": [
      "3000\n"
     ]
    }
   ],
   "source": [
    "NroTweets = len(tweets)\n",
    "print(NroTweets)\n",
    "#prueba = 10\n",
    "Msimilaridad = np.zeros((NroTweets, NroTweets))\n",
    "twToken = [nlp(tw) for tw in tweets]"
   ]
  },
  {
   "cell_type": "code",
   "execution_count": 9,
   "metadata": {},
   "outputs": [],
   "source": [
    "\n",
    "for i in range(NroTweets):\n",
    "    for j in range(NroTweets):\n",
    "        Msimilaridad[i][j] = twToken[i].similarity(twToken[j])\n"
   ]
  },
  {
   "cell_type": "code",
   "execution_count": 10,
   "metadata": {},
   "outputs": [
    {
     "name": "stdout",
     "output_type": "stream",
     "text": [
      "[[1.         0.64024656 0.6931933  ... 0.67553587 0.48443202 0.62138811]\n",
      " [0.64024656 1.         0.75335483 ... 0.54453097 0.59233268 0.69839828]\n",
      " [0.6931933  0.75335483 1.         ... 0.66107627 0.52927477 0.73747574]\n",
      " ...\n",
      " [0.67553587 0.54453097 0.66107627 ... 1.         0.57266873 0.77232728]\n",
      " [0.48443202 0.59233268 0.52927477 ... 0.57266873 1.         0.65248724]\n",
      " [0.62138811 0.69839828 0.73747574 ... 0.77232728 0.65248724 1.        ]]\n"
     ]
    }
   ],
   "source": [
    "print(Msimilaridad)"
   ]
  },
  {
   "cell_type": "markdown",
   "metadata": {},
   "source": [
    "Esto lo veremos como una matriz de distancias, ahora lo que deseamos es crear grupos dependiendo de esas distancias, grupos en los cuales los tweets tengan similaridades mayores del 95%, por empezar usaremos un diccionario de la siguiente manera y validaremos que los tweets sean un poco parecidos."
   ]
  },
  {
   "cell_type": "code",
   "execution_count": 11,
   "metadata": {},
   "outputs": [],
   "source": [
    "Grupos = {}\n",
    "for tw in range(NroTweets):\n",
    "    Grupos[tweets[tw]] = []\n",
    "    for cmptw in range(NroTweets):\n",
    "        if Msimilaridad[tw][cmptw] >= 0.90:\n",
    "            #if tw != cmptw:\n",
    "            Grupos[tweets[tw]].append(tweets[cmptw])\n",
    "            "
   ]
  },
  {
   "cell_type": "markdown",
   "metadata": {},
   "source": [
    "Ahora compararemos par de grupos para ver que tanta conexion existe"
   ]
  },
  {
   "cell_type": "code",
   "execution_count": 12,
   "metadata": {},
   "outputs": [
    {
     "name": "stdout",
     "output_type": "stream",
     "text": [
      "3000\n"
     ]
    }
   ],
   "source": [
    "cant = 0\n",
    "for tw in range(NroTweets):\n",
    "    if len(Grupos[tweets[tw]]) > 0:\n",
    "        cant += 1\n",
    "\n",
    "print(cant)\n",
    "\n"
   ]
  },
  {
   "cell_type": "code",
   "execution_count": 60,
   "metadata": {},
   "outputs": [],
   "source": [
    "\n",
    "\n",
    "grordenado = sorted(Grupos.values(), key = lambda k : len(k))\n",
    "tambar = [len(gr) for gr in grordenado]\n",
    "X = range(len(tambar))\n",
    "        \n",
    "        "
   ]
  },
  {
   "cell_type": "code",
   "execution_count": 61,
   "metadata": {},
   "outputs": [
    {
     "data": {
      "image/png": "[encoded data removed]",
      "text/plain": [
       "<matplotlib.figure.Figure at 0x7f121fad82e8>"
      ]
     },
     "metadata": {},
     "output_type": "display_data"
    }
   ],
   "source": [
    "plt.bar(X, tambar, label = 'Grupos basicos')\n",
    "plt.show()\n"
   ]
  },
  {
   "cell_type": "code",
   "execution_count": 62,
   "metadata": {},
   "outputs": [
    {
     "name": "stdout",
     "output_type": "stream",
     "text": [
      "92\n"
     ]
    }
   ],
   "source": [
    "#obtener los grupos que tengan mas de 10 tweets\n",
    "\n",
    "similares = []\n",
    "for e in grordenado:\n",
    "    if len(e) >= 50:\n",
    "        similares.append(e)\n",
    "#print(tambar)\n",
    "print(len(similares))"
   ]
  },
  {
   "cell_type": "code",
   "execution_count": 63,
   "metadata": {},
   "outputs": [
    {
     "name": "stdout",
     "output_type": "stream",
     "text": [
      "109\n",
      "-----\n",
      "#MeDecidíPorPetro porque queremos que todos nuestros hijos puedan ingresar a la universidad de manera gratuita y con alta calidad. #ColombiaDecide #Colombia #DebateFinal #RCNRadio #ColombiaHumana #Antioquia #Caldas #Risaralda #Pereira #Cartagena #Cundinamarca\n",
      "-----\n",
      "#MeDecidiPorPetro #MañanaGanaPetro #DebateFinal #RCNRadio #OigoLAFM #ColombiaDecide #FelizSábado#MedecidíPorPetro#MedecidíPorPetro#MedecidíPorPetro pic.twitter.com/C7WfSuUgy7\n",
      "-----\n",
      "#NoticiasDeLaMañana#NocompresAdopta#AdopteUnVotante #Adopta#Zoonosis #Perro#Bogotá #EleccionesColombia #ColombiaDecide#DebateFinal@adacolombiaorg @mejorarbogota pic.twitter.com/8mBQe0gFYS\n",
      "-----\n",
      " https://youtu.be/UoP_mSIHqTY #DebateINE #DebateFinal #DebateChilango #Mexico\n",
      "-----\n",
      "Ojo mañana señores #DuqueEnPrimeraVuelta #DebateFinal #ColombiaDecide pic.twitter.com/4m49gKu6OZ\n",
      "-----\n",
      "#DebateFinal #ElGranDebate #ColombiaDecide pic.twitter.com/05EHR2PWnT\n",
      "-----\n",
      "Colombia no aguanta más politiquería. Mi voto es #ConFajardoEnLaPrimera #ConFajardoGanamos #ColombiaDecide #DebateFinal #DebatePresidencial2018 #DebateDefinitivoEnLaW https://twitter.com/ivangarciagalan/status/1000490806589952001 …\n",
      "-----\n",
      "Es hora de Votar amigos llegó el momento @DanielSamperO @MundoClay #DebateFinal #FelizSabado #votaciones #vota #DeLaCallePresidente #PetroPresidente #FajardoTienePalabra #VargasLlerasPresidente #DuqueGanador https://youtu.be/3k6-eYrkiL8 \n",
      "-----\n",
      "#ColombiaDecide2018 #12HorasConFajardo #MananaGanaPetro #DuqueEnPrimera #ConFajardoEnLaPrimera #DebateFinal #FajardoEnSegundaVuelta #DeLaCalleEnSegunda #VargasLlerasPresidente pic.twitter.com/TBkarIoIph\n",
      "-----\n",
      "#MañanaGanaPetro #FelizSábado #DebateFinal #ColombiaDecide #OigoLAFM #EstamosEnLaChampions #12HorasConFajardo #GiroDeItalia#MañanaGanaPetro#MañanaGanaPetro#MañanaGanaPetro#MañanaGanaPetro pic.twitter.com/bnxcZl1KpI\n",
      "-----\n",
      "#VotaPetroEnPrimera #ColombiaHumana #DebateFinal  https://twitter.com/petrogustavo/status/1000141015653801986 …\n",
      "-----\n",
      "#MañanaGanaPetro@petrogustavo#DebateFinal #VotePetroEnPrimeraVuelta#PetroEsPasión #PetroPresidente pic.twitter.com/ODPQdIuUFG\n",
      "-----\n",
      "#Debatefinal #Mañanaganapetro #Domingovotoduque #ColombiaDecide2018 pic.twitter.com/gSfO1rTxGU\n",
      "-----\n",
      "#ColombiaDecide #PETROPRESIDENTE #ColombiaDecide2018 #FajardoPresidente #DomingoVotoDuque#debatefinal#DeLaCalleEnSegunda#VargasLlerasPresidente https://youtu.be/WT6Bi1Zt6RE \n",
      "-----\n",
      "on #StormyDanielsDay #صلاله_الان #StormyDaniels ateFinal not #Drake on #JUNE 8th - #Deb#DebateFinal not #Drake on #JUNE 8th - #Biopic #Album #COMINGSOON  -  https://buff.ly/2kpSuyY  #PREORDER it #Today pic.twitter.com/81JfKDxekC\n",
      "-----\n",
      "Hablamos de participación ciudadana en la Universidad Motolinia #blockchain #DebateFinal #innovacion #Pedregal #VotaVerde #UniversidadMotolinia\n",
      "-----\n",
      "#DebateFinal #ColombiaDecide #DomingoDeGanarSeguidores https://twitter.com/ivanchobm/status/1000416370536968192 …\n",
      "-----\n",
      "#MañanaGanaPetro#FajardoPresidente #ColombiaDecide #DebateFinal #despedidaseleccion #VotaPetroEnPrimera #DuquePresidente #DeLaCalleEnSegunda #SePuede @ElCrespoPresi pic.twitter.com/J10x2o41zT\n",
      "-----\n",
      "#AMLOmanía #AMLO. #Texmelucan #Puebla #Video #Reggaeton #CDMX #QuePocaMadre #AlertaAmber #MeadePresidente #DebateFinal #DebateINE #UCLfinal #APorLa13 https://twitter.com/CreasNada/status/998845898665943040 …\n",
      "-----\n",
      "#DebateFinal #ColombiaDecide #FajardoPresidente #ElDebate pic.twitter.com/m83vlExpX3\n",
      "-----\n",
      "#AMLOmanía #AMLO #Elecciones2018 #DebateINE #DebateFinal #Peje. #Morena #Texmelucan #Puebla #CDMX #Guanajuato #Guadalajara #DebatePresidencial #Deadpool2 #MeadePresidente # https://twitter.com/CreasNada/status/998845898665943040 …\n",
      "-----\n",
      "#ElGranDebate #ColombiaDecide #DebateFinal #ElDebate #UISVota #YoSíVoto pic.twitter.com/WUTB7fmh6g\n",
      "-----\n",
      "#DuqueEnPrimeraVuelta #ColombiaDecide #DebateFinal #DomingoVotoDuque pic.twitter.com/AydlrhW3CQ\n",
      "-----\n",
      "a #Storm #صلاله_الان  not #StormyDaniels ateFinal not #Drake on #JUNE 8th - #Deb#DebateFinal not #Drake on #JUNE 8th - #Biopic #Album #COMINGSOON  -  https://buff.ly/2kpSuyY  #PREORDER it #Today\n",
      "-----\n",
      "Todos los debates fueron un fiasco... en Colombia nadie sabe hacer debates. #DebateFinal #DeLaCalleEnSegunda #DebateDefinitivoEnLaW #debatecaracol #DebatePresidencial #DebatePresidencial2018 #debate\n",
      "-----\n",
      "@IvanDuque @osoto74soto @CeDemocratico #ivanduque #DebateFinal #DuqueEnPrimeraVuelta #DuqueSeGanóMiVoto #DuquePresidente pic.twitter.com/vAbfGYZO11\n",
      "-----\n",
      "#Felizsábado #ColombiaDecide #DebateFinal #EleccionesColombia #VotaPetroEnPrimera #ElDebate https://twitter.com/BluRadioCo/status/1000151188493488128 …\n",
      "-----\n",
      "#Casanare #DebateFinal #MonacoGP #UCLfinal #Animales #SaturdayMorning #GIROxESPN #FelizSábado #HalaMadrid >>>La tierna historia de un #perro<Emoji: Dog face> callejero que compra galletas usando hojas como billetes.  https://infob.ae/2KSZH5Y  pic.twitter.com/vXGItPruiR\n",
      "-----\n",
      "#DebateFinal #EncuestaFinal #EleccionesColombia2018 https://twitter.com/ELNANOMUNDO/status/1000353296954068992?s=20 …\n",
      "-----\n",
      "Si miran bien #Fajardo es el mejor candidato a Presidente  … http://camilogalindocastelblanco.blogspot.com.co/2018/05/yo-confio-en-fajardo.html … #DebateFinal #ColombiaDecide #ColombiaDecide2018 #FajardoTienePalabra #FajardoPresidente #FajardoGanaYNosUne #DebatePresidencial #PetroEnPrimeraVuelta #VargasLlerasPresidente #DuquePresidente pic.twitter.com/PWtkhC4B2L\n",
      "-----\n",
      "#MañanaGanaPetro #DebateFinal #ColombiaDecide #VotaPetroEnPrimera #OigoLAFM #MañanaGanaPetro #DebateDefinitivoEnLaW#MañanaGanaPetro#MañanaGanaPetro#MañanaGanaPetro#MañanaGanaPetro pic.twitter.com/JTdfsErqPu\n",
      "-----\n",
      "#EleccionesColombia2018 #ColombiaDecide2018 #DebateFinal #COLOMBIA #ColombiaDecide\n",
      "-----\n",
      "Ella también cree en @sergio_fajardo y @ClaudiaLopez #SePuede #ColombiaDecide #DebateFinal #LaFuerzadelaEsperanza #FajardoGanaYNosUne #LaRemontadaDeFajardo pic.twitter.com/GVQDCN3Sqg\n",
      "-----\n",
      "@DanielSamperO #FajardoTienePalabra #FajardoPresidende #DebateFinal #LaRemontadadeFajardo\n",
      "-----\n",
      "@milenamunoz001 #FajardoTienePalabra #FajardoPresidende #DebateFinal #LaRemontadadeFajardo\n",
      "-----\n",
      "#FajardoTienePalabra #FajardoPresidende #DebateFinal #LaRemontadadeFajardo pic.twitter.com/I6tC66Cfe0\n",
      "-----\n",
      "#FajardoTienePalabra #FajardoPresidende #DebateFinal #LaRemontadadeFajardo pic.twitter.com/QHNTQKlebi\n",
      "-----\n",
      "#CorteDeCabello #Masculino en Plamira Valle #LaUefaEsConHeineken #GIROxESPN #DebateFinal #EleccionesSeguras #NoEsHoraDeCallar #ElDebateDefinitivoEnLaW #ColombiaDecide2018 @AlcaldiaPalmira pic.twitter.com/iaDxsz2fY2\n",
      "-----\n",
      "#VideoViral Cuando el jefe no está.!. <Emoji: Face with tears of joy> <Emoji: Face with tears of joy> <Emoji: Face with tears of joy>.#LaUefaEsConHeineken#DebateFinal #EnVideo Maluma #video #viral Popeye #FelizSabado #UCLfinal #UCLFinal2018 #España #México #Colombia #UEFA pic.twitter.com/ONzwwdI2Ph\n",
      "-----\n",
      "#FajardoTienePalabra #FajardoPresidende #DebateFinal #LaRemontadadeFajardo https://twitter.com/sergio_fajardo/status/1000244111738327040 …\n",
      "-----\n",
      "#FajardoTienePalabra #FajardoPresidende #DebateFinal #LaRemontadadeFajardo pic.twitter.com/scBmyt2YSJ\n",
      "-----\n",
      "a #Storm #صلاله_الان  not #StormyDaniels ateFinal not #Drake on #JUNE 8th - #Deb#DebateFinal not #Drake on #JUNE 8th - #Biopic #Album #COMINGSOON  -  https://buff.ly/2kpSuyY  #PREORDER it #Today\n",
      "-----\n",
      "not Like a #Storm #صلاله_الان #StormyDaniels ateFinal not #Drake on #JUNE 8th - #Deb#DebateFinal not #Drake on #JUNE 8th - #Biopic #Album #COMINGSOON  -  https://buff.ly/2kpSuyY  #PREORDER it #Today\n",
      "-----\n",
      "Like a #Storm #صلاله_الان  not #StormyDaniels ateFinal not #Drake on #JUNE 8th - #Deb#DebateFinal not #Drake on #JUNE 8th - #Biopic #Album #COMINGSOON  -  https://buff.ly/2kpSuyY  #PREORDER it #Today\n",
      "-----\n",
      "#USA gov. or American people pay the highest paid CEOs? Any ideas?#LebronJames #PutStarWarsInOtherFilms #5wordBiography #Fahrenheit451 #SaturdayMorning #SaturdayMotivation #ThisIsNigeria #DebateFinal  pic.twitter.com/2ZzsX26zRn\n",
      "-----\n",
      "#Deb#DebateFinal not #Drake on #JUNE 8th - #Biopic #Album #COMINGSOON  -  https://buff.ly/2kpSuyY  #PREORDER it #Today Like a #Storm #صلاله_الان  not #StormyDaniels ateFinal not #Drake on #JUNE 8th - #Biopic #Album #COMINGSOON  -  https://buff.ly/2kpSuyY  #PREORDER it #Today pic.twitter.com/vbyIt8RjeE\n",
      "-----\n",
      "Like a #Storm #صلاله_الان  not #StormyDaniels ateFinal not #Drake on #JUNE 8th - #Deb#DebateFinal not #Drake on #JUNE 8th - #Biopic #Album #COMINGSOON  -  https://buff.ly/2kpSuyY  #PREORDER it #Today\n",
      "-----\n",
      "Like a #Storm #صلاله_الان  not #StormyDaniels ateFinal not #Drake on #JUNE 8th - #Deb#DebateFinal not #Drake on #JUNE 8th - #Biopic #Album #COMINGSOON  -  https://buff.ly/2kpSuyY  #PREORDER it #Today pic.twitter.com/5vtLiblnnb\n",
      "-----\n",
      " https://bit.ly/2INfiaL  Moving On Quotes #TeleportbyFlochat #Selfish #FakeLove2ndWin #DebateFinal #SaafNiyatSahiVikas #SaturdayMotivation #loveparkrun #inspirationalquotes #quoteoftheday #TweetOfTheDay #motivationalquote #motivationalquotes #inspirationalquote #movingonquotes\n",
      "-----\n",
      "#WhereAreTheChildren#SPIEF #MH17 #MareePopulaire #FakeLove2ndWin #DebateFinal #SaafNiyatSahiVikas https://twitter.com/wokoeru/status/994433082089459712 …\n",
      "-----\n",
      "My Vision ('Look Alive' remix by @absoluteTracks )  https://youtu.be/2pimllZdzuI  #FakeLove2ndWin #DebateFinal #HarryStylesLiveOnTourBrazil #CBSEResult2018 #hiphop #remix #lookalive #rap #canada #drake #np\n",
      "-----\n",
      "Bugünkü dizi önerimiz : How I Met Your Mother https://www.filmlemek.com/2018/05/dizi-onerisi-how-i-met-your-mother.html …#FakeLove2ndWin #DebateFinal #SaafNiyatSahiVikas #HarryStylesLiveOnTourBrazil #CBSEResult #film İbn Haldun #movie #series #howImetyourmother @howimetyourmthr\n",
      "-----\n",
      "Dope Collab! @absoluteTracks - Unlock Any Door ft Spike Roscoe (Official Audio)  https://youtu.be/6KtlzBZANWI  #FakeLove2ndWin #DebateFinal #HarryStylesLiveOnTourBrazil #hiphop #rap #np #beat #music #canada #usa\n",
      "-----\n",
      "Must agree... this is a sad song <Emoji: Thinking face>#markiplier @markiplier @ALLCAPSMARKIMOO @markiplier8394 #markiplierhasbeenexiled2018 #DebateFinal #YouTuber #YouTubeMusic #youtubegaming #smallsquad #SmallYouTuberArmy #SmallYouTubeArmy https://youtu.be/4RwcY1D7TgA \n",
      "-----\n",
      "Hindutva police are PM Modi's combatants against Islam. Killing as many Muslims as possible is the first priority of BJP. Rise O Muslims u r 300 millions in India. #Erdogan #Kashmir #Taliban #Pakistan #DebateFinal #SaafNiyatSahiVikas#CBSEResult2018 #Vishwasghat #Teleport #rt pic.twitter.com/pCmzN0QDd6\n",
      "-----\n",
      "#DebateFinal not #Drake on #JUNE 8th - #Biopic #Album #COMINGSOON  -  https://buff.ly/2kpSuyY  #PREORDER it #Today Like a #Storm #صلاله_الان  not #StormyDaniels pic.twitter.com/Dria9m2jwS\n",
      "-----\n",
      "Watch <Emoji: Down pointing backhand index>#Pakistan #terrorist reveals the real face of #PakArmy .#SaafNiyatSahiVikas #SaturdayMotivation #ENGvPAK #IamRavish #FATAMerger #Pakistan #AsadDurrani #9thRamzan #DebateFinal #IndiaLovesGenVKS #Kashmir pic.twitter.com/85UhZnyxpH\n",
      "-----\n",
      "#DebateFinal not #Drake on #JUNE 8th - #Biopic #Album #COMINGSOON  -  https://buff.ly/2kpSuyY  #PREORDER it #Today Like a #Storm #صلاله_الان  not #StormyDaniels\n",
      "-----\n",
      "Retweet this tweet Update of the #crypto #market <Emoji: Face with monocle>#bitcoin #ethereum #ripple #bitcoincash @CoinMarketCap #btc #eth #xrp #bch #DebateFinal #SaafNiyatSahiVikas #FakeLove2ndWin #HarryStylesLiveOnTourBrazil #TNT2uLtimateResbak #trading #trader #trade #LeBron #LebronJames #binance pic.twitter.com/zvIEnY8ilt\n",
      "-----\n",
      "Y tu destino? conoce significado #TAROT carta LA MUERTE ESCUCHA AUDIOCURSO visita:  http://amorcontarot.com/audio-curso-de-tarot-comprimido … #FelizSábado #DiadelasFuerzasArmadas2018 #RoyalWedding #APorLa13 #eCongress18 #CuandoTomoSiempre #MeVoyDeTuInfiernoPor #DebateFinal #ColombiaDecide2018 pic.twitter.com/OAJnvxwmaA\n",
      "-----\n",
      "Dont b stingy with em RTs #About30 #ThisIsNigeria #DebateFinal #hiphop #WhereAreTheChildren #5wordBiography #TrapaDrive #DANIELDRIVE #7delaan #FakeLove2ndWin #Africa #AfricaDay2018 #DAYTONA #womendev4africa #POWERWeekendBreakfast#TNT2uLtimateResbak#PutStarWarsInOtherFilms https://twitter.com/Mo_Lietsiso/status/1000043625437450245 …\n",
      "-----\n",
      "Amazing Idea That Will Make Your House Awesome!#WegoTravel #FakeLove2ndWin #DebateFinal #SaafNiyatSahiVikas #TNT2uLtimateResbak #HarryStylesLiveOnTourBrazil #SaudiArabian pic.twitter.com/HtDR6iAjmb\n",
      "-----\n",
      "Of course Uncle Scar pushed Mufasa off the cliff edge; he’s a cat. #thinking #DebateFinal #justsayin #ALDUBForeverLove #thought\n",
      "-----\n",
      "#Design boils down to two areas: Aesthetics and #Structure. Let’s look how we do it at CAS  https://lnkd.in/enxqgmu #WegoTravel #FakeLove2ndWin #DebateFinal #SaafNiyatSahiVikas #HarryStylesLiveOnTourBrazil #TNT2uLtimateResbak pic.twitter.com/5iTHwPcVLu\n",
      "-----\n",
      "#Mehbooba Mufti warned #Pakistan that #ceasefire voilation will not tolerate during #Ramazan .#IndiaLovesGenVKS #EverydayAbility #KashmirBleeds #ENGvPAK #DebateFinal #AsadDurrani #FATAMerger #SaturdayMotivation #Kashmir #SaafNiyatSahiVikas pic.twitter.com/670Yp5Js2M\n",
      "-----\n",
      "So #tramstech #forum is where we share #ideas & and ask questions and have them answered. You are free to submit links to your website as long as its relevant to the topic https://tramstech.com/forum/ #SEO #backlinks #bloggers #follow #DebateFinal #questionandanswer #SubmitArticle\n",
      "-----\n",
      "Marco Mendoza razy itw + The Dead Daisies live in Paris ! https://www.youtube.com/watch?v=-YMHGlE5kqI …#DebateFinal #SaafNiyatSahiVikas #TNT2uLtimateResbak #HarryStylesLiveOnTourBrazil #LeBron #性格の歪みチャート #メガホビEXPO #WannaOneinJKT #AfricaDay #KohLanta #RGPD\n",
      "-----\n",
      "BEAD Technology: Digitalizing commercial buildings into intelligent buildings #AI #IoT #innovation #BigData #cleantech #technology #DebateFinal  https://www.producthunt.com/posts/bead-technology …\n",
      "-----\n",
      "@AmitShah @narendramodi @republic @TimesNow AS- today india’s name is forward in everythingAam admi- how?AS- see the petrol rates, aren’t they? this is trailer, we will show full picture soon#SaafNiyatSahiVikas #IamRavish #IndiaLovesGenVKS #EverydayAbility #UBSE #DebateFinal\n",
      "-----\n",
      "#Pakistan does not respect any religion evn if it is a #Muslim religion. #ceasefire violation r increasing day by day evn in d #holy month of #Ramzan. Whn will Pakistan quit their #dirty moves? #4YearsOfModi #EverydayAbility #SaturdayMotivatio #AsadDurrani #ENGvPAK #DebateFinal  pic.twitter.com/6yXMFP5Iez\n",
      "-----\n",
      "#Pakistani military summons former ISI chief over book he co-authored with ex-RAW chief#DebateFinal #SaafNiyatSahiVikas #AsadDurrani #ENGvPAK #FATAMerger#IndiaLovesGenVKS #EverydayAbility #Ramadan https://scroll.in/article/880028/spy-vs-spy-what-the-former-chiefs-of-raw-and-isi-have-to-say-about-their-intelligence-operations …\n",
      "-----\n",
      "#Video  http://www.funkytv.com/video/view/4063  Keep this @ # 1 at #Vimeo !!  http://www.funkytv.com/video/view/4063  #DebateFinal125K Tweets#SaafNiyatSahiVikas87.5K Tweets#TNT2uLtimateResbak33.1K Tweets#HarryStylesLiveOnTourBrazil #Brazil #indie #Songs\n",
      "-----\n",
      " http://www.funkytv.com/video/view/1429  @@ #DebateFinal #SaafNiyatSahiVikas #HarryStylesLiveOnTourBrazil #TNT2uLtimateResbak #Google #Indie #Music #صلاله_الان Keep #rocking the #classic !!\n",
      "-----\n",
      "I will Convert any PSD to responsive HTMLGig:  https://goo.gl/dJrtPG #Fiverr #PSD #HTML #responsive_website #DebateFinal #SaafNiyatSahiVikas #TNT2uLtimateResbak #صلاله_الان #LeBronJames #PutStarWarsInOtherFilms #5wordBiography #LAvSJ #INamedMyCrotch #WhereAreTheChildren #GDPR\n",
      "-----\n",
      "Drake - Duppy freestyle (Push T Diss) https://www.youtube.com/edit?o=U&video_id=yCTXDyTuCO0 … #LiveAmp #DebateFinal #SaafNiyatSahiVikas #صلاله_الان #TNT2uLtimateResbak #HarryStylesLiveOnTourBrazil  https://www.youtube.com/edit?o=U&video_id=yCTXDyTuCO0 …\n",
      "-----\n",
      "Drake - Duppy freestyle (Push T Diss) https://www.youtube.com/edit?o=U&video_id=yCTXDyTuCO0 … #LiveAmp #DebateFinal #SaafNiyatSahiVikas #صلاله_الان #TNT2uLtimateResbak #HarryStylesLiveOnTourBrazil\n",
      "-----\n",
      "#CuandoTomoSiempre#MeVoyDeTuInfiernoPor #TodaLaNoche #Debatefinal#DebateIne#FelizViernes #felizsabado #FelizDomingo #FelizLunes #felizmartes #FelizMiercoles #felizjueves #VotoMasivoMORENA #AMLOPresidente pic.twitter.com/7TRZ0JtScQ\n",
      "-----\n",
      "#SEO  https://www.google.com/search?hl=en&q=misogynistia&nfpr=1&sa=X&ved=0ahUKEwjan--73aLbAhVnCTQIHSDdAnkQvgUIJSgB&biw=1536&bih=779 … #misogynistia #Ge #southBay #DebateFinal #SaafNiyatSahiVikas #TNT2uLtimateResbak#HarryStylesLiveOnTourBrazil #Ge #GreenhouseEffect #Google #Twitter #Blues #Cnn #Mick #TheJointWasRockin\n",
      "-----\n",
      " https://www.google.com/search?hl=en&q=misogynistia&nfpr=1&sa=X&ved=0ahUKEwjan--73aLbAhVnCTQIHSDdAnkQvgUIJSgB&biw=1536&bih=779 … #misogynistia #Ge #southBay #DebateFinal #SaafNiyatSahiVikas #TNT2uLtimateResbak#HarryStylesLiveOnTourBrazil #Ge #GreenhouseEffect #Google #Twitter #Blues #Cnn #Mick #TheJointWasRockin\n",
      "-----\n",
      "Con @sergio_fajardo #SePuede #ColombiaDecide #DebateFinal #DebateDefinitivoEnLaW #FajardoTienePalabra #FajardoPresidente https://twitter.com/HectorYairR0790/status/1000254111663710208 …\n",
      "-----\n",
      " https://www.google.com/search?hl=en&q=misogynistia&nfpr=1&sa=X&ved=0ahUKEwjan--73aLbAhVnCTQIHSDdAnkQvgUIJSgB&biw=1536&bih=779 …  @ #DebateFinal #SaafNiyatSahiVikas #RedondoBeach #toronto #NY #Spy #TNT2uLtimateResbak #HarryStylesLiveOnTourBrazil #Cnn #foxNews #torrance #SouthBay #NHL #Grunge #Twitter #Linkedin Humberto de la Calle\n",
      "-----\n",
      "#UGCNET Paper 1 | Polity and Governance in India #Lecture -1 (Free Course)  https://youtu.be/tMTqk1pVgro  #SaafNiyatSahiVikas #EverydayAbility #cobrapostExpose #4YearsOfModi #IndiaLovesGenVKS #DebateFinal #IamRavish\n",
      "-----\n",
      "#Spain #Shame #MocionDeCensura #DebateFinal  https://twitter.com/krls/status/1000077850635010048 …\n",
      "-----\n",
      "Good question.. #SaturdayMotivation #4YearsOfModi #IamRavish #SaafNiyatSahiVikas #DebateFinal  https://twitter.com/_uMlu/status/998137525649756160 …\n",
      "-----\n",
      "#ColombiaDecide #DebateFinal #SePuede #FajardoPresidente #FajardoTienePalabra https://twitter.com/leo27vr/status/1000252684686036992 …\n",
      "-----\n",
      "#PakArmy should not send terrorists across border if it wants #Peace#DebateFinal #SaafNiyatSahiVikas #IamRavish #4YearsOfModi #EverydayAbility#SaturdayMotivation #AsadDurrani #ENGvPAK #FATAmerger #putpakonrighttrack #IndianArmy https://www.ndtv.com/india-news/bipin-rawat-to-pakistan-dont-send-terrorists-across-border-if-you-want-peace-1857775 …\n",
      "-----\n",
      "#DebateFinal @sergio_fajardo #LaFuerzaDeLaEsperanza #SePuede #ColombiaDecide #FajardoPresidente pic.twitter.com/PGwg0kDAoJ\n",
      "-----\n",
      "See how ? #Kashmiri youth reacting after seeing  #Militants in their area. It is eye opener vdo for all #Indians.         #JagoKashmirJago#Kashmir #DebateFinal #4YearsOfModi#EverydayAbility pic.twitter.com/hy3aThY7ew\n",
      "-----\n",
      " https://www.fiverr.com/ishkalif/add-watermark-or-text-logo-or-remove-background …#repTourDenver #DebateFinal #Drake #PutStarWarsInOtherFilms #WhereAreTheChildren #Galaxy\n",
      "-----\n",
      "#DebateFinal #ColombiaDecide #Lleras pic.twitter.com/IYAIi8Oorw\n",
      "-----\n",
      "Check this out guys to design you landing page or seller page for your business or company in fiverr .#landingpage #webdesigner #DebateFinal #webdesign #PrimerPlano #webdev#SaafNiyatSahiVikas #FiverrGigs https://goo.gl/H5hbJz \n",
      "-----\n",
      "#DebateFinal #Kashmir #AsadDurrani #ENGvPAK #FATAmerger #صلاله_الان #Pakistan #Paytm #PATFoundationDay #EverydayAbility #SaturdayMotivation #IamRavish #SaafNiyatSahiVikas #KhotiNiyatJhootaVikas #FitnessChallenge https://twitter.com/viewpoint_net/status/999970355858100225 …\n",
      "-----\n",
      "#DebateFinal #Kashmir #AsadDurrani #ENGvPAK #FATAmerger #صلاله_الان #Pakistan #Paytm #PATFoundationDay #EverydayAbility #SaturdayMotivation #IamRavish #SaafNiyatSahiVikas #KhotiNiyatJhootaVikas #FitnessChallenge https://twitter.com/viewpoint_net/status/1000237518187622400 …\n",
      "-----\n",
      "#gasolinha #Giro #G1 #greve #CRF #HanSolo #DebateFinal  pic.twitter.com/m1Dqi2tbde\n",
      "-----\n",
      "-Retweet-#Encuesta#DebateFinal #FajardoPresidente #PetroPresidente #DeLaCalleEnSegunda #Elecciones2018 #ElFuturoEsDeTodos #colombiadecide https://twitter.com/ivanchobm/status/1000247960679141376 …\n",
      "-----\n",
      "Is #China a friend of #Pakistan ?#DebateFinal #Kashmir #AsadDurrani #ENGvPAK #FATAmerger #صلاله_الان#PATFoundationDay #EverydayAbility #IamRavish #SaturdayMotivation #Paytm http://www.happeninginpak.com/439909032 \n",
      "-----\n",
      "Ahora entiendo por qué fajardo no define..... #DebatePresidencial2018 #DebateFinal #Elecciones2018 https://twitter.com/ClaudiaLopez/status/1000227096424218625 …\n",
      "-----\n",
      "#VargasLlerasPresidente #Debatefinal #ColombiaDecide\n",
      "-----\n",
      "#elamo #PetroPresidente #DebateFinal #ColombiaDecide #PetroEnPrimeraVuelta https://twitter.com/iGustavoPetro/status/1000234717323628545 …\n",
      "-----\n",
      "#DeLaCalleASegunda #ColombiaDecide2018 #MiVotoEsDeLaCalle #DebateFinal  https://twitter.com/julianroman/status/1000241064853344256 …\n",
      "-----\n",
      "#ColombiaDecide #DebateFinal #petro #fajardo #delacalle #colombia https://twitter.com/sebaslopez2202/status/990591489381199877 …\n",
      "-----\n",
      "SpaceEdgeTechnology is the best #International #Bulk #SMS #Provider #Company. We have collection of all categories and location #InternationalBulkSMS of all over the world. Visit: #MobileNumberDatabase, #BulkEmailMarketing #DebateFinal:   http://shorturl.at/gklHL  pic.twitter.com/b7UMh6kqdF\n",
      "-----\n",
      "#DebateFinal #ColombiaDecide #ColombiaDecide2018 #YoVotoPetro pic.twitter.com/ZR2bxDGreb\n",
      "-----\n",
      "#Enhorabuena @IvanDuque traer términos q estaban más extintos q los #dinosaurios Sólo con #Civismo y #formación podemos #Construir #Sociedad y eso se aprende en #casa con #Familias q den #Ejemplo Los #Colegios vienen después Hoy en el #DebateFinal sólo @IvanDuque dio ese #Ejemplo\n",
      "-----\n",
      "¿Adivinen quien no vio el #DebateFinal? <Emoji: Smiling face with open mouth and smiling eyes>#DebateDefinitivoEnLaW #fajardo #unpresidenteprofesor #petro #petrosky #vargaslleras #humbertodelacalle #yosoydelacalle #duque #colombia #EleccionesColombia #EleccionesColombia2018 #EleccionesPresidenciales2018 #vickydavila #debate pic.twitter.com/FczAxjDBI5\n",
      "-----\n",
      "Buscan tercero que vote y sea complaciente.#DebateFinal #DebateDefinitivoEnLaW #fajardo #petro #petrosky #vargaslleras #humbertodelacalle #duque #colombia #presidente #EleccionesColombia #EleccionesColombia2018 #EleccionesPresidenciales2018 #uribe #debate #grindr pic.twitter.com/f0ONXVtgci\n",
      "-----\n",
      "Check it out! ryanhdyt will draw cartoon portrait for you for $5 on #Fiverr  https://www.fiverr.com/s2/e5e99c8394  #DebateFinal #SaafNiyatSahiVikas #HarryStylesLiveOnTourBrazil\n",
      "-----\n",
      "#DebateFinal #DebateDefinitivoEnLaW #fajardo #UnPresidenteProfesor #petro #petrosky #vargaslleras #humbertodelacalle #yosoydelacalle #duque #colombia #presidente #EleccionesColombia #EleccionesColombia2018 #EleccionesPresidenciales2018 #debate pic.twitter.com/GnFFRMVfLn\n",
      "-----\n",
      "ISI diaries unfolded by Durrani: #Pakistan military caught unaware summons Durrani for #true confessions.#AsadDurrani #FridayFeeling #DebateFinal #صلاله_الان #FataMerger #sindhyouthpolicy #SaafNiyatSahiVikas @RadioPakistan @etribune #SaturdayMotivation https://goo.gl/ij2zK5 \n"
     ]
    }
   ],
   "source": [
    "i = 91\n",
    "print(len(similares[i]))\n",
    "for e in similares[i]:\n",
    "    print('-----')\n",
    "    print(e)\n"
   ]
  },
  {
   "cell_type": "markdown",
   "metadata": {},
   "source": [
    "# AGRUPANDO POR SIMILARIDAD"
   ]
  },
  {
   "cell_type": "markdown",
   "metadata": {},
   "source": [
    "Ahora lo que haremos será usar un algoritmo de clasificación de la libreria sklearn , que se llama KMEANS, para crear centroides y que los tweets se ubiquen alrededor de estos, arreglaremos un poco los datos para que sean distancias minimas, asi que vamos a invertir los valores de que hay, tomaremos 1 y restaremos la similaridad que existe, para que ahora los tweets mas parecidos sean los que menos valor tienen, tomando esto como los que estan mas cerca unos de otros."
   ]
  },
  {
   "cell_type": "code",
   "execution_count": 64,
   "metadata": {},
   "outputs": [
    {
     "name": "stdout",
     "output_type": "stream",
     "text": [
      "[[0.         0.35975344 0.3068067  ... 0.51556798 0.37861189 0.25170708]\n",
      " [0.35975344 0.         0.24664517 ... 0.40766732 0.30160172 0.48086659]\n",
      " [0.3068067  0.24664517 0.         ... 0.47072523 0.26252426 0.38367754]\n",
      " ...\n",
      " [0.51556798 0.40766732 0.47072523 ... 0.         0.34751276 0.42122707]\n",
      " [0.37861189 0.30160172 0.26252426 ... 0.34751276 0.         0.26741787]\n",
      " [0.25170708 0.48086659 0.38367754 ... 0.42122707 0.26741787 0.        ]]\n"
     ]
    }
   ],
   "source": [
    "FixMtzSimilaridad = np.zeros((NroTweets, NroTweets))\n",
    "\n",
    "for i in range(NroTweets):\n",
    "    for j in range(NroTweets):\n",
    "        \n",
    "        FixMtzSimilaridad[i][j] = 1 - Msimilaridad[i][j]\n",
    "        \n",
    "print(FixMtzSimilaridad)"
   ]
  },
  {
   "cell_type": "markdown",
   "metadata": {},
   "source": [
    "Se hará un agrupamiento de tweets, por su similaridad con ayuda del algoritmo [KMeans ](http://scikit-learn.org/stable/modules/generated/sklearn.cluster.KMeans.html)"
   ]
  },
  {
   "cell_type": "markdown",
   "metadata": {},
   "source": [
    "nos basaremos en los modelos de [super data science](https://www.superdatascience.com/machine-learning/) para poder escoger un buen número de centroides y realizar las respectivas graficas"
   ]
  },
  {
   "cell_type": "code",
   "execution_count": 65,
   "metadata": {},
   "outputs": [],
   "source": [
    "\n",
    "#vamos a calcular cual es mejor numero de cluster para crear dentro del modelo\n",
    "wcss = []\n",
    "for i in range(1, 11):\n",
    "    kmeans = KMeans(n_clusters = i, init = 'k-means++', random_state = 42, precompute_distances= False)\n",
    "    kmeans.fit(FixMtzSimilaridad)\n",
    "    wcss.append(kmeans.inertia_)\n"
   ]
  },
  {
   "cell_type": "markdown",
   "metadata": {},
   "source": [
    "Ahora vamos a graficar para escoger un buen número de clusters"
   ]
  },
  {
   "cell_type": "code",
   "execution_count": 67,
   "metadata": {},
   "outputs": [
    {
     "data": {
      "image/png": "[encoded data removed]",
      "text/plain": [
       "<matplotlib.figure.Figure at 0x7f1215ff4550>"
      ]
     },
     "metadata": {},
     "output_type": "display_data"
    }
   ],
   "source": [
    "plt.plot(range(1, 11), wcss)\n",
    "plt.title('The Elbow Method')\n",
    "plt.xlabel('Number of clusters')\n",
    "plt.ylabel('WCSS')\n",
    "plt.show()"
   ]
  },
  {
   "cell_type": "markdown",
   "metadata": {},
   "source": [
    "Para este caso, y con esta cantidad de tweets podemos encontrar que hay mayor inercia usando pocos centroides, por tal motivo se va escoger el valor de 2"
   ]
  },
  {
   "cell_type": "code",
   "execution_count": 68,
   "metadata": {},
   "outputs": [],
   "source": [
    "\n",
    "\n",
    "kmeans = KMeans(n_clusters = 3 ,random_state = 42, precompute_distances = False).fit(FixMtzSimilaridad)\n",
    "y_kmeans = kmeans.fit_predict(FixMtzSimilaridad)\n"
   ]
  },
  {
   "cell_type": "markdown",
   "metadata": {},
   "source": [
    "Ahora tenemos en el metodo labels_ , para cada tweet en que grupo esta, como podemos ver hay 8 grupos, y 3660 tweets y el primer tweet esta en el grupo 6"
   ]
  },
  {
   "cell_type": "code",
   "execution_count": 69,
   "metadata": {},
   "outputs": [
    {
     "name": "stdout",
     "output_type": "stream",
     "text": [
      "Cantidad de grupos existentes:  3\n",
      "Cantidad de tweets:  3001\n",
      "Grupo del primer Tweet:  1\n"
     ]
    }
   ],
   "source": [
    "print(\"Cantidad de grupos existentes: \",len(set(kmeans.labels_)))\n",
    "print(\"Cantidad de tweets: \", len(kmeans.labels_))\n",
    "print(\"Grupo del primer Tweet: \",kmeans.labels_[0])"
   ]
  },
  {
   "cell_type": "code",
   "execution_count": 70,
   "metadata": {},
   "outputs": [
    {
     "name": "stdout",
     "output_type": "stream",
     "text": [
      "KMeans(algorithm='auto', copy_x=True, init='k-means++', max_iter=300,\n",
      "    n_clusters=3, n_init=10, n_jobs=1, precompute_distances=False,\n",
      "    random_state=42, tol=0.0001, verbose=0)\n",
      "[1 1 0 ... 2 0 0]\n"
     ]
    }
   ],
   "source": [
    "print(kmeans)\n",
    "print(y_kmeans)"
   ]
  },
  {
   "cell_type": "markdown",
   "metadata": {},
   "source": [
    "Ahora vamos a visualizar los grupos que tenemos para ver que tan bien quedaron nuestros grupos, para esto primero importamos la libreria matplotlib."
   ]
  },
  {
   "cell_type": "code",
   "execution_count": 13,
   "metadata": {},
   "outputs": [
    {
     "ename": "NameError",
     "evalue": "name 'FixMtzSimilaridad' is not defined",
     "output_type": "error",
     "traceback": [
      "\u001b[0;31m---------------------------------------------------------------------------\u001b[0m",
      "\u001b[0;31mNameError\u001b[0m                                 Traceback (most recent call last)",
      "\u001b[0;32m<ipython-input-13-16e4907cb681>\u001b[0m in \u001b[0;36m<module>\u001b[0;34m()\u001b[0m\n\u001b[1;32m      3\u001b[0m \u001b[0;34m\u001b[0m\u001b[0m\n\u001b[1;32m      4\u001b[0m \u001b[0;31m# Visualising the clusters\u001b[0m\u001b[0;34m\u001b[0m\u001b[0;34m\u001b[0m\u001b[0m\n\u001b[0;32m----> 5\u001b[0;31m \u001b[0mplt\u001b[0m\u001b[0;34m.\u001b[0m\u001b[0mscatter\u001b[0m\u001b[0;34m(\u001b[0m\u001b[0mFixMtzSimilaridad\u001b[0m\u001b[0;34m[\u001b[0m\u001b[0my_kmeans\u001b[0m \u001b[0;34m==\u001b[0m \u001b[0;36m0\u001b[0m\u001b[0;34m,\u001b[0m \u001b[0;36m0\u001b[0m\u001b[0;34m]\u001b[0m\u001b[0;34m,\u001b[0m \u001b[0mFixMtzSimilaridad\u001b[0m\u001b[0;34m[\u001b[0m\u001b[0my_kmeans\u001b[0m \u001b[0;34m==\u001b[0m \u001b[0;36m0\u001b[0m\u001b[0;34m,\u001b[0m \u001b[0;36m1\u001b[0m\u001b[0;34m]\u001b[0m\u001b[0;34m,\u001b[0m \u001b[0ms\u001b[0m \u001b[0;34m=\u001b[0m \u001b[0;36m100\u001b[0m\u001b[0;34m,\u001b[0m \u001b[0mc\u001b[0m \u001b[0;34m=\u001b[0m \u001b[0;34m'red'\u001b[0m\u001b[0;34m,\u001b[0m \u001b[0mlabel\u001b[0m \u001b[0;34m=\u001b[0m \u001b[0;34m'Cluster 1'\u001b[0m\u001b[0;34m)\u001b[0m\u001b[0;34m\u001b[0m\u001b[0m\n\u001b[0m\u001b[1;32m      6\u001b[0m \u001b[0mplt\u001b[0m\u001b[0;34m.\u001b[0m\u001b[0mscatter\u001b[0m\u001b[0;34m(\u001b[0m\u001b[0mFixMtzSimilaridad\u001b[0m\u001b[0;34m[\u001b[0m\u001b[0my_kmeans\u001b[0m \u001b[0;34m==\u001b[0m \u001b[0;36m1\u001b[0m\u001b[0;34m,\u001b[0m \u001b[0;36m0\u001b[0m\u001b[0;34m]\u001b[0m\u001b[0;34m,\u001b[0m \u001b[0mFixMtzSimilaridad\u001b[0m\u001b[0;34m[\u001b[0m\u001b[0my_kmeans\u001b[0m \u001b[0;34m==\u001b[0m \u001b[0;36m1\u001b[0m\u001b[0;34m,\u001b[0m \u001b[0;36m1\u001b[0m\u001b[0;34m]\u001b[0m\u001b[0;34m,\u001b[0m \u001b[0ms\u001b[0m \u001b[0;34m=\u001b[0m \u001b[0;36m100\u001b[0m\u001b[0;34m,\u001b[0m \u001b[0mc\u001b[0m \u001b[0;34m=\u001b[0m \u001b[0;34m'blue'\u001b[0m\u001b[0;34m,\u001b[0m \u001b[0mlabel\u001b[0m \u001b[0;34m=\u001b[0m \u001b[0;34m'Cluster 2'\u001b[0m\u001b[0;34m)\u001b[0m\u001b[0;34m\u001b[0m\u001b[0m\n\u001b[1;32m      7\u001b[0m \u001b[0mplt\u001b[0m\u001b[0;34m.\u001b[0m\u001b[0mscatter\u001b[0m\u001b[0;34m(\u001b[0m\u001b[0mFixMtzSimilaridad\u001b[0m\u001b[0;34m[\u001b[0m\u001b[0my_kmeans\u001b[0m \u001b[0;34m==\u001b[0m \u001b[0;36m2\u001b[0m\u001b[0;34m,\u001b[0m \u001b[0;36m0\u001b[0m\u001b[0;34m]\u001b[0m\u001b[0;34m,\u001b[0m \u001b[0mFixMtzSimilaridad\u001b[0m\u001b[0;34m[\u001b[0m\u001b[0my_kmeans\u001b[0m \u001b[0;34m==\u001b[0m \u001b[0;36m2\u001b[0m\u001b[0;34m,\u001b[0m \u001b[0;36m1\u001b[0m\u001b[0;34m]\u001b[0m\u001b[0;34m,\u001b[0m \u001b[0ms\u001b[0m \u001b[0;34m=\u001b[0m \u001b[0;36m100\u001b[0m\u001b[0;34m,\u001b[0m \u001b[0mc\u001b[0m \u001b[0;34m=\u001b[0m \u001b[0;34m'green'\u001b[0m\u001b[0;34m,\u001b[0m \u001b[0mlabel\u001b[0m \u001b[0;34m=\u001b[0m \u001b[0;34m'Cluster 3'\u001b[0m\u001b[0;34m)\u001b[0m\u001b[0;34m\u001b[0m\u001b[0m\n",
      "\u001b[0;31mNameError\u001b[0m: name 'FixMtzSimilaridad' is not defined"
     ]
    },
    {
     "data": {
      "text/plain": [
       "<matplotlib.figure.Figure at 0x7fbe4aad7860>"
      ]
     },
     "metadata": {},
     "output_type": "display_data"
    }
   ],
   "source": [
    "\n",
    "plt.figure(figsize  = (15,15))\n",
    "\n",
    "# Visualising the clusters\n",
    "plt.scatter(FixMtzSimilaridad[y_kmeans == 0, 0], FixMtzSimilaridad[y_kmeans == 0, 1], s = 100, c = 'red', label = 'Cluster 1')\n",
    "plt.scatter(FixMtzSimilaridad[y_kmeans == 1, 0], FixMtzSimilaridad[y_kmeans == 1, 1], s = 100, c = 'blue', label = 'Cluster 2')\n",
    "plt.scatter(FixMtzSimilaridad[y_kmeans == 2, 0], FixMtzSimilaridad[y_kmeans == 2, 1], s = 100, c = 'green', label = 'Cluster 3')\n",
    "#plt.scatter(FixMtzSimilaridad[y_kmeans == 3, 0], FixMtzSimilaridad[y_kmeans == 3, 1], s = 100, c = 'cyan', label = 'Cluster 4')\n",
    "#plt.scatter(FixMtzSimilaridad[y_kmeans == 4, 0], FixMtzSimilaridad[y_kmeans == 4, 1], s = 100, c = 'magenta', label = 'Cluster 5')\n",
    "plt.scatter(kmeans.cluster_centers_[:, 0], kmeans.cluster_centers_[:, 1], s = 300, c = 'yellow', label = 'Centroids')\n",
    "plt.title('Clusters of customers')\n",
    "plt.xlabel('Annual Income (k$)')\n",
    "plt.ylabel('Spending Score (1-100)')\n",
    "plt.legend()\n",
    "plt.show()"
   ]
  },
  {
   "cell_type": "code",
   "execution_count": 72,
   "metadata": {},
   "outputs": [],
   "source": [
    "grupos = kmeans.labels_ # obtengo una lista del tamaño de los tweets \n",
    "#que indica a que grupo pertenece cada tweet\n",
    "\n",
    "grupo1 = []\n",
    "grupo2 = []\n",
    "grupo3 = []\n",
    "grupo4 = []\n",
    "\n",
    "for i in range(len(grupos)):\n",
    "    \n",
    "    if grupos[i] == 0:\n",
    "        grupo1.append(i)\n",
    "    elif grupos[i] == 1:\n",
    "        grupo2.append(i)\n",
    "    elif grupos[i] == 2:\n",
    "        grupo3.append(i)\n",
    "    elif grupos[i] == 3:\n",
    "        grupo4.append(i)\n"
   ]
  },
  {
   "cell_type": "markdown",
   "metadata": {},
   "source": [
    "Analizaremos un poco el grupo1 para ver la tematica de estos tweets"
   ]
  },
  {
   "cell_type": "code",
   "execution_count": 73,
   "metadata": {},
   "outputs": [
    {
     "name": "stdout",
     "output_type": "stream",
     "text": [
      "1519\n",
      "Tremendo el cierre de @DeLaCalleHum en el #DebateFinal   casi ague ojo cuando sacó la casaca de la selecta\n",
      "--\n",
      "Se terminó el #DebateFinal y yo todavía tengo pesadillas con la cantidad de comerciales de @CaracolTV\n",
      "--\n",
      "Escuchar a un conocido decir que tú candidato no ganará confirma que esa persona votará por lo que dicen en los medios y en las encuestas. #FajardoPresidente#ColombiaDecide #DebateFinal #despedidaseleccion #DomingoDeGanarSeguidores pic.twitter.com/NW0uv1f1B3\n",
      "--\n",
      "Petro le propone a De la Calle, unión, un acuerdo sobre lo fundamental, y éste le escupe en la cara asegurando que Gustavo solo propone una nueva guerra. ¡Qué vaina! ¡Así es imposible! #DebateFinal #ColombiaDecide @SenorCaicedo @Caidadelatorre @MafeCarrascal @Jrsilm @NILIRKAN2 pic.twitter.com/ttUGtIAatA\n",
      "--\n",
      "@Sofia444D Fajardo dijo que por falta de educación en Colombia aparecen muchos ALIAS, olvidó que justo a su izquierda en el #DebateFinal estaba AURELIANO el indultado.\n",
      "--\n",
      "@MPaula25 Lo ame, junto a de la Calle. Me hicieron el #DebateFinal\n",
      "--\n",
      "@DCoronell @hernandomarti Cuantas veces @DeLaCalleHum usó la palabra HUMANA en el #DebateFinal Ese toque de unión de @DeLaCalleHum con la #ColombiaHumana fue ....... demasiado empalagosoNADA ES GRATIS EN LA VIDAALGO QUÉ SE OLVIDA MUY FÁCIL EN CAMPAÑAS pic.twitter.com/FXP8sTpG92\n",
      "--\n",
      "Anoche en el #DebateFinal @sergio_fajardo estuvo bien centrado. Espero que le alcance para estar en segunda vuelta, junto con @IvanDuque , así tendríamos la opción de ganar con cara y sello.\n",
      "--\n",
      "#DebateFinal Colombia necesita gente q hable menos bonito y haga mas. Fajardo presidente.\n",
      "--\n",
      "Es que cuando me aburro invento otra pelicula, versión #DebateFinal  https://twitter.com/arfisica/status/1000234201252319232 …\n",
      "--\n"
     ]
    }
   ],
   "source": [
    "\n",
    "print(len(grupo1))\n",
    "for e in range(100,110):\n",
    "    print(tweets[grupo1[e]])\n",
    "    print('--')"
   ]
  },
  {
   "cell_type": "markdown",
   "metadata": {},
   "source": [
    "veo mucha basura, pero casi siempre son de los candidatos en contra de petro."
   ]
  },
  {
   "cell_type": "code",
   "execution_count": 74,
   "metadata": {},
   "outputs": [
    {
     "name": "stdout",
     "output_type": "stream",
     "text": [
      "840\n",
      "@milenamunoz001 #FajardoTienePalabra #FajardoPresidende #DebateFinal #LaRemontadadeFajardo\n",
      "--\n",
      "#FajardoTienePalabra #FajardoPresidende #DebateFinal #LaRemontadadeFajardo pic.twitter.com/I6tC66Cfe0\n",
      "--\n",
      "#FajardoTienePalabra #FajardoPresidende #DebateFinal #LaRemontadadeFajardo pic.twitter.com/QHNTQKlebi\n",
      "--\n",
      "@VickyDavilaH Usted Vicky perdió 2 cosas 1. Su imparcialidad 2. Liderazgo periodístico. Por algo nadie le fue . #debatefinal #manejodeemociones #julitoquedirá\n",
      "--\n",
      "#CorteDeCabello #Masculino en Plamira Valle #LaUefaEsConHeineken #GIROxESPN #DebateFinal #EleccionesSeguras #NoEsHoraDeCallar #ElDebateDefinitivoEnLaW #ColombiaDecide2018 @AlcaldiaPalmira pic.twitter.com/iaDxsz2fY2\n",
      "--\n",
      "#DebateFinal Propuesta de seguridad de Duque:  pic.twitter.com/Aq1SUfniei\n",
      "--\n",
      "#DebateFinal #analogíaColombiana pic.twitter.com/pTzN0QLba2\n",
      "--\n",
      "¿Por qué ningún candidato hizo eco de la noticia difundida por NY Times sobre los informes del Departamento de Estado de USA con respecto al expresidente Uribe?#DebateFinal #ElDebate #EleccionesColombia #EleccionesColombia2018 #ColombiaDecide\n",
      "--\n",
      "#VideoViral Cuando el jefe no está.!. <Emoji: Face with tears of joy> <Emoji: Face with tears of joy> <Emoji: Face with tears of joy>.#LaUefaEsConHeineken#DebateFinal #EnVideo Maluma #video #viral Popeye #FelizSabado #UCLfinal #UCLFinal2018 #España #México #Colombia #UEFA pic.twitter.com/ONzwwdI2Ph\n",
      "--\n",
      "#DebateFinal Mis dos babys ! <Emoji: Purple heart><Emoji: Heavy red heart>  pic.twitter.com/p6nfO3yFCN\n",
      "--\n"
     ]
    }
   ],
   "source": [
    "print(len(grupo2))\n",
    "for e in range(210,220):\n",
    "    print(tweets[grupo2[e]])\n",
    "    print('--')"
   ]
  },
  {
   "cell_type": "code",
   "execution_count": 75,
   "metadata": {},
   "outputs": [
    {
     "name": "stdout",
     "output_type": "stream",
     "text": [
      "642\n",
      "#DebateFinalSi Lleras así, alzando la voz y saliendose de su lugar, parece que le fuera a dar en la jeta a todos en el estudio, me lo imagino a puerta cerrada, pobre gente la que trabaja con ese señor oiga!.\n",
      "--\n",
      "Que cagada. Si @DeLaCalleHum  y @sergio_fajardo se hubieran unido, seguramente ganaríamos. #DebateFinal\n",
      "--\n",
      "#DebateFinal Es la primera vez que el país tiene la oportunidad de escoger en 3 candidatos distintos, con ideas frescas, que han luchado la corrupción y han trabajado por la equidad. Espero que el país escoja correctamente entre estos candidatos alternativos. #VotePorColombia\n",
      "--\n",
      "Los que siguen apoyando a Ivan Duque con todas las humillaciones y peinadas que le han hecho son como esas personas que justifican las infidelidades de su ex#DebateFinal\n",
      "--\n",
      "@NoticiasCaracol Esto es lo que  necesitamos, unir más a un país q por culpa de todas las  campañas esta dividido.Tuvimos las campañas mas negras de todas las historias de C/biaPero ya basta que no mereces desangra más la democracia de un pais que merecer ser más justo.#DebateFinal\n",
      "--\n",
      "Jóvenes, vivamos este momento histórico político, social y cultural que esta viviendo nuestro país. Años adelante, le podremos contar a nuestros descendientes de la vivencia de este momento tan lindo de nuestra patria.#DebateFinal\n",
      "--\n",
      "@IvanDuque  nos dejó claro a todos que es el mejor y además con la mejor coequipera @mluciaramirezClaro, coherente, sereno, con propuestas viables, sin populismo ni agresiones  #DuquePresidente#MartaLuciaVicepresidente#EnPrimeraVuelta#ColombiaDecide#DebateFinal  https://twitter.com/millersoto/status/1000237476152250368 …\n",
      "--\n",
      "#DebateFinal y él coscorròn a quien se lo damos?\n",
      "--\n",
      "@IvanDuque oigaz señor, y esto también lo cuenta como \"corrupción\"????#ColombiaDecide2018#DebateFinal#Colombiadecide https://twitter.com/CongresoCol/status/1000240624497582080 …\n",
      "--\n",
      "una joven me dijo nunca he votado !!! Me respondió. La corrupción política y la abstención son las culpables que Duque gane  #DebateFinal\n",
      "--\n"
     ]
    }
   ],
   "source": [
    "print(len(grupo3))\n",
    "for e in range(300,310):\n",
    "    print(tweets[grupo3[e]])\n",
    "    print('--')"
   ]
  },
  {
   "cell_type": "code",
   "execution_count": 29,
   "metadata": {},
   "outputs": [
    {
     "name": "stdout",
     "output_type": "stream",
     "text": [
      "353\n",
      "#sisepuede #ElPaisDeLosJovenes Propuestas y respuestas humanas. Cero populismo, cero exageración.Soluciones reales, pacíficas y comprobadas.Hagamos de este país el mejor.  pic.twitter.com/1fHwxnri1m\n",
      "--\n",
      "#ElPaísDeLosJóvenes\n",
      "--\n",
      "#ElPaísDeLosJóvenes.muy bien Fajardo honesto sencillo y muy muy profesional super sin Uribe mejor ¡¡¡¡¡¡\n",
      "--\n",
      "#ElPaísDeLosJóvenes  pic.twitter.com/82NeDCRqe0\n",
      "--\n",
      "#ElPaísDeLosJóvenes Hoy @sergio_fajardo nos dejó sin material!..  que confudida con esas preguntas!...\n",
      "--\n",
      "#ElPaisDeLosJovenesFajardo presidente, el mejor candidato; con los mejores argumentos y soluciones. Ese es!!!\n",
      "--\n",
      "#ElPaísDeLosJóvenes excelente @sergio_fajardo me gustan sus propuestas la tiene super clara\n",
      "--\n",
      "#ElPaísDeLosJóvenes  http://sergiofajardo.co/2018/02/jovenes-futuro-abriremos-la-puerta-las-oportunidades/ …\n",
      "--\n",
      "#ElPaisDeLosJovenes  pic.twitter.com/YpZuWyxq9q\n",
      "--\n",
      "#FajardoPresidente , #ElPaísDeLosJóvenes\n",
      "--\n",
      "#ElPaísDeLosJóvenes definitivamente en los jóvenes está el futuro y los que marcarían la diferencia en las elecciones #sepuede\n",
      "--\n",
      "#ElPaísDeLosJóvenes  pic.twitter.com/BCISqAEqU9\n",
      "--\n",
      "Su humanidad, su profesionalismo y su seguridad me convencen cada vez más. @sergio_fajardo#ElPaisDeLosJovenes#Elecciones2018\n",
      "--\n",
      "#ElPaísDeLosJóvenes\n",
      "--\n",
      "Uno queriendo dormir... y ponen estas tentaciones #ElPaísDeLosJóvenes  pic.twitter.com/pV6pHh6dXH\n",
      "--\n",
      "#ElPaisDeLosJovenesLo siento pero tengo que hacerlo públicoLe tengo tanta tantaaaa fé a @sergio_fajardo#SePuede#FajardoPresidente\n",
      "--\n",
      "#ElPaísDeLosJóvenesLos 4500 reinsertados en medellin .son los actuales delincuentes que tenemos.\n",
      "--\n",
      "#ElPaisDeLosJovenes @German_Vargas será el primer policía del pais. @sergio_fajardo será el primer maestro del pais. Señor Juez, eso lo dice todo\n",
      "--\n",
      "#ElPaísDeLosJóvenes  pic.twitter.com/dMWLVh1p0y\n",
      "--\n",
      "#ElPaisDeLosJovenes #FajardoPresidente respuestas claras!\n",
      "--\n"
     ]
    }
   ],
   "source": [
    "print(len(grupo4))\n",
    "for e in range(300,320):\n",
    "    print(tweets[grupo4[e]])\n",
    "    print('--')"
   ]
  },
  {
   "cell_type": "markdown",
   "metadata": {},
   "source": [
    "text rank, gensim, rake, obtengo keywords\n",
    "limpieza\n",
    "en spacy reconocimiento de nombres y adjetivos\n",
    "\n",
    "\n",
    "skipgram"
   ]
  }
 ],
 "metadata": {
  "kernelspec": {
   "display_name": "Python 3",
   "language": "python",
   "name": "python3"
  },
  "language_info": {
   "codemirror_mode": {
    "name": "ipython",
    "version": 3
   },
   "file_extension": ".py",
   "mimetype": "text/x-python",
   "name": "python",
   "nbconvert_exporter": "python",
   "pygments_lexer": "ipython3",
   "version": "3.5.3"
  }
 },
 "nbformat": 4,
 "nbformat_minor": 2
}
