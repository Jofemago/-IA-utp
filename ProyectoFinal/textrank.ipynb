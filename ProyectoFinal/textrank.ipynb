{
 "cells": [
  {
   "cell_type": "markdown",
   "metadata": {},
   "source": [
    "# ANALISIS TEXT RANK"
   ]
  },
  {
   "cell_type": "code",
   "execution_count": 39,
   "metadata": {},
   "outputs": [],
   "source": [
    "# -*- coding: utf-8 -*-\n",
    "import pandas as pd\n",
    "import numpy as np\n",
    "from sklearn.cluster import KMeans \n",
    "import spacy\n",
    "#importamos la libreria que realizara los grupos\n",
    "import matplotlib.pyplot as plt\n",
    "%matplotlib inline \n",
    "datos = pd.read_csv('DebateFinal.csv', header = 0)"
   ]
  },
  {
   "cell_type": "code",
   "execution_count": 7,
   "metadata": {},
   "outputs": [
    {
     "name": "stdout",
     "output_type": "stream",
     "text": [
      "3000\n",
      "<class 'str'>\n"
     ]
    }
   ],
   "source": [
    "tweets = datos['tweet']\n",
    "tweets = list(tweets.ix[0:2999])\n",
    "print(len(tweets))\n",
    "#reviso el tipo de dato de un tweet\n",
    "print(type(tweets[0]))"
   ]
  },
  {
   "cell_type": "code",
   "execution_count": 8,
   "metadata": {},
   "outputs": [
    {
     "name": "stdout",
     "output_type": "stream",
     "text": [
      "#LeySeca #DebateFinal #ColombiaDecide #EleccionesColombia #Elecciones2018 #EleccionesPresidenciales2018 Huila: la jornada en cifrasPuestos de votación 215Mesas 2.178Personas habilitadas para sufragar 817.464Jurados de votación 14.475 Y más en ....  https://goo.gl/JDxHHG \n",
      "Retweeted Lorena <Emoji: Victory hand><Emoji: Victory hand> (@lorenita_sua):Si Duque va a desmantelar el crimen organizado, va acabar entonces con el Centro Democrático? #DebateFinal\n"
     ]
    }
   ],
   "source": [
    "\n",
    "print(tweets[0])\n",
    "print(tweets[1])\n",
    "nlp = spacy.load('es')"
   ]
  },
  {
   "cell_type": "markdown",
   "metadata": {},
   "source": [
    "## tokenizamos"
   ]
  },
  {
   "cell_type": "code",
   "execution_count": 9,
   "metadata": {},
   "outputs": [
    {
     "name": "stdout",
     "output_type": "stream",
     "text": [
      "3000\n"
     ]
    }
   ],
   "source": [
    "NroTweets = len(tweets)\n",
    "print(NroTweets)\n",
    "#prueba = 10\n",
    "Msimilaridad = np.zeros((NroTweets, NroTweets))\n",
    "twToken = [nlp(tw) for tw in tweets]"
   ]
  },
  {
   "cell_type": "markdown",
   "metadata": {},
   "source": [
    "## Creamos matriz de similaridad"
   ]
  },
  {
   "cell_type": "code",
   "execution_count": 10,
   "metadata": {},
   "outputs": [],
   "source": [
    "for i in range(NroTweets):\n",
    "    for j in range(NroTweets):\n",
    "        Msimilaridad[i][j] = twToken[i].similarity(twToken[j])\n"
   ]
  },
  {
   "cell_type": "code",
   "execution_count": 11,
   "metadata": {},
   "outputs": [
    {
     "name": "stdout",
     "output_type": "stream",
     "text": [
      "[[1.         0.64024656 0.6931933  ... 0.67553587 0.48443202 0.62138811]\n",
      " [0.64024656 1.         0.75335483 ... 0.54453097 0.59233268 0.69839828]\n",
      " [0.6931933  0.75335483 1.         ... 0.66107627 0.52927477 0.73747574]\n",
      " ...\n",
      " [0.67553587 0.54453097 0.66107627 ... 1.         0.57266873 0.77232728]\n",
      " [0.48443202 0.59233268 0.52927477 ... 0.57266873 1.         0.65248724]\n",
      " [0.62138811 0.69839828 0.73747574 ... 0.77232728 0.65248724 1.        ]]\n"
     ]
    }
   ],
   "source": [
    "print(Msimilaridad)"
   ]
  },
  {
   "cell_type": "markdown",
   "metadata": {},
   "source": [
    "## Creamos grupos para analisis de page rank"
   ]
  },
  {
   "cell_type": "code",
   "execution_count": 12,
   "metadata": {},
   "outputs": [],
   "source": [
    "Grupos = {}\n",
    "for tw in range(NroTweets):\n",
    "    Grupos[tweets[tw]] = []\n",
    "    for cmptw in range(NroTweets):\n",
    "        if Msimilaridad[tw][cmptw] >= 0.90:\n",
    "            #if tw != cmptw:\n",
    "            Grupos[tweets[tw]].append(tweets[cmptw])\n",
    "            "
   ]
  },
  {
   "cell_type": "code",
   "execution_count": 13,
   "metadata": {},
   "outputs": [
    {
     "name": "stdout",
     "output_type": "stream",
     "text": [
      "3000\n"
     ]
    }
   ],
   "source": [
    "cant = 0\n",
    "for tw in range(NroTweets):\n",
    "    if len(Grupos[tweets[tw]]) > 0:\n",
    "        cant += 1\n",
    "\n",
    "print(cant)\n"
   ]
  },
  {
   "cell_type": "code",
   "execution_count": 14,
   "metadata": {},
   "outputs": [
    {
     "data": {
      "image/png": "[encoded data removed]",
      "text/plain": [
       "<matplotlib.figure.Figure at 0x7f9b7f9707f0>"
      ]
     },
     "metadata": {},
     "output_type": "display_data"
    }
   ],
   "source": [
    "grordenado = sorted(Grupos.values(), key = lambda k : len(k))\n",
    "tambar = [len(gr) for gr in grordenado]\n",
    "X = range(len(tambar))\n",
    "plt.bar(X, tambar, label = 'Grupos basicos')\n",
    "plt.show()\n"
   ]
  },
  {
   "cell_type": "code",
   "execution_count": 16,
   "metadata": {},
   "outputs": [
    {
     "name": "stdout",
     "output_type": "stream",
     "text": [
      "92\n"
     ]
    }
   ],
   "source": [
    "#obtener los grupos que tengan mas de 10 tweets\n",
    "\n",
    "similares = []\n",
    "for e in grordenado:\n",
    "    if len(e) >= 50:\n",
    "        similares.append(e)\n",
    "#print(tambar)\n",
    "print(len(similares))"
   ]
  },
  {
   "cell_type": "code",
   "execution_count": 28,
   "metadata": {},
   "outputs": [],
   "source": [
    "parrafos = []\n",
    "for twts in similares:\n",
    "    parrafos.append(\" \".join(twts))\n"
   ]
  },
  {
   "cell_type": "code",
   "execution_count": 31,
   "metadata": {},
   "outputs": [
    {
     "name": "stdout",
     "output_type": "stream",
     "text": [
      "92\n"
     ]
    }
   ],
   "source": [
    "print(len(parrafos))"
   ]
  },
  {
   "cell_type": "code",
   "execution_count": 37,
   "metadata": {},
   "outputs": [],
   "source": [
    "from gensim.summarization import keywords\n",
    "kwords = []\n",
    "for p in parrafos:\n",
    "    kwords.append(keywords(p).split('\\n')[0:5])\n",
    "\n"
   ]
  },
  {
   "cell_type": "code",
   "execution_count": 38,
   "metadata": {},
   "outputs": [
    {
     "name": "stdout",
     "output_type": "stream",
     "text": [
      "[['emoji', 'debatefinal', 'que', 'https', 'http'], ['debatefinal', 'https', 'http', 'pic', 'colombiadecide'], ['emoji', 'debatefinal', 'https', 'http', 'pic'], ['debatefinal', 'https', 'http', 'colombiadecide', 'صلاله_الان'], ['debatefinal', 'https', 'http', 'pic', 'emoji'], ['debatefinal', 'colombiadecide', 'pic', 'https', 'http'], ['debatefinal', 'emoji', 'https', 'http', 'saafniyatsahivikas'], ['debatefinal', 'https', 'http', 'saafniyatsahivikas', 'pic'], ['debatefinal', 'https', 'http', 'saafniyatsahivikas', 'pic'], ['debatefinal', 'https', 'http', 'pic', 'colombiadecide'], ['debatefinal', 'https', 'http', 'pic', 'colombiadecide'], ['debatefinal', 'colombiadecide', 'https', 'http', 'pic'], ['debatefinal', 'colombiadecide', 'pic', 'https', 'http'], ['debatefinal', 'https', 'http', 'saafniyatsahivikas', 'pic'], ['debatefinal', 'https', 'http', 'saafniyatsahivikas', 'colombiadecide'], ['debatefinal', 'https', 'http', 'saafniyatsahivikas', 'colombiadecide'], ['debatefinal', 'https', 'http', 'colombiadecide', 'saafniyatsahivikas'], ['debatefinal', 'https', 'http', 'pic', 'saafniyatsahivikas'], ['debatefinal', 'https', 'http', 'colombiadecide', 'pic'], ['debatefinal', 'https', 'http', 'colombiadecide', 'pic'], ['debatefinal', 'https', 'http', 'colombiadecide', 'pic'], ['debatefinal', 'colombiadecide', 'https', 'http', 'pic'], ['debatefinal', 'https', 'http', 'colombiadecide', 'pic'], ['debatefinal', 'https', 'http', 'colombiadecide', 'pic'], ['debatefinal', 'https', 'http', 'pic', 'colombiadecide'], ['debatefinal', 'https', 'http', 'colombiadecide', 'saafniyatsahivikas'], ['debatefinal', 'https', 'http', 'colombiadecide', 'pic'], ['debatefinal', 'https', 'http', 'colombiadecide', 'pic'], ['debatefinal', 'https', 'http', 'emoji', 'pic'], ['debatefinal', 'colombiadecide', 'https', 'http', 'pic'], ['debatefinal', 'https', 'http', 'colombiadecide', 'pic'], ['debatefinal', 'https', 'http', 'colombiadecide', 'pic'], ['debatefinal', 'https', 'http', 'colombiadecide', 'pic'], ['debatefinal', 'https', 'http', 'colombiadecide', 'pic'], ['debatefinal', 'https', 'http', 'colombiadecide', 'pic'], ['debatefinal', 'https', 'http', 'colombiadecide', 'pic'], ['debatefinal', 'colombiadecide', 'https', 'http', 'pic'], ['debatefinal', 'https', 'http', 'colombiadecide', 'pic'], ['debatefinal', 'https', 'http', 'colombiadecide', 'pic'], ['debatefinal', 'https', 'http', 'pic', 'saafniyatsahivikas'], ['debatefinal', 'https', 'http', 'colombiadecide', 'pic'], ['debatefinal', 'https', 'http', 'colombiadecide', 'pic'], ['debatefinal', 'https', 'http', 'colombiadecide', 'pic'], ['debatefinal', 'https', 'http', 'colombiadecide', 'pic'], ['debatefinal', 'https', 'http', 'colombiadecide', 'pic'], ['debatefinal', 'https', 'http', 'colombiadecide', 'pic'], ['debatefinal', 'https', 'http', 'emoji', 'pic'], ['debatefinal', 'https', 'http', 'colombiadecide', 'pic'], ['debatefinal', 'https', 'http', 'colombiadecide', 'pic'], ['debatefinal', 'https', 'http', 'colombiadecide', 'pic'], ['debatefinal', 'https', 'http', 'colombiadecide', 'pic'], ['debatefinal', 'https', 'http', 'colombiadecide', 'pic'], ['debatefinal', 'https', 'http', 'colombiadecide', 'pic'], ['debatefinal', 'https', 'http', 'colombiadecide', 'pic'], ['debatefinal', 'https', 'http', 'colombiadecide', 'pic'], ['debatefinal', 'https', 'http', 'colombiadecide', 'pic'], ['debatefinal', 'colombiadecide', 'https', 'http', 'pic'], ['debatefinal', 'https', 'http', 'colombiadecide', 'pic'], ['debatefinal', 'https', 'http', 'colombiadecide', 'pic'], ['debatefinal', 'https', 'http', 'colombiadecide', 'pic'], ['debatefinal', 'https', 'http', 'colombiadecide', 'pic'], ['debatefinal', 'https', 'http', 'colombiadecide', 'pic'], ['debatefinal', 'https', 'http', 'colombiadecide', 'pic'], ['debatefinal', 'https', 'http', 'colombiadecide', 'pic'], ['debatefinal', 'https', 'http', 'pic', 'colombiadecide'], ['debatefinal', 'https', 'http', 'colombiadecide', 'pic'], ['debatefinal', 'https', 'http', 'colombiadecide', 'pic'], ['debatefinal', 'https', 'http', 'colombiadecide', 'pic'], ['debatefinal', 'https', 'http', 'colombiadecide', 'pic'], ['debatefinal', 'https', 'http', 'colombiadecide', 'pic'], ['debatefinal', 'https', 'http', 'colombiadecide', 'pic'], ['debatefinal', 'https', 'http', 'colombiadecide', 'pic'], ['debatefinal', 'https', 'http', 'colombiadecide', 'pic'], ['debatefinal', 'https', 'http', 'colombiadecide', 'pic'], ['debatefinal', 'https', 'http', 'colombiadecide', 'pic'], ['debatefinal', 'https', 'http', 'colombiadecide', 'pic'], ['debatefinal', 'https', 'http', 'colombiadecide', 'pic'], ['debatefinal', 'https', 'http', 'colombiadecide', 'pic'], ['debatefinal', 'https', 'http', 'colombiadecide', 'pic'], ['debatefinal', 'https', 'http', 'colombiadecide', 'pic'], ['debatefinal', 'https', 'http', 'colombiadecide', 'pic'], ['debatefinal', 'https', 'http', 'colombiadecide', 'pic'], ['debatefinal', 'https', 'http', 'colombiadecide', 'pic'], ['debatefinal', 'https', 'http', 'colombiadecide', 'pic'], ['debatefinal', 'https', 'http', 'colombiadecide', 'pic'], ['debatefinal', 'https', 'http', 'colombiadecide', 'pic'], ['debatefinal', 'https', 'http', 'colombiadecide', 'pic'], ['debatefinal', 'https', 'http', 'colombiadecide', 'pic'], ['debatefinal', 'https', 'http', 'colombiadecide', 'pic'], ['debatefinal', 'https', 'http', 'colombiadecide', 'pic'], ['debatefinal', 'https', 'http', 'colombiadecide', 'pic'], ['debatefinal', 'https', 'http', 'colombiadecide', 'pic']]\n"
     ]
    }
   ],
   "source": [
    "print(kwords)"
   ]
  }
 ],
 "metadata": {
  "kernelspec": {
   "display_name": "Python 3",
   "language": "python",
   "name": "python3"
  },
  "language_info": {
   "codemirror_mode": {
    "name": "ipython",
    "version": 3
   },
   "file_extension": ".py",
   "mimetype": "text/x-python",
   "name": "python",
   "nbconvert_exporter": "python",
   "pygments_lexer": "ipython3",
   "version": "3.5.3"
  }
 },
 "nbformat": 4,
 "nbformat_minor": 2
}
